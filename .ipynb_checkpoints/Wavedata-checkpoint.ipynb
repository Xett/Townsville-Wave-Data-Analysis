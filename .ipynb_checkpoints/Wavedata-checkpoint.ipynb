{
 "cells": [
  {
   "cell_type": "code",
   "execution_count": 1,
   "metadata": {},
   "outputs": [],
   "source": [
    "import pandas as pd\n",
    "import numpy as np\n",
    "import seaborn as sns\n",
    "import matplotlib.pyplot as plt"
   ]
  },
  {
   "cell_type": "code",
   "execution_count": 3,
   "metadata": {},
   "outputs": [],
   "source": [
    "wavedata=pd.read_csv('data files/townsville-wavedata-1975-2019.csv', low_memory=False)\n",
    "pd.set_option('display.float_format', lambda x:'%f'%x)"
   ]
  },
  {
   "cell_type": "code",
   "execution_count": 4,
   "metadata": {
    "scrolled": true
   },
   "outputs": [
    {
     "data": {
      "text/html": [
       "<div>\n",
       "<style scoped>\n",
       "    .dataframe tbody tr th:only-of-type {\n",
       "        vertical-align: middle;\n",
       "    }\n",
       "\n",
       "    .dataframe tbody tr th {\n",
       "        vertical-align: top;\n",
       "    }\n",
       "\n",
       "    .dataframe thead th {\n",
       "        text-align: right;\n",
       "    }\n",
       "</style>\n",
       "<table border=\"1\" class=\"dataframe\">\n",
       "  <thead>\n",
       "    <tr style=\"text-align: right;\">\n",
       "      <th></th>\n",
       "      <th>Date/Time</th>\n",
       "      <th>Hs</th>\n",
       "      <th>Hmax</th>\n",
       "      <th>Tz</th>\n",
       "      <th>Tp</th>\n",
       "      <th>Dir_Tp TRUE</th>\n",
       "      <th>SST</th>\n",
       "    </tr>\n",
       "  </thead>\n",
       "  <tbody>\n",
       "    <tr>\n",
       "      <th>0</th>\n",
       "      <td>1975-11-20T15:00:00</td>\n",
       "      <td>0.830000</td>\n",
       "      <td>1.510000</td>\n",
       "      <td>3.350000</td>\n",
       "      <td>5.690000</td>\n",
       "      <td>nan</td>\n",
       "      <td>nan</td>\n",
       "    </tr>\n",
       "    <tr>\n",
       "      <th>1</th>\n",
       "      <td>1975-11-21T03:00:00</td>\n",
       "      <td>0.690000</td>\n",
       "      <td>1.070000</td>\n",
       "      <td>3.300000</td>\n",
       "      <td>5.390000</td>\n",
       "      <td>nan</td>\n",
       "      <td>nan</td>\n",
       "    </tr>\n",
       "    <tr>\n",
       "      <th>2</th>\n",
       "      <td>1975-11-21T15:00:00</td>\n",
       "      <td>0.340000</td>\n",
       "      <td>0.590000</td>\n",
       "      <td>3.330000</td>\n",
       "      <td>4.760000</td>\n",
       "      <td>nan</td>\n",
       "      <td>nan</td>\n",
       "    </tr>\n",
       "    <tr>\n",
       "      <th>3</th>\n",
       "      <td>1975-11-22T03:00:00</td>\n",
       "      <td>0.310000</td>\n",
       "      <td>0.510000</td>\n",
       "      <td>2.900000</td>\n",
       "      <td>6.770000</td>\n",
       "      <td>nan</td>\n",
       "      <td>nan</td>\n",
       "    </tr>\n",
       "    <tr>\n",
       "      <th>4</th>\n",
       "      <td>1975-11-22T15:00:00</td>\n",
       "      <td>0.250000</td>\n",
       "      <td>0.510000</td>\n",
       "      <td>2.500000</td>\n",
       "      <td>7.020000</td>\n",
       "      <td>nan</td>\n",
       "      <td>nan</td>\n",
       "    </tr>\n",
       "    <tr>\n",
       "      <th>5</th>\n",
       "      <td>1975-11-23T03:00:00</td>\n",
       "      <td>0.520000</td>\n",
       "      <td>1.040000</td>\n",
       "      <td>2.670000</td>\n",
       "      <td>3.400000</td>\n",
       "      <td>nan</td>\n",
       "      <td>nan</td>\n",
       "    </tr>\n",
       "    <tr>\n",
       "      <th>6</th>\n",
       "      <td>1975-11-23T15:00:00</td>\n",
       "      <td>0.550000</td>\n",
       "      <td>0.890000</td>\n",
       "      <td>2.720000</td>\n",
       "      <td>3.780000</td>\n",
       "      <td>nan</td>\n",
       "      <td>nan</td>\n",
       "    </tr>\n",
       "    <tr>\n",
       "      <th>7</th>\n",
       "      <td>1975-11-24T03:00:00</td>\n",
       "      <td>0.360000</td>\n",
       "      <td>0.710000</td>\n",
       "      <td>2.480000</td>\n",
       "      <td>4.000000</td>\n",
       "      <td>nan</td>\n",
       "      <td>nan</td>\n",
       "    </tr>\n",
       "    <tr>\n",
       "      <th>8</th>\n",
       "      <td>1975-11-24T15:00:00</td>\n",
       "      <td>0.430000</td>\n",
       "      <td>-99.000000</td>\n",
       "      <td>2.590000</td>\n",
       "      <td>4.480000</td>\n",
       "      <td>nan</td>\n",
       "      <td>nan</td>\n",
       "    </tr>\n",
       "    <tr>\n",
       "      <th>9</th>\n",
       "      <td>1975-11-25T03:00:00</td>\n",
       "      <td>0.400000</td>\n",
       "      <td>0.680000</td>\n",
       "      <td>2.500000</td>\n",
       "      <td>3.270000</td>\n",
       "      <td>nan</td>\n",
       "      <td>nan</td>\n",
       "    </tr>\n",
       "  </tbody>\n",
       "</table>\n",
       "</div>"
      ],
      "text/plain": [
       "             Date/Time       Hs       Hmax       Tz       Tp  Dir_Tp TRUE  SST\n",
       "0  1975-11-20T15:00:00 0.830000   1.510000 3.350000 5.690000          nan  nan\n",
       "1  1975-11-21T03:00:00 0.690000   1.070000 3.300000 5.390000          nan  nan\n",
       "2  1975-11-21T15:00:00 0.340000   0.590000 3.330000 4.760000          nan  nan\n",
       "3  1975-11-22T03:00:00 0.310000   0.510000 2.900000 6.770000          nan  nan\n",
       "4  1975-11-22T15:00:00 0.250000   0.510000 2.500000 7.020000          nan  nan\n",
       "5  1975-11-23T03:00:00 0.520000   1.040000 2.670000 3.400000          nan  nan\n",
       "6  1975-11-23T15:00:00 0.550000   0.890000 2.720000 3.780000          nan  nan\n",
       "7  1975-11-24T03:00:00 0.360000   0.710000 2.480000 4.000000          nan  nan\n",
       "8  1975-11-24T15:00:00 0.430000 -99.000000 2.590000 4.480000          nan  nan\n",
       "9  1975-11-25T03:00:00 0.400000   0.680000 2.500000 3.270000          nan  nan"
      ]
     },
     "execution_count": 4,
     "metadata": {},
     "output_type": "execute_result"
    }
   ],
   "source": [
    "wavedata.head(10)"
   ]
  },
  {
   "cell_type": "code",
   "execution_count": 6,
   "metadata": {},
   "outputs": [
    {
     "data": {
      "text/plain": [
       "0    1975-11-20T15:00:00\n",
       "1    1975-11-21T03:00:00\n",
       "2    1975-11-21T15:00:00\n",
       "3    1975-11-22T03:00:00\n",
       "4    1975-11-22T15:00:00\n",
       "5    1975-11-23T03:00:00\n",
       "6    1975-11-23T15:00:00\n",
       "7    1975-11-24T03:00:00\n",
       "8    1975-11-24T15:00:00\n",
       "9    1975-11-25T03:00:00\n",
       "Name: Date/Time, dtype: object"
      ]
     },
     "execution_count": 6,
     "metadata": {},
     "output_type": "execute_result"
    }
   ],
   "source": [
    "wavedata['Date/Time'].head(10)"
   ]
  },
  {
   "cell_type": "code",
   "execution_count": 11,
   "metadata": {},
   "outputs": [],
   "source": [
    "wavedata['Date/Time']=pd.to_datetime(wavedata['Date/Time'])"
   ]
  },
  {
   "cell_type": "code",
   "execution_count": 12,
   "metadata": {},
   "outputs": [
    {
     "data": {
      "text/plain": [
       "0   1975-11-20 15:00:00\n",
       "1   1975-11-21 03:00:00\n",
       "2   1975-11-21 15:00:00\n",
       "3   1975-11-22 03:00:00\n",
       "4   1975-11-22 15:00:00\n",
       "5   1975-11-23 03:00:00\n",
       "6   1975-11-23 15:00:00\n",
       "7   1975-11-24 03:00:00\n",
       "8   1975-11-24 15:00:00\n",
       "9   1975-11-25 03:00:00\n",
       "Name: Date/Time, dtype: datetime64[ns]"
      ]
     },
     "execution_count": 12,
     "metadata": {},
     "output_type": "execute_result"
    }
   ],
   "source": [
    "wavedata['Date/Time'].head(10)"
   ]
  },
  {
   "cell_type": "code",
   "execution_count": null,
   "metadata": {},
   "outputs": [],
   "source": []
  }
 ],
 "metadata": {
  "kernelspec": {
   "display_name": "Python 3",
   "language": "python",
   "name": "python3"
  },
  "language_info": {
   "codemirror_mode": {
    "name": "ipython",
    "version": 3
   },
   "file_extension": ".py",
   "mimetype": "text/x-python",
   "name": "python",
   "nbconvert_exporter": "python",
   "pygments_lexer": "ipython3",
   "version": "3.6.8"
  }
 },
 "nbformat": 4,
 "nbformat_minor": 2
}
