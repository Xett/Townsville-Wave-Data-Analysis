{
 "cells": [
  {
   "cell_type": "markdown",
   "metadata": {},
   "source": [
    "# Imports"
   ]
  },
  {
   "cell_type": "code",
   "execution_count": null,
   "metadata": {},
   "outputs": [],
   "source": [
    "import pandas as pd\n",
    "import numpy as np\n",
    "import seaborn as sns\n",
    "import matplotlib.pyplot as plt\n",
    "from sklearn import preprocessing\n",
    "import copy\n",
    "import time"
   ]
  },
  {
   "cell_type": "markdown",
   "metadata": {},
   "source": [
    "# Load Dataset"
   ]
  },
  {
   "cell_type": "code",
   "execution_count": null,
   "metadata": {},
   "outputs": [],
   "source": [
    "original_wavedata=pd.read_csv('data files/townsville-wavedata-1975-2019.csv', low_memory=False)\n",
    "pd.set_option('display.float_format', lambda x:'%f'%x)"
   ]
  },
  {
   "cell_type": "code",
   "execution_count": null,
   "metadata": {
    "scrolled": true
   },
   "outputs": [],
   "source": [
    "original_wavedata['Date/Time']=pd.to_datetime(original_wavedata['Date/Time'])\n",
    "original_wavedata=original_wavedata.set_index(pd.DatetimeIndex(original_wavedata['Date/Time']))"
   ]
  },
  {
   "cell_type": "markdown",
   "metadata": {},
   "source": [
    "# Function Definitions"
   ]
  },
  {
   "cell_type": "code",
   "execution_count": null,
   "metadata": {},
   "outputs": [],
   "source": [
    "def normalise_dataframe(dataframe):\n",
    "    x=copy.deepcopy(dataframe)\n",
    "    min_max_scaler=preprocessing.MinMaxScaler()\n",
    "    x_scaled=min_max_scaler.fit_transform(x)\n",
    "    normalised_dataframe=pd.DataFrame(x_scaled, columns=dataframe.columns, index=dataframe.index)\n",
    "    return normalised_dataframe"
   ]
  },
  {
   "cell_type": "markdown",
   "metadata": {},
   "source": [
    "# Remove Outliers"
   ]
  },
  {
   "cell_type": "code",
   "execution_count": null,
   "metadata": {},
   "outputs": [],
   "source": [
    "wavedata_adjusted=copy.deepcopy(original_wavedata)\n",
    "wavedata_adjusted['Hs']=wavedata_adjusted['Hs'][wavedata_adjusted.drop([\"Date/Time\", \"Hmax\", \"Tz\", \"Tp\", \"Dir_Tp TRUE\", \"SST\"], axis=1).apply(lambda x: np.abs(x - x.mean()) / x.std() < 3).all(axis=1)]\n",
    "wavedata_adjusted['Hmax']=wavedata_adjusted['Hmax'][wavedata_adjusted.drop([\"Date/Time\", \"Hs\", \"Tz\", \"Tp\", \"Dir_Tp TRUE\", \"SST\"], axis=1).apply(lambda x: np.abs(x - x.mean()) / x.std() < 3).all(axis=1)]\n",
    "wavedata_adjusted['Tz']=wavedata_adjusted['Tz'][wavedata_adjusted.drop([\"Date/Time\", \"Hs\", \"Hmax\", \"Tp\", \"Dir_Tp TRUE\", \"SST\"], axis=1).apply(lambda x: np.abs(x - x.mean()) / x.std() < 3).all(axis=1)]\n",
    "wavedata_adjusted['Tp']=wavedata_adjusted['Tp'][wavedata_adjusted.drop([\"Date/Time\", \"Hs\", \"Hmax\", \"Tz\", \"Dir_Tp TRUE\", \"SST\"], axis=1).apply(lambda x: np.abs(x - x.mean()) / x.std() < 3).all(axis=1)]\n",
    "wavedata_adjusted=wavedata_adjusted.drop([\"Date/Time\", \"Dir_Tp TRUE\", \"SST\"], axis=1).dropna()"
   ]
  },
  {
   "cell_type": "markdown",
   "metadata": {},
   "source": [
    "# Variable Declarations"
   ]
  },
  {
   "cell_type": "markdown",
   "metadata": {},
   "source": [
    "## Direction True North"
   ]
  },
  {
   "cell_type": "code",
   "execution_count": null,
   "metadata": {},
   "outputs": [],
   "source": [
    "original_dir_tp_months={}\n",
    "for i in range(1, 13):\n",
    "    original_dir_tp_months[i]=original_wavedata[original_wavedata[\"Date/Time\"].dt.month==i].drop([\"Date/Time\", \"Hs\", \"Hmax\", \"Tz\", \"Tp\", \"SST\"], axis=1)"
   ]
  },
  {
   "cell_type": "code",
   "execution_count": null,
   "metadata": {},
   "outputs": [],
   "source": [
    "original_dir_tp_summer=original_dir_tp_months[1].append(original_dir_tp_months[2].append(original_dir_tp_months[12]))\n",
    "original_dir_tp_autumn=original_dir_tp_months[3].append(original_dir_tp_months[4].append(original_dir_tp_months[5]))\n",
    "original_dir_tp_winter=original_dir_tp_months[6].append(original_dir_tp_months[7].append(original_dir_tp_months[8]))\n",
    "original_dir_tp_spring=original_dir_tp_months[9].append(original_dir_tp_months[10].append(original_dir_tp_months[11]))"
   ]
  },
  {
   "cell_type": "code",
   "execution_count": null,
   "metadata": {},
   "outputs": [],
   "source": [
    "original_dir_tp_weeks={}\n",
    "for i in range(1, 53):\n",
    "    original_dir_tp_weeks[i]=original_wavedata[original_wavedata[\"Date/Time\"].dt.week==i].drop([\"Date/Time\", \"Hs\", \"Hmax\", \"Tz\", \"Tp\", \"SST\"], axis=1)"
   ]
  },
  {
   "cell_type": "markdown",
   "metadata": {},
   "source": [
    "## Sea Surface Temperature"
   ]
  },
  {
   "cell_type": "code",
   "execution_count": null,
   "metadata": {},
   "outputs": [],
   "source": [
    "original_sst_months={}\n",
    "for i in range(1, 13):\n",
    "    original_sst_months[i]=original_wavedata[original_wavedata[\"Date/Time\"].dt.month==i].drop([\"Date/Time\", \"Hs\", \"Hmax\", \"Tz\", \"Tp\", \"Dir_Tp TRUE\"], axis=1)"
   ]
  },
  {
   "cell_type": "code",
   "execution_count": null,
   "metadata": {},
   "outputs": [],
   "source": [
    "original_sst_summer=original_sst_months[1].append(original_sst_months[2].append(original_sst_months[12]))\n",
    "original_sst_autumn=original_sst_months[3].append(original_sst_months[4].append(original_sst_months[5]))\n",
    "original_sst_winter=original_sst_months[6].append(original_sst_months[7].append(original_sst_months[8]))\n",
    "original_sst_spring=original_sst_months[9].append(original_sst_months[10].append(original_sst_months[11]))"
   ]
  },
  {
   "cell_type": "code",
   "execution_count": null,
   "metadata": {},
   "outputs": [],
   "source": [
    "original_sst_weeks={}\n",
    "for i in range(1, 53):\n",
    "    original_sst_weeks[i]=original_wavedata[original_wavedata[\"Date/Time\"].dt.week==i].drop([\"Date/Time\", \"Hs\", \"Hmax\", \"Tz\", \"Tp\", \"Dir_Tp TRUE\"], axis=1)"
   ]
  },
  {
   "cell_type": "markdown",
   "metadata": {},
   "source": [
    "### Day"
   ]
  },
  {
   "cell_type": "code",
   "execution_count": null,
   "metadata": {},
   "outputs": [],
   "source": [
    "original_sst_months_day={}\n",
    "for i in range(1, 13):\n",
    "    original_sst_months_day[i]=original_sst_months[i].between_time('6:00', '18:00')"
   ]
  },
  {
   "cell_type": "code",
   "execution_count": null,
   "metadata": {},
   "outputs": [],
   "source": [
    "original_sst_summer_day=original_sst_months_day[1].append(original_sst_months_day[2].append(original_sst_months_day[12]))\n",
    "original_sst_autumn_day=original_sst_months_day[3].append(original_sst_months_day[4].append(original_sst_months_day[5]))\n",
    "original_sst_winter_day=original_sst_months_day[6].append(original_sst_months_day[7].append(original_sst_months_day[8]))\n",
    "original_sst_spring_day=original_sst_months_day[9].append(original_sst_months_day[10].append(original_sst_months_day[11]))"
   ]
  },
  {
   "cell_type": "code",
   "execution_count": null,
   "metadata": {},
   "outputs": [],
   "source": [
    "original_sst_weeks_day={}\n",
    "for i in range(1, 53):\n",
    "    original_sst_weeks_day[i]=original_wavedata[original_wavedata[\"Date/Time\"].dt.week==i].drop([\"Date/Time\", \"Hs\", \"Hmax\", \"Tz\", \"Tp\", \"Dir_Tp TRUE\"], axis=1).between_time('6:00', '18:00')"
   ]
  },
  {
   "cell_type": "markdown",
   "metadata": {},
   "source": [
    "### Night"
   ]
  },
  {
   "cell_type": "code",
   "execution_count": null,
   "metadata": {},
   "outputs": [],
   "source": [
    "original_sst_months_night={}\n",
    "for i in range(1, 13):\n",
    "    original_sst_months_night[i]=original_sst_months[i].between_time('18:00', '6:00')"
   ]
  },
  {
   "cell_type": "code",
   "execution_count": null,
   "metadata": {},
   "outputs": [],
   "source": [
    "original_sst_summer_night=original_sst_months_night[1].append(original_sst_months_night[2].append(original_sst_months_night[12]))\n",
    "original_sst_autumn_night=original_sst_months_night[3].append(original_sst_months_night[4].append(original_sst_months_night[5]))\n",
    "original_sst_winter_night=original_sst_months_night[6].append(original_sst_months_night[7].append(original_sst_months_night[8]))\n",
    "original_sst_spring_night=original_sst_months_night[9].append(original_sst_months_night[10].append(original_sst_months_night[11]))"
   ]
  },
  {
   "cell_type": "code",
   "execution_count": null,
   "metadata": {},
   "outputs": [],
   "source": [
    "original_sst_weeks_night={}\n",
    "for i in range(1, 53):\n",
    "    original_sst_weeks_night[i]=original_wavedata[original_wavedata[\"Date/Time\"].dt.week==i].drop([\"Date/Time\", \"Hs\", \"Hmax\", \"Tz\", \"Tp\", \"Dir_Tp TRUE\"], axis=1).between_time('18:00', '6:00')"
   ]
  },
  {
   "cell_type": "markdown",
   "metadata": {},
   "source": [
    "# Remove Outliers and Fill NULL Values"
   ]
  },
  {
   "cell_type": "markdown",
   "metadata": {},
   "source": [
    "## Direction True North"
   ]
  },
  {
   "cell_type": "markdown",
   "metadata": {},
   "source": [
    "### Month"
   ]
  },
  {
   "cell_type": "markdown",
   "metadata": {},
   "source": [
    "#### Remove Outliers"
   ]
  },
  {
   "cell_type": "code",
   "execution_count": null,
   "metadata": {},
   "outputs": [],
   "source": [
    "dir_tp_months_removed_outliers={}\n",
    "for i in range(1, 13):\n",
    "    dir_tp_months_removed_outliers[i]=original_dir_tp_months[i][original_dir_tp_months[i].apply(lambda x: np.abs(x - x.mean()) / x.std() < 3).all(axis=1)]"
   ]
  },
  {
   "cell_type": "markdown",
   "metadata": {},
   "source": [
    "#### Calculate Means"
   ]
  },
  {
   "cell_type": "code",
   "execution_count": null,
   "metadata": {},
   "outputs": [],
   "source": [
    "dir_tp_months_mean={}\n",
    "for i in range(1, 13):\n",
    "    dir_tp_months_mean[i]=dir_tp_months_removed_outliers[i].mean()"
   ]
  },
  {
   "cell_type": "markdown",
   "metadata": {},
   "source": [
    "#### Create Adjusted Dataframe"
   ]
  },
  {
   "cell_type": "code",
   "execution_count": null,
   "metadata": {},
   "outputs": [],
   "source": [
    "dir_tp_months_adjusted=original_wavedata.drop([\"Hs\", \"Hmax\", \"Tz\", \"Tp\", \"SST\"], axis=1)\n",
    "for i in range(1, 13):\n",
    "    dir_tp_months_adjusted[dir_tp_months_adjusted[\"Date/Time\"].dt.month==i]=dir_tp_months_adjusted[dir_tp_months_adjusted[\"Date/Time\"].dt.month==i].replace(np.nan, dir_tp_months_mean[i])"
   ]
  },
  {
   "cell_type": "markdown",
   "metadata": {},
   "source": [
    "#### Remove Outliers from Adjusted Dataframe"
   ]
  },
  {
   "cell_type": "code",
   "execution_count": null,
   "metadata": {},
   "outputs": [],
   "source": [
    "dir_tp_months_adjusted=dir_tp_months_adjusted.drop([\"Date/Time\"], axis=1)\n",
    "dir_tp_months_adjusted=dir_tp_months_adjusted[dir_tp_months_adjusted.apply(lambda x: np.abs(x - x.mean()) / x.std() < 3).all(axis=1)]"
   ]
  },
  {
   "cell_type": "markdown",
   "metadata": {},
   "source": [
    "### Seasonal"
   ]
  },
  {
   "cell_type": "markdown",
   "metadata": {},
   "source": [
    "#### Remove Outliers"
   ]
  },
  {
   "cell_type": "code",
   "execution_count": null,
   "metadata": {},
   "outputs": [],
   "source": [
    "dir_tp_summer_removed_outliers=original_dir_tp_summer[original_dir_tp_summer.apply(lambda x: np.abs(x - x.mean()) / x.std() < 3).all(axis=1)]\n",
    "dir_tp_autumn_removed_outliers=original_dir_tp_autumn[original_dir_tp_autumn.apply(lambda x: np.abs(x - x.mean()) / x.std() < 3).all(axis=1)]\n",
    "dir_tp_winter_removed_outliers=original_dir_tp_winter[original_dir_tp_winter.apply(lambda x: np.abs(x - x.mean()) / x.std() < 3).all(axis=1)]\n",
    "dir_tp_spring_removed_outliers=original_dir_tp_spring[original_dir_tp_spring.apply(lambda x: np.abs(x - x.mean()) / x.std() < 3).all(axis=1)]"
   ]
  },
  {
   "cell_type": "markdown",
   "metadata": {},
   "source": [
    "#### Calculate Mean"
   ]
  },
  {
   "cell_type": "code",
   "execution_count": null,
   "metadata": {},
   "outputs": [],
   "source": [
    "dir_tp_summer_mean=dir_tp_summer_removed_outliers.mean()\n",
    "dir_tp_autumn_mean=dir_tp_autumn_removed_outliers.mean()\n",
    "dir_tp_winter_mean=dir_tp_winter_removed_outliers.mean()\n",
    "dir_tp_spring_mean=dir_tp_spring_removed_outliers.mean()"
   ]
  },
  {
   "cell_type": "markdown",
   "metadata": {},
   "source": [
    "#### Create Adjusted Dataframe"
   ]
  },
  {
   "cell_type": "code",
   "execution_count": null,
   "metadata": {},
   "outputs": [],
   "source": [
    "dir_tp_summer_adjusted=original_dir_tp_summer\n",
    "dir_tp_autumn_adjusted=original_dir_tp_autumn\n",
    "dir_tp_winter_adjusted=original_dir_tp_winter\n",
    "dir_tp_spring_adjusted=original_dir_tp_spring\n",
    "dir_tp_summer_adjusted=dir_tp_summer_adjusted.replace(np.nan, dir_tp_summer_mean)\n",
    "dir_tp_autumn_adjusted=dir_tp_autumn_adjusted.replace(np.nan, dir_tp_autumn_mean)\n",
    "dir_tp_winter_adjusted=dir_tp_winter_adjusted.replace(np.nan, dir_tp_winter_mean)\n",
    "dir_tp_spring_adjusted=dir_tp_spring_adjusted.replace(np.nan, dir_tp_spring_mean)"
   ]
  },
  {
   "cell_type": "markdown",
   "metadata": {},
   "source": [
    "#### Remove Outliers from Adjusted Dataframe"
   ]
  },
  {
   "cell_type": "code",
   "execution_count": null,
   "metadata": {},
   "outputs": [],
   "source": [
    "dir_tp_summer_adjusted=dir_tp_summer_adjusted[dir_tp_summer_adjusted.apply(lambda x: np.abs(x - x.mean()) / x.std() < 3).all(axis=1)]\n",
    "dir_tp_autumn_adjusted=dir_tp_autumn_adjusted[dir_tp_autumn_adjusted.apply(lambda x: np.abs(x - x.mean()) / x.std() < 3).all(axis=1)]\n",
    "dir_tp_winter_adjusted=dir_tp_winter_adjusted[dir_tp_winter_adjusted.apply(lambda x: np.abs(x - x.mean()) / x.std() < 3).all(axis=1)]\n",
    "dir_tp_spring_adjusted=dir_tp_spring_adjusted[dir_tp_spring_adjusted.apply(lambda x: np.abs(x - x.mean()) / x.std() < 3).all(axis=1)]\n",
    "dir_tp_season_adjusted=dir_tp_summer_adjusted.append(dir_tp_autumn_adjusted.append(dir_tp_winter_adjusted.append(dir_tp_spring_adjusted)))"
   ]
  },
  {
   "cell_type": "markdown",
   "metadata": {},
   "source": [
    "### Weeks"
   ]
  },
  {
   "cell_type": "markdown",
   "metadata": {},
   "source": [
    "#### Remove Outliers"
   ]
  },
  {
   "cell_type": "code",
   "execution_count": null,
   "metadata": {},
   "outputs": [],
   "source": [
    "dir_tp_weeks_removed_outliers={}\n",
    "for i in range(1, 53):\n",
    "    dir_tp_weeks_removed_outliers[i]=original_dir_tp_weeks[i][original_dir_tp_weeks[i].apply(lambda x: np.abs(x - x.mean()) / x.std() < 3).all(axis=1)]"
   ]
  },
  {
   "cell_type": "markdown",
   "metadata": {},
   "source": [
    "#### Calculate Means"
   ]
  },
  {
   "cell_type": "code",
   "execution_count": null,
   "metadata": {},
   "outputs": [],
   "source": [
    "dir_tp_weeks_mean={}\n",
    "for i in range(1, 53):\n",
    "    dir_tp_weeks_mean[i]=dir_tp_weeks_removed_outliers[i].mean()"
   ]
  },
  {
   "cell_type": "markdown",
   "metadata": {},
   "source": [
    "#### Create Adjusted Dataframe"
   ]
  },
  {
   "cell_type": "code",
   "execution_count": null,
   "metadata": {},
   "outputs": [],
   "source": [
    "dir_tp_weeks_adjusted=original_wavedata.drop([\"Hs\", \"Hmax\", \"Tz\", \"Tp\", \"SST\"], axis=1)\n",
    "for i in range(1, 53):\n",
    "    dir_tp_weeks_adjusted[dir_tp_weeks_adjusted[\"Date/Time\"].dt.week==i]=dir_tp_weeks_adjusted[dir_tp_weeks_adjusted[\"Date/Time\"].dt.week==i].replace(np.nan, dir_tp_weeks_mean[i])"
   ]
  },
  {
   "cell_type": "markdown",
   "metadata": {},
   "source": [
    "#### Remove Outliers from Adjusted Dataframe"
   ]
  },
  {
   "cell_type": "code",
   "execution_count": null,
   "metadata": {},
   "outputs": [],
   "source": [
    "dir_tp_weeks_adjusted=dir_tp_weeks_adjusted.drop([\"Date/Time\"], axis=1)\n",
    "dir_tp_weeks_adjusted=dir_tp_weeks_adjusted[dir_tp_weeks_adjusted.apply(lambda x: np.abs(x - x.mean()) / x.std() < 3).all(axis=1)]"
   ]
  },
  {
   "cell_type": "markdown",
   "metadata": {},
   "source": [
    "## Sea Surface Temperature"
   ]
  },
  {
   "cell_type": "markdown",
   "metadata": {},
   "source": [
    "### Day"
   ]
  },
  {
   "cell_type": "markdown",
   "metadata": {},
   "source": [
    "#### Months"
   ]
  },
  {
   "cell_type": "markdown",
   "metadata": {},
   "source": [
    "##### Remove Outliers"
   ]
  },
  {
   "cell_type": "code",
   "execution_count": null,
   "metadata": {},
   "outputs": [],
   "source": [
    "sst_months_day_removed_outliers={}\n",
    "for i in range(1, 13):\n",
    "    sst_months_day_removed_outliers[i]=original_sst_months_day[i][original_sst_months_day[i].apply(lambda x: np.abs(x - x.mean()) / x.std() < 3).all(axis=1)]"
   ]
  },
  {
   "cell_type": "markdown",
   "metadata": {},
   "source": [
    "##### Calculate Means"
   ]
  },
  {
   "cell_type": "code",
   "execution_count": null,
   "metadata": {},
   "outputs": [],
   "source": [
    "sst_months_day_mean={}\n",
    "for i in range(1, 13):\n",
    "    sst_months_day_mean[i]=sst_months_day_removed_outliers[i].mean()"
   ]
  },
  {
   "cell_type": "markdown",
   "metadata": {},
   "source": [
    "##### Create Adjusted Dataframes"
   ]
  },
  {
   "cell_type": "code",
   "execution_count": null,
   "metadata": {},
   "outputs": [],
   "source": [
    "sst_months_day_adjusted=original_wavedata.drop([\"Hs\", \"Hmax\", \"Tz\", \"Tp\", \"Dir_Tp TRUE\"], axis=1).between_time('6:00', '18:00')\n",
    "for i in range(1, 13):\n",
    "    sst_months_day_adjusted[sst_months_day_adjusted[\"Date/Time\"].dt.month==i]=sst_months_day_adjusted[sst_months_day_adjusted[\"Date/Time\"].dt.month==i].replace(np.nan, sst_months_day_mean[i])"
   ]
  },
  {
   "cell_type": "markdown",
   "metadata": {},
   "source": [
    "##### Remove Outliers from Adjusted Dataframes"
   ]
  },
  {
   "cell_type": "code",
   "execution_count": null,
   "metadata": {},
   "outputs": [],
   "source": [
    "sst_months_day_adjusted=sst_months_day_adjusted.drop([\"Date/Time\"], axis=1)\n",
    "sst_months_day_adjusted=sst_months_day_adjusted[sst_months_day_adjusted.apply(lambda x: np.abs(x - x.mean()) / x.std() < 3).all(axis=1)]"
   ]
  },
  {
   "cell_type": "markdown",
   "metadata": {},
   "source": [
    "#### Seasons"
   ]
  },
  {
   "cell_type": "markdown",
   "metadata": {},
   "source": [
    "##### Remove Outliers"
   ]
  },
  {
   "cell_type": "code",
   "execution_count": null,
   "metadata": {},
   "outputs": [],
   "source": [
    "sst_summer_day_removed_outliers=original_sst_summer_day[original_sst_summer_day.apply(lambda x: np.abs(x - x.mean()) / x.std() < 3).all(axis=1)]\n",
    "sst_autumn_day_removed_outliers=original_sst_autumn_day[original_sst_autumn_day.apply(lambda x: np.abs(x - x.mean()) / x.std() < 3).all(axis=1)]\n",
    "sst_winter_day_removed_outliers=original_sst_winter_day[original_sst_winter_day.apply(lambda x: np.abs(x - x.mean()) / x.std() < 3).all(axis=1)]\n",
    "sst_spring_day_removed_outliers=original_sst_spring_day[original_sst_spring_day.apply(lambda x: np.abs(x - x.mean()) / x.std() < 3).all(axis=1)]"
   ]
  },
  {
   "cell_type": "markdown",
   "metadata": {},
   "source": [
    "##### Calculate Means"
   ]
  },
  {
   "cell_type": "code",
   "execution_count": null,
   "metadata": {},
   "outputs": [],
   "source": [
    "sst_summer_day_mean=sst_summer_day_removed_outliers.mean()\n",
    "sst_autumn_day_mean=sst_autumn_day_removed_outliers.mean()\n",
    "sst_winter_day_mean=sst_winter_day_removed_outliers.mean()\n",
    "sst_spring_day_mean=sst_spring_day_removed_outliers.mean()"
   ]
  },
  {
   "cell_type": "markdown",
   "metadata": {},
   "source": [
    "##### Create Adjusted Dataframes"
   ]
  },
  {
   "cell_type": "code",
   "execution_count": null,
   "metadata": {},
   "outputs": [],
   "source": [
    "sst_summer_day_adjusted=original_sst_summer_day\n",
    "sst_autumn_day_adjusted=original_sst_autumn_day\n",
    "sst_winter_day_adjusted=original_sst_winter_day\n",
    "sst_spring_day_adjusted=original_sst_spring_day\n",
    "sst_summer_day_adjusted=sst_summer_day_adjusted.replace(np.nan, sst_summer_day_mean)\n",
    "sst_autumn_day_adjusted=sst_autumn_day_adjusted.replace(np.nan, sst_autumn_day_mean)\n",
    "sst_winter_day_adjusted=sst_winter_day_adjusted.replace(np.nan, sst_winter_day_mean)\n",
    "sst_spring_day_adjusted=sst_spring_day_adjusted.replace(np.nan, sst_spring_day_mean)"
   ]
  },
  {
   "cell_type": "markdown",
   "metadata": {},
   "source": [
    "##### Remove Outliers from Adjusted Dataframes"
   ]
  },
  {
   "cell_type": "code",
   "execution_count": null,
   "metadata": {},
   "outputs": [],
   "source": [
    "sst_summer_day_adjusted=sst_summer_day_adjusted[sst_summer_day_adjusted.apply(lambda x: np.abs(x - x.mean()) / x.std() < 3).all(axis=1)]\n",
    "sst_autumn_day_adjusted=sst_autumn_day_adjusted[sst_autumn_day_adjusted.apply(lambda x: np.abs(x - x.mean()) / x.std() < 3).all(axis=1)]\n",
    "sst_winter_day_adjusted=sst_winter_day_adjusted[sst_winter_day_adjusted.apply(lambda x: np.abs(x - x.mean()) / x.std() < 3).all(axis=1)]\n",
    "sst_spring_day_adjusted=sst_spring_day_adjusted[sst_spring_day_adjusted.apply(lambda x: np.abs(x - x.mean()) / x.std() < 3).all(axis=1)]\n",
    "sst_season_day_adjusted=sst_summer_day_adjusted.append(sst_autumn_day_adjusted.append(sst_winter_day_adjusted.append(sst_spring_day_adjusted)))"
   ]
  },
  {
   "cell_type": "markdown",
   "metadata": {},
   "source": [
    "#### Weeks"
   ]
  },
  {
   "cell_type": "markdown",
   "metadata": {},
   "source": [
    "##### Remove Outliers"
   ]
  },
  {
   "cell_type": "code",
   "execution_count": null,
   "metadata": {},
   "outputs": [],
   "source": [
    "sst_weeks_day_removed_outliers={}\n",
    "for i in range(1, 53):\n",
    "    sst_weeks_day_removed_outliers[i]=original_sst_weeks_day[i][original_sst_weeks_day[i].apply(lambda x: np.abs(x - x.mean()) / x.std() < 3).all(axis=1)]"
   ]
  },
  {
   "cell_type": "markdown",
   "metadata": {},
   "source": [
    "##### Calculate Means"
   ]
  },
  {
   "cell_type": "code",
   "execution_count": null,
   "metadata": {},
   "outputs": [],
   "source": [
    "sst_weeks_day_mean={}\n",
    "for i in range(1, 53):\n",
    "    sst_weeks_day_mean[i]=sst_weeks_day_removed_outliers[i].mean()"
   ]
  },
  {
   "cell_type": "markdown",
   "metadata": {},
   "source": [
    "##### Create Adjusted Dataframes"
   ]
  },
  {
   "cell_type": "code",
   "execution_count": null,
   "metadata": {},
   "outputs": [],
   "source": [
    "sst_weeks_day_adjusted=original_wavedata.drop([\"Hs\", \"Hmax\", \"Tz\", \"Tp\", \"Dir_Tp TRUE\"], axis=1).between_time('6:00', '18:00')\n",
    "for i in range(1, 53):\n",
    "    sst_weeks_day_adjusted[sst_weeks_day_adjusted[\"Date/Time\"].dt.week==i]=sst_weeks_day_adjusted[sst_weeks_day_adjusted[\"Date/Time\"].dt.week==i].replace(np.nan, sst_weeks_day_mean[i])"
   ]
  },
  {
   "cell_type": "markdown",
   "metadata": {},
   "source": [
    "##### Remove Outliers from Adjusted Dataframes"
   ]
  },
  {
   "cell_type": "code",
   "execution_count": null,
   "metadata": {},
   "outputs": [],
   "source": [
    "sst_weeks_day_adjusted=sst_weeks_day_adjusted.drop([\"Date/Time\"], axis=1)\n",
    "sst_weeks_day_adjusted=sst_weeks_day_adjusted[sst_weeks_day_adjusted.apply(lambda x: np.abs(x - x.mean()) / x.std() < 3).all(axis=1)]"
   ]
  },
  {
   "cell_type": "markdown",
   "metadata": {},
   "source": [
    "### Night"
   ]
  },
  {
   "cell_type": "markdown",
   "metadata": {},
   "source": [
    "#### Months"
   ]
  },
  {
   "cell_type": "markdown",
   "metadata": {},
   "source": [
    "##### Remove Outliers"
   ]
  },
  {
   "cell_type": "code",
   "execution_count": null,
   "metadata": {},
   "outputs": [],
   "source": [
    "sst_months_night_removed_outliers={}\n",
    "for i in range(1, 13):\n",
    "    sst_months_night_removed_outliers[i]=original_sst_months_night[i][original_sst_months_night[i].apply(lambda x: np.abs(x - x.mean()) / x.std() < 3).all(axis=1)]"
   ]
  },
  {
   "cell_type": "markdown",
   "metadata": {},
   "source": [
    "##### Calculate Means"
   ]
  },
  {
   "cell_type": "code",
   "execution_count": null,
   "metadata": {},
   "outputs": [],
   "source": [
    "sst_months_night_mean={}\n",
    "for i in range(1, 13):\n",
    "    sst_months_night_mean[i]=sst_months_night_removed_outliers[i].mean()"
   ]
  },
  {
   "cell_type": "markdown",
   "metadata": {},
   "source": [
    "##### Create Adjusted Dataframes"
   ]
  },
  {
   "cell_type": "code",
   "execution_count": null,
   "metadata": {},
   "outputs": [],
   "source": [
    "sst_months_night_adjusted=original_wavedata.drop([\"Hs\", \"Hmax\", \"Tz\", \"Tp\", \"Dir_Tp TRUE\"], axis=1).between_time('18:00', '6:00')\n",
    "for i in range(1, 13):\n",
    "    sst_months_night_adjusted[sst_months_night_adjusted[\"Date/Time\"].dt.month==i]=sst_months_night_adjusted[sst_months_night_adjusted[\"Date/Time\"].dt.month==i].replace(np.nan, sst_months_night_mean[i])"
   ]
  },
  {
   "cell_type": "markdown",
   "metadata": {},
   "source": [
    "##### Remove Outliers from Adjusted Dataframes"
   ]
  },
  {
   "cell_type": "code",
   "execution_count": null,
   "metadata": {},
   "outputs": [],
   "source": [
    "sst_months_night_adjusted=sst_months_night_adjusted.drop([\"Date/Time\"], axis=1)\n",
    "sst_months_night_adjusted=sst_months_night_adjusted[sst_months_night_adjusted.apply(lambda x: np.abs(x - x.mean()) / x.std() < 3).all(axis=1)]"
   ]
  },
  {
   "cell_type": "markdown",
   "metadata": {},
   "source": [
    "#### Seasons"
   ]
  },
  {
   "cell_type": "markdown",
   "metadata": {},
   "source": [
    "##### Remove Outliers"
   ]
  },
  {
   "cell_type": "code",
   "execution_count": null,
   "metadata": {},
   "outputs": [],
   "source": [
    "sst_summer_night_removed_outliers=original_sst_summer_night[original_sst_summer_night.apply(lambda x: np.abs(x - x.mean()) / x.std() < 3).all(axis=1)]\n",
    "sst_autumn_night_removed_outliers=original_sst_autumn_night[original_sst_autumn_night.apply(lambda x: np.abs(x - x.mean()) / x.std() < 3).all(axis=1)]\n",
    "sst_winter_night_removed_outliers=original_sst_winter_night[original_sst_winter_night.apply(lambda x: np.abs(x - x.mean()) / x.std() < 3).all(axis=1)]\n",
    "sst_spring_night_removed_outliers=original_sst_spring_night[original_sst_spring_night.apply(lambda x: np.abs(x - x.mean()) / x.std() < 3).all(axis=1)]"
   ]
  },
  {
   "cell_type": "markdown",
   "metadata": {},
   "source": [
    "##### Calculate Means"
   ]
  },
  {
   "cell_type": "code",
   "execution_count": null,
   "metadata": {},
   "outputs": [],
   "source": [
    "sst_summer_night_mean=sst_summer_night_removed_outliers.mean()\n",
    "sst_autumn_night_mean=sst_autumn_night_removed_outliers.mean()\n",
    "sst_winter_night_mean=sst_winter_night_removed_outliers.mean()\n",
    "sst_spring_night_mean=sst_spring_night_removed_outliers.mean()"
   ]
  },
  {
   "cell_type": "markdown",
   "metadata": {},
   "source": [
    "##### Create Adjusted Dataframes"
   ]
  },
  {
   "cell_type": "code",
   "execution_count": null,
   "metadata": {},
   "outputs": [],
   "source": [
    "sst_summer_night_adjusted=original_sst_summer_night\n",
    "sst_autumn_night_adjusted=original_sst_autumn_night\n",
    "sst_winter_night_adjusted=original_sst_winter_night\n",
    "sst_spring_night_adjusted=original_sst_spring_night\n",
    "sst_summer_night_adjusted=sst_summer_night_adjusted.replace(np.nan, sst_summer_night_mean)\n",
    "sst_autumn_night_adjusted=sst_autumn_night_adjusted.replace(np.nan, sst_autumn_night_mean)\n",
    "sst_winter_night_adjusted=sst_winter_night_adjusted.replace(np.nan, sst_winter_night_mean)\n",
    "sst_spring_night_adjusted=sst_spring_night_adjusted.replace(np.nan, sst_spring_night_mean)"
   ]
  },
  {
   "cell_type": "markdown",
   "metadata": {},
   "source": [
    "##### Remove Outliers from Adjusted Dataframes"
   ]
  },
  {
   "cell_type": "code",
   "execution_count": null,
   "metadata": {},
   "outputs": [],
   "source": [
    "sst_summer_night_adjusted=sst_summer_night_adjusted[sst_summer_night_adjusted.apply(lambda x: np.abs(x - x.mean()) / x.std() < 3).all(axis=1)]\n",
    "sst_autumn_night_adjusted=sst_autumn_night_adjusted[sst_autumn_night_adjusted.apply(lambda x: np.abs(x - x.mean()) / x.std() < 3).all(axis=1)]\n",
    "sst_winter_night_adjusted=sst_winter_night_adjusted[sst_winter_night_adjusted.apply(lambda x: np.abs(x - x.mean()) / x.std() < 3).all(axis=1)]\n",
    "sst_spring_night_adjusted=sst_spring_night_adjusted[sst_spring_night_adjusted.apply(lambda x: np.abs(x - x.mean()) / x.std() < 3).all(axis=1)]\n",
    "sst_season_night_adjusted=sst_summer_night_adjusted.append(sst_autumn_night_adjusted.append(sst_winter_night_adjusted.append(sst_spring_night_adjusted)))"
   ]
  },
  {
   "cell_type": "markdown",
   "metadata": {},
   "source": [
    "#### Weeks"
   ]
  },
  {
   "cell_type": "markdown",
   "metadata": {},
   "source": [
    "##### Remove Outliers"
   ]
  },
  {
   "cell_type": "code",
   "execution_count": null,
   "metadata": {},
   "outputs": [],
   "source": [
    "sst_weeks_night_removed_outliers={}\n",
    "for i in range(1, 53):\n",
    "    sst_weeks_night_removed_outliers[i]=original_sst_weeks_night[i][original_sst_weeks_night[i].apply(lambda x: np.abs(x - x.mean()) / x.std() < 3).all(axis=1)]"
   ]
  },
  {
   "cell_type": "markdown",
   "metadata": {},
   "source": [
    "##### Calculate Means"
   ]
  },
  {
   "cell_type": "code",
   "execution_count": null,
   "metadata": {},
   "outputs": [],
   "source": [
    "sst_weeks_night_mean={}\n",
    "for i in range(1, 53):\n",
    "    sst_weeks_night_mean[i]=sst_weeks_night_removed_outliers[i].mean()"
   ]
  },
  {
   "cell_type": "markdown",
   "metadata": {},
   "source": [
    "##### Create Adjusted Dataframes"
   ]
  },
  {
   "cell_type": "code",
   "execution_count": null,
   "metadata": {},
   "outputs": [],
   "source": [
    "sst_weeks_night_adjusted=original_wavedata.drop([\"Hs\", \"Hmax\", \"Tz\", \"Tp\", \"Dir_Tp TRUE\"], axis=1).between_time('18:00', '6:00')\n",
    "for i in range(1, 53):\n",
    "    sst_weeks_night_adjusted[sst_weeks_night_adjusted[\"Date/Time\"].dt.week==i]=sst_weeks_night_adjusted[sst_weeks_night_adjusted[\"Date/Time\"].dt.week==i].replace(np.nan, sst_weeks_night_mean[i])"
   ]
  },
  {
   "cell_type": "markdown",
   "metadata": {},
   "source": [
    "##### Remove Outliers from Adjusted Dataframes"
   ]
  },
  {
   "cell_type": "code",
   "execution_count": null,
   "metadata": {},
   "outputs": [],
   "source": [
    "sst_weeks_night_adjusted=sst_weeks_night_adjusted.drop([\"Date/Time\"], axis=1)\n",
    "sst_weeks_night_adjusted=sst_weeks_night_adjusted[sst_weeks_night_adjusted.apply(lambda x: np.abs(x - x.mean()) / x.std() < 3).all(axis=1)]"
   ]
  },
  {
   "cell_type": "markdown",
   "metadata": {},
   "source": [
    "### Compile Adjusted Dataframes"
   ]
  },
  {
   "cell_type": "code",
   "execution_count": null,
   "metadata": {},
   "outputs": [],
   "source": [
    "sst_months_adjusted=sst_months_day_adjusted.append(sst_months_night_adjusted)\n",
    "sst_season_adjusted=sst_season_day_adjusted.append(sst_season_night_adjusted)\n",
    "sst_weeks_adjusted=sst_weeks_day_adjusted.append(sst_weeks_night_adjusted)"
   ]
  },
  {
   "cell_type": "markdown",
   "metadata": {},
   "source": [
    "# Create Completed Dataframes"
   ]
  },
  {
   "cell_type": "code",
   "execution_count": null,
   "metadata": {},
   "outputs": [],
   "source": [
    "wavedata_dir_tp_months_sst_months=pd.merge(wavedata_adjusted, dir_tp_months_adjusted.join(sst_months_adjusted), 'right', right_index=True, left_on='Date/Time')\n",
    "wavedata_dir_tp_months_sst_season=pd.merge(wavedata_adjusted, dir_tp_months_adjusted.join(sst_season_adjusted), 'right', right_index=True, left_on='Date/Time')\n",
    "wavedata_dir_tp_months_sst_weeks=pd.merge(wavedata_adjusted, dir_tp_months_adjusted.join(sst_weeks_adjusted), 'right', right_index=True, left_on='Date/Time')\n",
    "wavedata_dir_tp_season_sst_months=pd.merge(wavedata_adjusted, dir_tp_season_adjusted.join(sst_months_adjusted), 'right', right_index=True, left_on='Date/Time')\n",
    "wavedata_dir_tp_season_sst_season=pd.merge(wavedata_adjusted, dir_tp_season_adjusted.join(sst_season_adjusted), 'right', right_index=True, left_on='Date/Time')\n",
    "wavedata_dir_tp_season_sst_weeks=pd.merge(wavedata_adjusted, dir_tp_season_adjusted.join(sst_weeks_adjusted), 'right', right_index=True, left_on='Date/Time')\n",
    "wavedata_dir_tp_weeks_sst_months=pd.merge(wavedata_adjusted, dir_tp_weeks_adjusted.join(sst_months_adjusted), 'right', right_index=True, left_on='Date/Time')\n",
    "wavedata_dir_tp_weeks_sst_season=pd.merge(wavedata_adjusted, dir_tp_weeks_adjusted.join(sst_season_adjusted), 'right', right_index=True, left_on='Date/Time')\n",
    "wavedata_dir_tp_weeks_sst_weeks=pd.merge(wavedata_adjusted, dir_tp_weeks_adjusted.join(sst_weeks_adjusted), 'right', right_index=True, left_on='Date/Time')"
   ]
  },
  {
   "cell_type": "markdown",
   "metadata": {},
   "source": [
    "# Create Normalised Dataframes"
   ]
  },
  {
   "cell_type": "code",
   "execution_count": null,
   "metadata": {},
   "outputs": [],
   "source": [
    "normalised_wavedata_dir_tp_months_sst_months=normalise_dataframe(wavedata_dir_tp_months_sst_months).sort_index().dropna()\n",
    "normalised_wavedata_dir_tp_months_sst_season=normalise_dataframe(wavedata_dir_tp_months_sst_season).sort_index().dropna()\n",
    "normalised_wavedata_dir_tp_months_sst_weeks=normalise_dataframe(wavedata_dir_tp_months_sst_weeks).sort_index().dropna()\n",
    "normalised_wavedata_dir_tp_season_sst_months=normalise_dataframe(wavedata_dir_tp_season_sst_months).sort_index().dropna()\n",
    "normalised_wavedata_dir_tp_season_sst_season=normalise_dataframe(wavedata_dir_tp_season_sst_season).sort_index().dropna()\n",
    "normalised_wavedata_dir_tp_season_sst_weeks=normalise_dataframe(wavedata_dir_tp_season_sst_weeks).sort_index().dropna()\n",
    "normalised_wavedata_dir_tp_weeks_sst_months=normalise_dataframe(wavedata_dir_tp_weeks_sst_months).sort_index().dropna()\n",
    "normalised_wavedata_dir_tp_weeks_sst_season=normalise_dataframe(wavedata_dir_tp_weeks_sst_season).sort_index().dropna()\n",
    "normalised_wavedata_dir_tp_weeks_sst_weeks=normalise_dataframe(wavedata_dir_tp_weeks_sst_weeks).sort_index().dropna()"
   ]
  },
  {
   "cell_type": "markdown",
   "metadata": {},
   "source": [
    "# Algorithm Function Definitions"
   ]
  },
  {
   "cell_type": "code",
   "execution_count": null,
   "metadata": {},
   "outputs": [],
   "source": [
    "def kmeans_clustering_initial(k=1):\n",
    "    # Initial points\n",
    "    centroids={}\n",
    "    centroids_step = {\n",
    "    i+1: [np.random.random(), np.random.random()]\n",
    "    for i in range(k)\n",
    "    }\n",
    "    centroids[0]=centroids_step\n",
    "    return centroids"
   ]
  },
  {
   "cell_type": "code",
   "execution_count": null,
   "metadata": {},
   "outputs": [],
   "source": [
    "def euclidean_distance(x, cx, y, cy):\n",
    "    distance=np.sqrt((x-cx)**2 + (y-cy)**2)\n",
    "    return distance"
   ]
  },
  {
   "cell_type": "code",
   "execution_count": null,
   "metadata": {},
   "outputs": [],
   "source": [
    "def deviation(x, cx, y, cy):\n",
    "    deviation=(x-cx)+(y-cy)\n",
    "    return deviation"
   ]
  },
  {
   "cell_type": "code",
   "execution_count": null,
   "metadata": {},
   "outputs": [],
   "source": [
    "def kmeans_clustering_assignment(dataframe, x, y, centroids, k, i):\n",
    "    assignment=copy.deepcopy(dataframe)\n",
    "    for ik in range(1, k+1):\n",
    "        assignment['distance_from_{}'.format(ik)]=euclidean_distance(dataframe[x], centroids[i][ik][0], dataframe[y], centroids[i][ik][0])\n",
    "        assignment['deviation_from_{}'.format(ik)]=deviation(dataframe[x], centroids[i][ik][0], dataframe[y], centroids[i][ik][0])\n",
    "    centroid_distance_cols=['distance_from_{}'.format(ik) for ik in centroids[i].keys()]\n",
    "    assignment['closest']=assignment.loc[:, centroid_distance_cols].idxmin(axis=1)\n",
    "    assignment['closest']=assignment['closest'].map(lambda x: int(x.lstrip('distance_from_')))\n",
    "    return assignment"
   ]
  },
  {
   "cell_type": "code",
   "execution_count": null,
   "metadata": {},
   "outputs": [],
   "source": [
    "def kmeans_clustering_update_centroids(dataset, x, y, k, i, centroids):\n",
    "    centroids[i]=copy.deepcopy(centroids[i-1])\n",
    "    for ik in range(1, k+1):\n",
    "        centroids[i][ik]=[np.mean(dataset[dataset['closest']==ik][x]), np.mean(dataset[dataset['closest']==ik][y])]\n",
    "    return centroids"
   ]
  },
  {
   "cell_type": "code",
   "execution_count": null,
   "metadata": {},
   "outputs": [],
   "source": [
    "def within_cluster_sum_of_square_errors(dataset, k, i):\n",
    "    results={}\n",
    "    wss=0.0\n",
    "    for ik in range(1, k+1):\n",
    "        temp=0.0\n",
    "        cluster=dataset['closest']==ik\n",
    "        cluster_data=dataset[cluster]['deviation_from_{}'.format(ik)].replace(np.nan, 0.0)\n",
    "        count=cluster_data.count()\n",
    "        cluster_data_2=np.power(cluster_data, 2)\n",
    "        cluster_sum=cluster_data_2.sum()\n",
    "        if cluster_sum==0.0:\n",
    "            temp=0.0\n",
    "        else:\n",
    "            temp=cluster_sum/count\n",
    "        wss+=temp\n",
    "    return wss"
   ]
  },
  {
   "cell_type": "code",
   "execution_count": null,
   "metadata": {},
   "outputs": [],
   "source": [
    "def no_centroid_change(centroids, k, i):\n",
    "    result=False\n",
    "    for ik in range(1, k+1):\n",
    "        x=centroids[i][ik][0]==centroids[i-1][ik][0]\n",
    "        y=centroids[i][ik][1]==centroids[i-1][ik][1]\n",
    "        if x==False or y==False:\n",
    "            result=True\n",
    "    return result"
   ]
  },
  {
   "cell_type": "code",
   "execution_count": null,
   "metadata": {},
   "outputs": [],
   "source": [
    "def kmeans_clustering(dataframe, x, y, k=1):\n",
    "    kmeans=copy.deepcopy(dataframe)\n",
    "    centroids=kmeans_clustering_initial(k)\n",
    "    kmeans=kmeans_clustering_assignment(kmeans, x, y, centroids, k, 0)\n",
    "    i=0\n",
    "    while True:\n",
    "        i+=1\n",
    "        centroids = kmeans_clustering_update_centroids(kmeans, x, y, k, i, centroids)\n",
    "        kmeans = kmeans_clustering_assignment(kmeans, x, y, centroids, k, i)\n",
    "        if no_centroid_change(centroids, k, i):\n",
    "            break;\n",
    "    return kmeans, within_cluster_sum_of_square_errors(kmeans, k, i)"
   ]
  },
  {
   "cell_type": "code",
   "execution_count": null,
   "metadata": {},
   "outputs": [],
   "source": [
    "def do_kmeans(dataframe, x, y):\n",
    "    plots={}\n",
    "    seeds={}\n",
    "    count=0\n",
    "    total_time=0\n",
    "    np.random.seed(12345)\n",
    "    for j in range(0, 25):\n",
    "        seeds[j]=int(np.random.random()*1000)\n",
    "    for i in range(1, 11):\n",
    "        j_plots={}\n",
    "        for j in range(0, 25):\n",
    "            start = time.time()\n",
    "            np.random.seed(seeds[j])\n",
    "            j_plot, j_wss=kmeans_clustering(dataframe, x, y, i)\n",
    "            j_plots[j_wss]=j_plot\n",
    "            end = time.time()\n",
    "            elapsed = end - start\n",
    "            total_time+=elapsed\n",
    "            count+=1\n",
    "            print(\"Plot {} - time elapsed - {} - total time elapsed - {} - wss - {}\".format(count, elapsed, total_time, j_wss))\n",
    "        wss = sorted(j_plots)[0]\n",
    "        print(wss)\n",
    "        plot = j_plots[wss]\n",
    "        plots[wss] = plot\n",
    "    print(\"Total time elapsed - {}\".format(total_time))\n",
    "    return plots[sorted(plots)[0]], sorted(plots)[0]"
   ]
  },
  {
   "cell_type": "markdown",
   "metadata": {},
   "source": [
    "# Graphs"
   ]
  },
  {
   "cell_type": "code",
   "execution_count": null,
   "metadata": {},
   "outputs": [],
   "source": [
    "hs_hmax_dir_tp_months_sst_months_plot, wss1=do_kmeans(normalised_wavedata_dir_tp_months_sst_months, 'Tz', 'SST')\n",
    "sns.lmplot('Tz', 'SST', data=hs_hmax_dir_tp_months_sst_months_plot, fit_reg=False, hue='closest')"
   ]
  },
  {
   "cell_type": "code",
   "execution_count": null,
   "metadata": {},
   "outputs": [],
   "source": [
    "hs_tz_dir_tp_months_sst_months_plot, wss2=do_kmeans(normalised_wavedata_dir_tp_months_sst_months, 'Hs', 'Tz')\n",
    "sns.lmplot('Hs', 'Tz', data=hs_tz_dir_tp_months_sst_months_plot, fit_reg=False, hue='closest')"
   ]
  },
  {
   "cell_type": "code",
   "execution_count": null,
   "metadata": {},
   "outputs": [],
   "source": [
    "hs_tp_dir_tp_months_sst_months_plot, wss3=do_kmeans(normalised_wavedata_dir_tp_months_sst_months, 'Hs', 'Tp')\n",
    "sns.lmplot('Hs', 'Tp', data=hs_tp_dir_tp_months_sst_months_plot, fit_reg=False, hue='closest')"
   ]
  },
  {
   "cell_type": "code",
   "execution_count": null,
   "metadata": {},
   "outputs": [],
   "source": [
    "hs_dir_tp_dir_tp_months_sst_months_plot, wss4=do_kmeans(normalised_wavedata_dir_tp_months_sst_months, 'Hs', 'Dir_Tp TRUE')\n",
    "sns.lmplot('Hs', 'Dir_Tp TRUE', data=hs_dir_tp_dir_tp_months_sst_months_plot, fit_reg=False, hue='closest')"
   ]
  },
  {
   "cell_type": "code",
   "execution_count": null,
   "metadata": {},
   "outputs": [],
   "source": [
    "hs_sst_dir_tp_months_sst_months_plot, wss5=do_kmeans(normalised_wavedata_dir_tp_months_sst_months, 'Hs', 'SST')\n",
    "sns.lmplot('Hs', 'SST', data=hs_sst_dir_tp_months_sst_months_plot, fit_reg=False, hue='closest')"
   ]
  }
 ],
 "metadata": {
  "kernelspec": {
   "display_name": "Python 3",
   "language": "python",
   "name": "python3"
  },
  "language_info": {
   "codemirror_mode": {
    "name": "ipython",
    "version": 3
   },
   "file_extension": ".py",
   "mimetype": "text/x-python",
   "name": "python",
   "nbconvert_exporter": "python",
   "pygments_lexer": "ipython3",
   "version": "3.7.3"
  }
 },
 "nbformat": 4,
 "nbformat_minor": 2
}
