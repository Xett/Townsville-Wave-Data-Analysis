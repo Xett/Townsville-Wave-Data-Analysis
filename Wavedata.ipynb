{
 "cells": [
  {
   "cell_type": "markdown",
   "metadata": {},
   "source": [
    "# Imports"
   ]
  },
  {
   "cell_type": "code",
   "execution_count": null,
   "metadata": {},
   "outputs": [],
   "source": [
    "import pandas as pd\n",
    "import numpy as np\n",
    "import seaborn as sns\n",
    "import matplotlib.pyplot as plt\n",
    "from sklearn import preprocessing"
   ]
  },
  {
   "cell_type": "markdown",
   "metadata": {},
   "source": [
    "# Load Dataset"
   ]
  },
  {
   "cell_type": "code",
   "execution_count": null,
   "metadata": {},
   "outputs": [],
   "source": [
    "original_wavedata=pd.read_csv('data files/townsville-wavedata-1975-2019.csv', low_memory=False)\n",
    "pd.set_option('display.float_format', lambda x:'%f'%x)"
   ]
  },
  {
   "cell_type": "code",
   "execution_count": null,
   "metadata": {
    "scrolled": true
   },
   "outputs": [],
   "source": [
    "original_wavedata['Date/Time']=pd.to_datetime(original_wavedata['Date/Time'])\n",
    "original_wavedata=original_wavedata.set_index(pd.DatetimeIndex(original_wavedata['Date/Time']))"
   ]
  },
  {
   "cell_type": "markdown",
   "metadata": {},
   "source": [
    "# Function Definitions"
   ]
  },
  {
   "cell_type": "code",
   "execution_count": null,
   "metadata": {},
   "outputs": [],
   "source": [
    "def normalise_dataframe(dataframe):\n",
    "    x=dataframe\n",
    "    min_max_scaler=preprocessing.MinMaxScaler()\n",
    "    x_scaled=min_max_scaler.fit_transform(x)\n",
    "    normalised_dataframe=pd.DataFrame(x_scaled, columns=dataframe.columns, index=dataframe.index)\n",
    "    return normalised_dataframe"
   ]
  },
  {
   "cell_type": "markdown",
   "metadata": {},
   "source": [
    "# Variable Declarations"
   ]
  },
  {
   "cell_type": "markdown",
   "metadata": {},
   "source": [
    "## Direction True North"
   ]
  },
  {
   "cell_type": "code",
   "execution_count": null,
   "metadata": {},
   "outputs": [],
   "source": [
    "original_dir_tp_months={}\n",
    "for i in range(1, 13):\n",
    "    original_dir_tp_months[i]=original_wavedata[original_wavedata[\"Date/Time\"].dt.month==i].drop([\"Date/Time\", \"Hs\", \"Hmax\", \"Tz\", \"Tp\", \"SST\"], axis=1)"
   ]
  },
  {
   "cell_type": "code",
   "execution_count": null,
   "metadata": {},
   "outputs": [],
   "source": [
    "original_dir_tp_summer=original_dir_tp_months[1].append(original_dir_tp_months[2].append(original_dir_tp_months[12]))\n",
    "original_dir_tp_autumn=original_dir_tp_months[3].append(original_dir_tp_months[4].append(original_dir_tp_months[5]))\n",
    "original_dir_tp_winter=original_dir_tp_months[6].append(original_dir_tp_months[7].append(original_dir_tp_months[8]))\n",
    "original_dir_tp_spring=original_dir_tp_months[9].append(original_dir_tp_months[10].append(original_dir_tp_months[11]))"
   ]
  },
  {
   "cell_type": "code",
   "execution_count": null,
   "metadata": {},
   "outputs": [],
   "source": [
    "original_dir_tp_weeks={}\n",
    "for i in range(1, 53):\n",
    "    original_dir_tp_weeks[i]=original_wavedata[original_wavedata[\"Date/Time\"].dt.week==i].drop([\"Date/Time\", \"Hs\", \"Hmax\", \"Tz\", \"Tp\", \"SST\"], axis=1)"
   ]
  },
  {
   "cell_type": "markdown",
   "metadata": {},
   "source": [
    "## Sea Surface Temperature"
   ]
  },
  {
   "cell_type": "code",
   "execution_count": null,
   "metadata": {},
   "outputs": [],
   "source": [
    "original_sst_months={}\n",
    "for i in range(1, 13):\n",
    "    original_sst_months[i]=original_wavedata[original_wavedata[\"Date/Time\"].dt.month==i].drop([\"Date/Time\", \"Hs\", \"Hmax\", \"Tz\", \"Tp\", \"Dir_Tp TRUE\"], axis=1)"
   ]
  },
  {
   "cell_type": "code",
   "execution_count": null,
   "metadata": {},
   "outputs": [],
   "source": [
    "original_sst_summer=original_sst_months[1].append(original_sst_months[2].append(original_sst_months[12]))\n",
    "original_sst_autumn=original_sst_months[3].append(original_sst_months[4].append(original_sst_months[5]))\n",
    "original_sst_winter=original_sst_months[6].append(original_sst_months[7].append(original_sst_months[8]))\n",
    "original_sst_spring=original_sst_months[9].append(original_sst_months[10].append(original_sst_months[11]))"
   ]
  },
  {
   "cell_type": "code",
   "execution_count": null,
   "metadata": {},
   "outputs": [],
   "source": [
    "original_sst_weeks={}\n",
    "for i in range(1, 53):\n",
    "    original_sst_weeks[i]=original_wavedata[original_wavedata[\"Date/Time\"].dt.week==i].drop([\"Date/Time\", \"Hs\", \"Hmax\", \"Tz\", \"Tp\", \"Dir_Tp TRUE\"], axis=1)"
   ]
  },
  {
   "cell_type": "markdown",
   "metadata": {},
   "source": [
    "### Day"
   ]
  },
  {
   "cell_type": "code",
   "execution_count": null,
   "metadata": {},
   "outputs": [],
   "source": [
    "original_sst_months_day={}\n",
    "for i in range(1, 13):\n",
    "    original_sst_months_day[i]=original_sst_months[i].between_time('6:00', '18:00')"
   ]
  },
  {
   "cell_type": "code",
   "execution_count": null,
   "metadata": {},
   "outputs": [],
   "source": [
    "original_sst_summer_day=original_sst_months_day[1].append(original_sst_months_day[2].append(original_sst_months_day[12]))\n",
    "original_sst_autumn_day=original_sst_months_day[3].append(original_sst_months_day[4].append(original_sst_months_day[5]))\n",
    "original_sst_winter_day=original_sst_months_day[6].append(original_sst_months_day[7].append(original_sst_months_day[8]))\n",
    "original_sst_spring_day=original_sst_months_day[9].append(original_sst_months_day[10].append(original_sst_months_day[11]))"
   ]
  },
  {
   "cell_type": "code",
   "execution_count": null,
   "metadata": {},
   "outputs": [],
   "source": [
    "original_sst_weeks_day={}\n",
    "for i in range(1, 53):\n",
    "    original_sst_weeks_day[i]=original_wavedata[original_wavedata[\"Date/Time\"].dt.week==i].drop([\"Date/Time\", \"Hs\", \"Hmax\", \"Tz\", \"Tp\", \"Dir_Tp TRUE\"], axis=1).between_time('6:00', '18:00')"
   ]
  },
  {
   "cell_type": "markdown",
   "metadata": {},
   "source": [
    "### Night"
   ]
  },
  {
   "cell_type": "code",
   "execution_count": null,
   "metadata": {},
   "outputs": [],
   "source": [
    "original_sst_months_night={}\n",
    "for i in range(1, 13):\n",
    "    original_sst_months_night[i]=original_sst_months[i].between_time('18:00', '6:00')"
   ]
  },
  {
   "cell_type": "code",
   "execution_count": null,
   "metadata": {},
   "outputs": [],
   "source": [
    "original_sst_summer_night=original_sst_months_night[1].append(original_sst_months_night[2].append(original_sst_months_night[12]))\n",
    "original_sst_autumn_night=original_sst_months_night[3].append(original_sst_months_night[4].append(original_sst_months_night[5]))\n",
    "original_sst_winter_night=original_sst_months_night[6].append(original_sst_months_night[7].append(original_sst_months_night[8]))\n",
    "original_sst_spring_night=original_sst_months_night[9].append(original_sst_months_night[10].append(original_sst_months_night[11]))"
   ]
  },
  {
   "cell_type": "code",
   "execution_count": null,
   "metadata": {},
   "outputs": [],
   "source": [
    "original_sst_weeks_night={}\n",
    "for i in range(1, 53):\n",
    "    original_sst_weeks_night[i]=original_wavedata[original_wavedata[\"Date/Time\"].dt.week==i].drop([\"Date/Time\", \"Hs\", \"Hmax\", \"Tz\", \"Tp\", \"Dir_Tp TRUE\"], axis=1).between_time('18:00', '6:00')"
   ]
  },
  {
   "cell_type": "markdown",
   "metadata": {},
   "source": [
    "# Remove Outliers and Fill NULL Values"
   ]
  },
  {
   "cell_type": "markdown",
   "metadata": {},
   "source": [
    "## Direction True North"
   ]
  },
  {
   "cell_type": "markdown",
   "metadata": {},
   "source": [
    "### Month"
   ]
  },
  {
   "cell_type": "markdown",
   "metadata": {},
   "source": [
    "#### Remove Outliers"
   ]
  },
  {
   "cell_type": "code",
   "execution_count": null,
   "metadata": {},
   "outputs": [],
   "source": [
    "dir_tp_months_removed_outliers={}\n",
    "for i in range(1, 13):\n",
    "    dir_tp_months_removed_outliers[i]=original_dir_tp_months[i][original_dir_tp_months[i].apply(lambda x: np.abs(x - x.mean()) / x.std() < 3).all(axis=1)]"
   ]
  },
  {
   "cell_type": "markdown",
   "metadata": {},
   "source": [
    "#### Calculate Means"
   ]
  },
  {
   "cell_type": "code",
   "execution_count": null,
   "metadata": {},
   "outputs": [],
   "source": [
    "dir_tp_months_mean={}\n",
    "for i in range(1, 13):\n",
    "    dir_tp_months_mean[i]=dir_tp_months_removed_outliers[i].mean()"
   ]
  },
  {
   "cell_type": "markdown",
   "metadata": {},
   "source": [
    "#### Create Adjusted Dataframe"
   ]
  },
  {
   "cell_type": "code",
   "execution_count": null,
   "metadata": {},
   "outputs": [],
   "source": [
    "dir_tp_months_adjusted=original_wavedata.drop([\"Hs\", \"Hmax\", \"Tz\", \"Tp\", \"SST\"], axis=1)\n",
    "for i in range(1, 13):\n",
    "    dir_tp_months_adjusted[dir_tp_months_adjusted[\"Date/Time\"].dt.month==i]=dir_tp_months_adjusted[dir_tp_months_adjusted[\"Date/Time\"].dt.month==i].replace(np.nan, dir_tp_months_mean[i])"
   ]
  },
  {
   "cell_type": "markdown",
   "metadata": {},
   "source": [
    "#### Remove Outliers from Adjusted Dataframe"
   ]
  },
  {
   "cell_type": "code",
   "execution_count": null,
   "metadata": {},
   "outputs": [],
   "source": [
    "dir_tp_months_adjusted=dir_tp_months_adjusted.drop([\"Date/Time\"], axis=1)\n",
    "dir_tp_months_adjusted=dir_tp_months_adjusted[dir_tp_months_adjusted.apply(lambda x: np.abs(x - x.mean()) / x.std() < 3).all(axis=1)]"
   ]
  },
  {
   "cell_type": "markdown",
   "metadata": {},
   "source": [
    "### Seasonal"
   ]
  },
  {
   "cell_type": "markdown",
   "metadata": {},
   "source": [
    "#### Remove Outliers"
   ]
  },
  {
   "cell_type": "code",
   "execution_count": null,
   "metadata": {},
   "outputs": [],
   "source": [
    "dir_tp_summer_removed_outliers=original_dir_tp_summer[original_dir_tp_summer.apply(lambda x: np.abs(x - x.mean()) / x.std() < 3).all(axis=1)]\n",
    "dir_tp_autumn_removed_outliers=original_dir_tp_autumn[original_dir_tp_autumn.apply(lambda x: np.abs(x - x.mean()) / x.std() < 3).all(axis=1)]\n",
    "dir_tp_winter_removed_outliers=original_dir_tp_winter[original_dir_tp_winter.apply(lambda x: np.abs(x - x.mean()) / x.std() < 3).all(axis=1)]\n",
    "dir_tp_spring_removed_outliers=original_dir_tp_spring[original_dir_tp_spring.apply(lambda x: np.abs(x - x.mean()) / x.std() < 3).all(axis=1)]"
   ]
  },
  {
   "cell_type": "markdown",
   "metadata": {},
   "source": [
    "#### Calculate Mean"
   ]
  },
  {
   "cell_type": "code",
   "execution_count": null,
   "metadata": {},
   "outputs": [],
   "source": [
    "dir_tp_summer_mean=dir_tp_summer_removed_outliers.mean()\n",
    "dir_tp_autumn_mean=dir_tp_autumn_removed_outliers.mean()\n",
    "dir_tp_winter_mean=dir_tp_winter_removed_outliers.mean()\n",
    "dir_tp_spring_mean=dir_tp_spring_removed_outliers.mean()"
   ]
  },
  {
   "cell_type": "markdown",
   "metadata": {},
   "source": [
    "#### Create Adjusted Dataframe"
   ]
  },
  {
   "cell_type": "code",
   "execution_count": null,
   "metadata": {},
   "outputs": [],
   "source": [
    "dir_tp_summer_adjusted=original_dir_tp_summer\n",
    "dir_tp_autumn_adjusted=original_dir_tp_autumn\n",
    "dir_tp_winter_adjusted=original_dir_tp_winter\n",
    "dir_tp_spring_adjusted=original_dir_tp_spring\n",
    "dir_tp_summer_adjusted=dir_tp_summer_adjusted.replace(np.nan, dir_tp_summer_mean)\n",
    "dir_tp_autumn_adjusted=dir_tp_autumn_adjusted.replace(np.nan, dir_tp_autumn_mean)\n",
    "dir_tp_winter_adjusted=dir_tp_winter_adjusted.replace(np.nan, dir_tp_winter_mean)\n",
    "dir_tp_spring_adjusted=dir_tp_spring_adjusted.replace(np.nan, dir_tp_spring_mean)"
   ]
  },
  {
   "cell_type": "markdown",
   "metadata": {},
   "source": [
    "#### Remove Outliers from Adjusted Dataframe"
   ]
  },
  {
   "cell_type": "code",
   "execution_count": null,
   "metadata": {},
   "outputs": [],
   "source": [
    "dir_tp_summer_adjusted=dir_tp_summer_adjusted[dir_tp_summer_adjusted.apply(lambda x: np.abs(x - x.mean()) / x.std() < 3).all(axis=1)]\n",
    "dir_tp_autumn_adjusted=dir_tp_autumn_adjusted[dir_tp_autumn_adjusted.apply(lambda x: np.abs(x - x.mean()) / x.std() < 3).all(axis=1)]\n",
    "dir_tp_winter_adjusted=dir_tp_winter_adjusted[dir_tp_winter_adjusted.apply(lambda x: np.abs(x - x.mean()) / x.std() < 3).all(axis=1)]\n",
    "dir_tp_spring_adjusted=dir_tp_spring_adjusted[dir_tp_spring_adjusted.apply(lambda x: np.abs(x - x.mean()) / x.std() < 3).all(axis=1)]\n",
    "dir_tp_season_adjusted=dir_tp_summer_adjusted.append(dir_tp_autumn_adjusted.append(dir_tp_winter_adjusted.append(dir_tp_spring_adjusted)))"
   ]
  },
  {
   "cell_type": "markdown",
   "metadata": {},
   "source": [
    "### Weeks"
   ]
  },
  {
   "cell_type": "markdown",
   "metadata": {},
   "source": [
    "#### Remove Outliers"
   ]
  },
  {
   "cell_type": "code",
   "execution_count": null,
   "metadata": {},
   "outputs": [],
   "source": [
    "dir_tp_weeks_removed_outliers={}\n",
    "for i in range(1, 53):\n",
    "    dir_tp_weeks_removed_outliers[i]=original_dir_tp_weeks[i][original_dir_tp_weeks[i].apply(lambda x: np.abs(x - x.mean()) / x.std() < 3).all(axis=1)]"
   ]
  },
  {
   "cell_type": "markdown",
   "metadata": {},
   "source": [
    "#### Calculate Means"
   ]
  },
  {
   "cell_type": "code",
   "execution_count": null,
   "metadata": {},
   "outputs": [],
   "source": [
    "dir_tp_weeks_mean={}\n",
    "for i in range(1, 53):\n",
    "    dir_tp_weeks_mean[i]=dir_tp_weeks_removed_outliers[i].mean()"
   ]
  },
  {
   "cell_type": "markdown",
   "metadata": {},
   "source": [
    "#### Create Adjusted Dataframe"
   ]
  },
  {
   "cell_type": "code",
   "execution_count": null,
   "metadata": {},
   "outputs": [],
   "source": [
    "dir_tp_weeks_adjusted=original_wavedata.drop([\"Hs\", \"Hmax\", \"Tz\", \"Tp\", \"SST\"], axis=1)\n",
    "for i in range(1, 53):\n",
    "    dir_tp_weeks_adjusted[dir_tp_weeks_adjusted[\"Date/Time\"].dt.week==i]=dir_tp_weeks_adjusted[dir_tp_weeks_adjusted[\"Date/Time\"].dt.week==i].replace(np.nan, dir_tp_weeks_mean[i])"
   ]
  },
  {
   "cell_type": "markdown",
   "metadata": {},
   "source": [
    "#### Remove Outliers from Adjusted Dataframe"
   ]
  },
  {
   "cell_type": "code",
   "execution_count": null,
   "metadata": {},
   "outputs": [],
   "source": [
    "dir_tp_weeks_adjusted=dir_tp_weeks_adjusted.drop([\"Date/Time\"], axis=1)\n",
    "dir_tp_weeks_adjusted=dir_tp_weeks_adjusted[dir_tp_weeks_adjusted.apply(lambda x: np.abs(x - x.mean()) / x.std() < 3).all(axis=1)]"
   ]
  },
  {
   "cell_type": "markdown",
   "metadata": {},
   "source": [
    "## Sea Surface Temperature"
   ]
  },
  {
   "cell_type": "markdown",
   "metadata": {},
   "source": [
    "### Day"
   ]
  },
  {
   "cell_type": "markdown",
   "metadata": {},
   "source": [
    "#### Months"
   ]
  },
  {
   "cell_type": "markdown",
   "metadata": {},
   "source": [
    "##### Remove Outliers"
   ]
  },
  {
   "cell_type": "code",
   "execution_count": null,
   "metadata": {},
   "outputs": [],
   "source": [
    "sst_months_day_removed_outliers={}\n",
    "for i in range(1, 13):\n",
    "    sst_months_day_removed_outliers[i]=original_sst_months_day[i][original_sst_months_day[i].apply(lambda x: np.abs(x - x.mean()) / x.std() < 3).all(axis=1)]"
   ]
  },
  {
   "cell_type": "markdown",
   "metadata": {},
   "source": [
    "##### Calculate Means"
   ]
  },
  {
   "cell_type": "code",
   "execution_count": null,
   "metadata": {},
   "outputs": [],
   "source": [
    "sst_months_day_mean={}\n",
    "for i in range(1, 13):\n",
    "    sst_months_day_mean[i]=sst_months_day_removed_outliers[i].mean()"
   ]
  },
  {
   "cell_type": "markdown",
   "metadata": {},
   "source": [
    "##### Create Adjusted Dataframes"
   ]
  },
  {
   "cell_type": "code",
   "execution_count": null,
   "metadata": {},
   "outputs": [],
   "source": [
    "sst_months_day_adjusted=original_wavedata.drop([\"Hs\", \"Hmax\", \"Tz\", \"Tp\", \"Dir_Tp TRUE\"], axis=1).between_time('6:00', '18:00')\n",
    "for i in range(1, 13):\n",
    "    sst_months_day_adjusted[sst_months_day_adjusted[\"Date/Time\"].dt.month==i]=sst_months_day_adjusted[sst_months_day_adjusted[\"Date/Time\"].dt.month==i].replace(np.nan, sst_months_day_mean[i])"
   ]
  },
  {
   "cell_type": "markdown",
   "metadata": {},
   "source": [
    "##### Remove Outliers from Adjusted Dataframes"
   ]
  },
  {
   "cell_type": "code",
   "execution_count": null,
   "metadata": {},
   "outputs": [],
   "source": [
    "sst_months_day_adjusted=sst_months_day_adjusted.drop([\"Date/Time\"], axis=1)\n",
    "sst_months_day_adjusted=sst_months_day_adjusted[sst_months_day_adjusted.apply(lambda x: np.abs(x - x.mean()) / x.std() < 3).all(axis=1)]"
   ]
  },
  {
   "cell_type": "markdown",
   "metadata": {},
   "source": [
    "#### Seasons"
   ]
  },
  {
   "cell_type": "markdown",
   "metadata": {},
   "source": [
    "##### Remove Outliers"
   ]
  },
  {
   "cell_type": "code",
   "execution_count": null,
   "metadata": {},
   "outputs": [],
   "source": [
    "sst_summer_day_removed_outliers=original_sst_summer_day[original_sst_summer_day.apply(lambda x: np.abs(x - x.mean()) / x.std() < 3).all(axis=1)]\n",
    "sst_autumn_day_removed_outliers=original_sst_autumn_day[original_sst_autumn_day.apply(lambda x: np.abs(x - x.mean()) / x.std() < 3).all(axis=1)]\n",
    "sst_winter_day_removed_outliers=original_sst_winter_day[original_sst_winter_day.apply(lambda x: np.abs(x - x.mean()) / x.std() < 3).all(axis=1)]\n",
    "sst_spring_day_removed_outliers=original_sst_spring_day[original_sst_spring_day.apply(lambda x: np.abs(x - x.mean()) / x.std() < 3).all(axis=1)]"
   ]
  },
  {
   "cell_type": "markdown",
   "metadata": {},
   "source": [
    "##### Calculate Means"
   ]
  },
  {
   "cell_type": "code",
   "execution_count": null,
   "metadata": {},
   "outputs": [],
   "source": [
    "sst_summer_day_mean=sst_summer_day_removed_outliers.mean()\n",
    "sst_autumn_day_mean=sst_autumn_day_removed_outliers.mean()\n",
    "sst_winter_day_mean=sst_winter_day_removed_outliers.mean()\n",
    "sst_spring_day_mean=sst_spring_day_removed_outliers.mean()"
   ]
  },
  {
   "cell_type": "markdown",
   "metadata": {},
   "source": [
    "##### Create Adjusted Dataframes"
   ]
  },
  {
   "cell_type": "code",
   "execution_count": null,
   "metadata": {},
   "outputs": [],
   "source": [
    "sst_summer_day_adjusted=original_sst_summer_day\n",
    "sst_autumn_day_adjusted=original_sst_autumn_day\n",
    "sst_winter_day_adjusted=original_sst_winter_day\n",
    "sst_spring_day_adjusted=original_sst_spring_day\n",
    "sst_summer_day_adjusted=sst_summer_day_adjusted.replace(np.nan, sst_summer_day_mean)\n",
    "sst_autumn_day_adjusted=sst_autumn_day_adjusted.replace(np.nan, sst_autumn_day_mean)\n",
    "sst_winter_day_adjusted=sst_winter_day_adjusted.replace(np.nan, sst_winter_day_mean)\n",
    "sst_spring_day_adjusted=sst_spring_day_adjusted.replace(np.nan, sst_spring_day_mean)"
   ]
  },
  {
   "cell_type": "markdown",
   "metadata": {},
   "source": [
    "##### Remove Outliers from Adjusted Dataframes"
   ]
  },
  {
   "cell_type": "code",
   "execution_count": null,
   "metadata": {},
   "outputs": [],
   "source": [
    "sst_summer_day_adjusted=sst_summer_day_adjusted[sst_summer_day_adjusted.apply(lambda x: np.abs(x - x.mean()) / x.std() < 3).all(axis=1)]\n",
    "sst_autumn_day_adjusted=sst_autumn_day_adjusted[sst_autumn_day_adjusted.apply(lambda x: np.abs(x - x.mean()) / x.std() < 3).all(axis=1)]\n",
    "sst_winter_day_adjusted=sst_winter_day_adjusted[sst_winter_day_adjusted.apply(lambda x: np.abs(x - x.mean()) / x.std() < 3).all(axis=1)]\n",
    "sst_spring_day_adjusted=sst_spring_day_adjusted[sst_spring_day_adjusted.apply(lambda x: np.abs(x - x.mean()) / x.std() < 3).all(axis=1)]\n",
    "sst_season_day_adjusted=sst_summer_day_adjusted.append(sst_autumn_day_adjusted.append(sst_winter_day_adjusted.append(sst_spring_day_adjusted)))"
   ]
  },
  {
   "cell_type": "markdown",
   "metadata": {},
   "source": [
    "#### Weeks"
   ]
  },
  {
   "cell_type": "markdown",
   "metadata": {},
   "source": [
    "##### Remove Outliers"
   ]
  },
  {
   "cell_type": "code",
   "execution_count": null,
   "metadata": {},
   "outputs": [],
   "source": [
    "sst_weeks_day_removed_outliers={}\n",
    "for i in range(1, 53):\n",
    "    sst_weeks_day_removed_outliers[i]=original_sst_weeks_day[i][original_sst_weeks_day[i].apply(lambda x: np.abs(x - x.mean()) / x.std() < 3).all(axis=1)]"
   ]
  },
  {
   "cell_type": "markdown",
   "metadata": {},
   "source": [
    "##### Calculate Means"
   ]
  },
  {
   "cell_type": "code",
   "execution_count": null,
   "metadata": {},
   "outputs": [],
   "source": [
    "sst_weeks_day_mean={}\n",
    "for i in range(1, 53):\n",
    "    sst_weeks_day_mean[i]=sst_weeks_day_removed_outliers[i].mean()"
   ]
  },
  {
   "cell_type": "markdown",
   "metadata": {},
   "source": [
    "##### Create Adjusted Dataframes"
   ]
  },
  {
   "cell_type": "code",
   "execution_count": null,
   "metadata": {},
   "outputs": [],
   "source": [
    "sst_weeks_day_adjusted=original_wavedata.drop([\"Hs\", \"Hmax\", \"Tz\", \"Tp\", \"Dir_Tp TRUE\"], axis=1).between_time('6:00', '18:00')\n",
    "for i in range(1, 53):\n",
    "    sst_weeks_day_adjusted[sst_weeks_day_adjusted[\"Date/Time\"].dt.week==i]=sst_weeks_day_adjusted[sst_weeks_day_adjusted[\"Date/Time\"].dt.week==i].replace(np.nan, sst_weeks_day_mean[i])"
   ]
  },
  {
   "cell_type": "markdown",
   "metadata": {},
   "source": [
    "##### Remove Outliers from Adjusted Dataframes"
   ]
  },
  {
   "cell_type": "code",
   "execution_count": null,
   "metadata": {},
   "outputs": [],
   "source": [
    "sst_weeks_day_adjusted=sst_weeks_day_adjusted.drop([\"Date/Time\"], axis=1)\n",
    "sst_weeks_day_adjusted=sst_weeks_day_adjusted[sst_weeks_day_adjusted.apply(lambda x: np.abs(x - x.mean()) / x.std() < 3).all(axis=1)]"
   ]
  },
  {
   "cell_type": "markdown",
   "metadata": {},
   "source": [
    "### Night"
   ]
  },
  {
   "cell_type": "markdown",
   "metadata": {},
   "source": [
    "#### Months"
   ]
  },
  {
   "cell_type": "markdown",
   "metadata": {},
   "source": [
    "##### Remove Outliers"
   ]
  },
  {
   "cell_type": "code",
   "execution_count": null,
   "metadata": {},
   "outputs": [],
   "source": [
    "sst_months_night_removed_outliers={}\n",
    "for i in range(1, 13):\n",
    "    sst_months_night_removed_outliers[i]=original_sst_months_night[i][original_sst_months_night[i].apply(lambda x: np.abs(x - x.mean()) / x.std() < 3).all(axis=1)]"
   ]
  },
  {
   "cell_type": "markdown",
   "metadata": {},
   "source": [
    "##### Calculate Means"
   ]
  },
  {
   "cell_type": "code",
   "execution_count": null,
   "metadata": {},
   "outputs": [],
   "source": [
    "sst_months_night_mean={}\n",
    "for i in range(1, 13):\n",
    "    sst_months_night_mean[i]=sst_months_night_removed_outliers[i].mean()"
   ]
  },
  {
   "cell_type": "markdown",
   "metadata": {},
   "source": [
    "##### Create Adjusted Dataframes"
   ]
  },
  {
   "cell_type": "code",
   "execution_count": null,
   "metadata": {},
   "outputs": [],
   "source": [
    "sst_months_night_adjusted=original_wavedata.drop([\"Hs\", \"Hmax\", \"Tz\", \"Tp\", \"Dir_Tp TRUE\"], axis=1).between_time('18:00', '6:00')\n",
    "for i in range(1, 13):\n",
    "    sst_months_night_adjusted[sst_months_night_adjusted[\"Date/Time\"].dt.month==i]=sst_months_night_adjusted[sst_months_night_adjusted[\"Date/Time\"].dt.month==i].replace(np.nan, sst_months_night_mean[i])"
   ]
  },
  {
   "cell_type": "markdown",
   "metadata": {},
   "source": [
    "##### Remove Outliers from Adjusted Dataframes"
   ]
  },
  {
   "cell_type": "code",
   "execution_count": null,
   "metadata": {},
   "outputs": [],
   "source": [
    "sst_months_night_adjusted=sst_months_night_adjusted.drop([\"Date/Time\"], axis=1)\n",
    "sst_months_night_adjusted=sst_months_night_adjusted[sst_months_night_adjusted.apply(lambda x: np.abs(x - x.mean()) / x.std() < 3).all(axis=1)]"
   ]
  },
  {
   "cell_type": "markdown",
   "metadata": {},
   "source": [
    "#### Seasons"
   ]
  },
  {
   "cell_type": "markdown",
   "metadata": {},
   "source": [
    "##### Remove Outliers"
   ]
  },
  {
   "cell_type": "code",
   "execution_count": null,
   "metadata": {},
   "outputs": [],
   "source": [
    "sst_summer_night_removed_outliers=original_sst_summer_night[original_sst_summer_night.apply(lambda x: np.abs(x - x.mean()) / x.std() < 3).all(axis=1)]\n",
    "sst_autumn_night_removed_outliers=original_sst_autumn_night[original_sst_autumn_night.apply(lambda x: np.abs(x - x.mean()) / x.std() < 3).all(axis=1)]\n",
    "sst_winter_night_removed_outliers=original_sst_winter_night[original_sst_winter_night.apply(lambda x: np.abs(x - x.mean()) / x.std() < 3).all(axis=1)]\n",
    "sst_spring_night_removed_outliers=original_sst_spring_night[original_sst_spring_night.apply(lambda x: np.abs(x - x.mean()) / x.std() < 3).all(axis=1)]"
   ]
  },
  {
   "cell_type": "markdown",
   "metadata": {},
   "source": [
    "##### Calculate Means"
   ]
  },
  {
   "cell_type": "code",
   "execution_count": null,
   "metadata": {},
   "outputs": [],
   "source": [
    "sst_summer_night_mean=sst_summer_night_removed_outliers.mean()\n",
    "sst_autumn_night_mean=sst_autumn_night_removed_outliers.mean()\n",
    "sst_winter_night_mean=sst_winter_night_removed_outliers.mean()\n",
    "sst_spring_night_mean=sst_spring_night_removed_outliers.mean()"
   ]
  },
  {
   "cell_type": "markdown",
   "metadata": {},
   "source": [
    "##### Create Adjusted Dataframes"
   ]
  },
  {
   "cell_type": "code",
   "execution_count": null,
   "metadata": {},
   "outputs": [],
   "source": [
    "sst_summer_night_adjusted=original_sst_summer_night\n",
    "sst_autumn_night_adjusted=original_sst_autumn_night\n",
    "sst_winter_night_adjusted=original_sst_winter_night\n",
    "sst_spring_night_adjusted=original_sst_spring_night\n",
    "sst_summer_night_adjusted=sst_summer_night_adjusted.replace(np.nan, sst_summer_night_mean)\n",
    "sst_autumn_night_adjusted=sst_autumn_night_adjusted.replace(np.nan, sst_autumn_night_mean)\n",
    "sst_winter_night_adjusted=sst_winter_night_adjusted.replace(np.nan, sst_winter_night_mean)\n",
    "sst_spring_night_adjusted=sst_spring_night_adjusted.replace(np.nan, sst_spring_night_mean)"
   ]
  },
  {
   "cell_type": "markdown",
   "metadata": {},
   "source": [
    "##### Remove Outliers from Adjusted Dataframes"
   ]
  },
  {
   "cell_type": "code",
   "execution_count": null,
   "metadata": {},
   "outputs": [],
   "source": [
    "sst_summer_night_adjusted=sst_summer_night_adjusted[sst_summer_night_adjusted.apply(lambda x: np.abs(x - x.mean()) / x.std() < 3).all(axis=1)]\n",
    "sst_autumn_night_adjusted=sst_autumn_night_adjusted[sst_autumn_night_adjusted.apply(lambda x: np.abs(x - x.mean()) / x.std() < 3).all(axis=1)]\n",
    "sst_winter_night_adjusted=sst_winter_night_adjusted[sst_winter_night_adjusted.apply(lambda x: np.abs(x - x.mean()) / x.std() < 3).all(axis=1)]\n",
    "sst_spring_night_adjusted=sst_spring_night_adjusted[sst_spring_night_adjusted.apply(lambda x: np.abs(x - x.mean()) / x.std() < 3).all(axis=1)]\n",
    "sst_season_night_adjusted=sst_summer_night_adjusted.append(sst_autumn_night_adjusted.append(sst_winter_night_adjusted.append(sst_spring_night_adjusted)))"
   ]
  },
  {
   "cell_type": "markdown",
   "metadata": {},
   "source": [
    "#### Weeks"
   ]
  },
  {
   "cell_type": "markdown",
   "metadata": {},
   "source": [
    "##### Remove Outliers"
   ]
  },
  {
   "cell_type": "code",
   "execution_count": null,
   "metadata": {},
   "outputs": [],
   "source": [
    "sst_weeks_night_removed_outliers={}\n",
    "for i in range(1, 53):\n",
    "    sst_weeks_night_removed_outliers[i]=original_sst_weeks_night[i][original_sst_weeks_night[i].apply(lambda x: np.abs(x - x.mean()) / x.std() < 3).all(axis=1)]"
   ]
  },
  {
   "cell_type": "markdown",
   "metadata": {},
   "source": [
    "##### Calculate Means"
   ]
  },
  {
   "cell_type": "code",
   "execution_count": null,
   "metadata": {},
   "outputs": [],
   "source": [
    "sst_weeks_night_mean={}\n",
    "for i in range(1, 53):\n",
    "    sst_weeks_night_mean[i]=sst_weeks_night_removed_outliers[i].mean()"
   ]
  },
  {
   "cell_type": "markdown",
   "metadata": {},
   "source": [
    "##### Create Adjusted Dataframes"
   ]
  },
  {
   "cell_type": "code",
   "execution_count": null,
   "metadata": {},
   "outputs": [],
   "source": [
    "sst_weeks_night_adjusted=original_wavedata.drop([\"Hs\", \"Hmax\", \"Tz\", \"Tp\", \"Dir_Tp TRUE\"], axis=1).between_time('18:00', '6:00')\n",
    "for i in range(1, 53):\n",
    "    sst_weeks_night_adjusted[sst_weeks_night_adjusted[\"Date/Time\"].dt.week==i]=sst_weeks_night_adjusted[sst_weeks_night_adjusted[\"Date/Time\"].dt.week==i].replace(np.nan, sst_weeks_night_mean[i])"
   ]
  },
  {
   "cell_type": "markdown",
   "metadata": {},
   "source": [
    "##### Remove Outliers from Adjusted Dataframes"
   ]
  },
  {
   "cell_type": "code",
   "execution_count": null,
   "metadata": {},
   "outputs": [],
   "source": [
    "sst_weeks_night_adjusted=sst_weeks_night_adjusted.drop([\"Date/Time\"], axis=1)\n",
    "sst_weeks_night_adjusted=sst_weeks_night_adjusted[sst_weeks_night_adjusted.apply(lambda x: np.abs(x - x.mean()) / x.std() < 3).all(axis=1)]"
   ]
  },
  {
   "cell_type": "markdown",
   "metadata": {},
   "source": [
    "### Compile Adjusted Dataframes"
   ]
  },
  {
   "cell_type": "code",
   "execution_count": null,
   "metadata": {},
   "outputs": [],
   "source": [
    "sst_months_adjusted=sst_months_day_adjusted.append(sst_months_night_adjusted)\n",
    "sst_season_adjusted=sst_season_day_adjusted.append(sst_season_night_adjusted)\n",
    "sst_weeks_adjusted=sst_weeks_day_adjusted.append(sst_weeks_night_adjusted)"
   ]
  },
  {
   "cell_type": "markdown",
   "metadata": {},
   "source": [
    "# Create Completed Dataframes"
   ]
  },
  {
   "cell_type": "code",
   "execution_count": null,
   "metadata": {},
   "outputs": [],
   "source": [
    "wavedata_dir_tp_months_sst_months=pd.merge(original_wavedata.drop(['Date/Time', 'Dir_Tp TRUE', 'SST'], axis=1), dir_tp_months_adjusted.join(sst_months_adjusted), 'right', right_index=True, left_on='Date/Time')\n",
    "wavedata_dir_tp_months_sst_season=pd.merge(original_wavedata.drop(['Date/Time', 'Dir_Tp TRUE', 'SST'], axis=1), dir_tp_months_adjusted.join(sst_season_adjusted), 'right', right_index=True, left_on='Date/Time')\n",
    "wavedata_dir_tp_months_sst_weeks=pd.merge(original_wavedata.drop(['Date/Time', 'Dir_Tp TRUE', 'SST'], axis=1), dir_tp_months_adjusted.join(sst_weeks_adjusted), 'right', right_index=True, left_on='Date/Time')\n",
    "wavedata_dir_tp_season_sst_months=pd.merge(original_wavedata.drop(['Date/Time', 'Dir_Tp TRUE', 'SST'], axis=1), dir_tp_season_adjusted.join(sst_months_adjusted), 'right', right_index=True, left_on='Date/Time')\n",
    "wavedata_dir_tp_season_sst_season=pd.merge(original_wavedata.drop(['Date/Time', 'Dir_Tp TRUE', 'SST'], axis=1), dir_tp_season_adjusted.join(sst_season_adjusted), 'right', right_index=True, left_on='Date/Time')\n",
    "wavedata_dir_tp_season_sst_weeks=pd.merge(original_wavedata.drop(['Date/Time', 'Dir_Tp TRUE', 'SST'], axis=1), dir_tp_season_adjusted.join(sst_weeks_adjusted), 'right', right_index=True, left_on='Date/Time')\n",
    "wavedata_dir_tp_weeks_sst_months=pd.merge(original_wavedata.drop(['Date/Time', 'Dir_Tp TRUE', 'SST'], axis=1), dir_tp_weeks_adjusted.join(sst_months_adjusted), 'right', right_index=True, left_on='Date/Time')\n",
    "wavedata_dir_tp_weeks_sst_season=pd.merge(original_wavedata.drop(['Date/Time', 'Dir_Tp TRUE', 'SST'], axis=1), dir_tp_weeks_adjusted.join(sst_season_adjusted), 'right', right_index=True, left_on='Date/Time')\n",
    "wavedata_dir_tp_weeks_sst_weeks=pd.merge(original_wavedata.drop(['Date/Time', 'Dir_Tp TRUE', 'SST'], axis=1), dir_tp_weeks_adjusted.join(sst_weeks_adjusted), 'right', right_index=True, left_on='Date/Time')"
   ]
  },
  {
   "cell_type": "markdown",
   "metadata": {},
   "source": [
    "# Create Normalised Dataframes"
   ]
  },
  {
   "cell_type": "code",
   "execution_count": null,
   "metadata": {},
   "outputs": [],
   "source": [
    "normalised_wavedata_dir_tp_months_sst_months=normalise_dataframe(wavedata_dir_tp_months_sst_months).sort_index()\n",
    "normalised_wavedata_dir_tp_months_sst_season=normalise_dataframe(wavedata_dir_tp_months_sst_season).sort_index()\n",
    "normalised_wavedata_dir_tp_months_sst_weeks=normalise_dataframe(wavedata_dir_tp_months_sst_weeks).sort_index()\n",
    "normalised_wavedata_dir_tp_season_sst_months=normalise_dataframe(wavedata_dir_tp_season_sst_months).sort_index()\n",
    "normalised_wavedata_dir_tp_season_sst_season=normalise_dataframe(wavedata_dir_tp_season_sst_season).sort_index()\n",
    "normalised_wavedata_dir_tp_season_sst_weeks=normalise_dataframe(wavedata_dir_tp_season_sst_weeks).sort_index()\n",
    "normalised_wavedata_dir_tp_weeks_sst_months=normalise_dataframe(wavedata_dir_tp_weeks_sst_months).sort_index()\n",
    "normalised_wavedata_dir_tp_weeks_sst_season=normalise_dataframe(wavedata_dir_tp_weeks_sst_season).sort_index()\n",
    "normalised_wavedata_dir_tp_weeks_sst_weeks=normalise_dataframe(wavedata_dir_tp_weeks_sst_weeks).sort_index()"
   ]
  }
 ],
 "metadata": {
  "kernelspec": {
   "display_name": "Python 3",
   "language": "python",
   "name": "python3"
  },
  "language_info": {
   "codemirror_mode": {
    "name": "ipython",
    "version": 3
   },
   "file_extension": ".py",
   "mimetype": "text/x-python",
   "name": "python",
   "nbconvert_exporter": "python",
   "pygments_lexer": "ipython3",
   "version": "3.6.8"
  }
 },
 "nbformat": 4,
 "nbformat_minor": 2
}
