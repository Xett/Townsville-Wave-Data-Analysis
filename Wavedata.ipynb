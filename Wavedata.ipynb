{
 "cells": [
  {
   "cell_type": "markdown",
   "metadata": {},
   "source": [
    "# Imports"
   ]
  },
  {
   "cell_type": "code",
   "execution_count": null,
   "metadata": {},
   "outputs": [],
   "source": [
    "import pandas as pd\n",
    "import numpy as np\n",
    "import seaborn as sns\n",
    "import matplotlib.pyplot as plt\n",
    "from sklearn import preprocessing"
   ]
  },
  {
   "cell_type": "markdown",
   "metadata": {},
   "source": [
    "# Load Dataset"
   ]
  },
  {
   "cell_type": "code",
   "execution_count": null,
   "metadata": {},
   "outputs": [],
   "source": [
    "wavedata=pd.read_csv('data files/townsville-wavedata-1975-2019.csv', low_memory=False)\n",
    "pd.set_option('display.float_format', lambda x:'%f'%x)"
   ]
  },
  {
   "cell_type": "code",
   "execution_count": null,
   "metadata": {
    "scrolled": true
   },
   "outputs": [],
   "source": [
    "wavedata['Date/Time']=pd.to_datetime(wavedata['Date/Time'])"
   ]
  },
  {
   "cell_type": "markdown",
   "metadata": {},
   "source": [
    "# Function Definitions"
   ]
  },
  {
   "cell_type": "code",
   "execution_count": null,
   "metadata": {},
   "outputs": [],
   "source": [
    "def create_complete_frame(_date_time=None, _hs=None, _hmax=None, _tz=None, _tp=None, _dir_tp=None, _sst=None):\n",
    "    if _date_time==None:\n",
    "        _date_time=date_time\n",
    "    if _hs==None:\n",
    "        _hs=hs\n",
    "    if _hmax==None:\n",
    "        _hmax=hmax\n",
    "    if _tz==None:\n",
    "        _tz=tz\n",
    "    if _tp==None:\n",
    "        _tp=tp\n",
    "    if _dir_tp==None:\n",
    "        _dir_tp=dir_tp\n",
    "    if _sst==None:\n",
    "        _sst=sst\n",
    "    return pd.concat([_date_time, _hs, _hmax, _tz, _tp, _dir_tp, _sst], axis=1, keys=['Date/Time', 'Hs', 'Hmax', 'Tz', 'Tp', 'Dir_Tp TRUE', 'SST'])"
   ]
  },
  {
   "cell_type": "code",
   "execution_count": null,
   "metadata": {},
   "outputs": [],
   "source": [
    "def create_directional_frame(_date_time=None, _dir_tp=None):\n",
    "    if _date_time==None:\n",
    "        _date_time=date_time\n",
    "    if _dir_tp==None:\n",
    "        _dir_tp=dir_tp\n",
    "    return pd.concat([_date_time, _dir_tp], axis=1, keys=['Date/Time', 'Dir_Tp TRUE'])"
   ]
  },
  {
   "cell_type": "code",
   "execution_count": null,
   "metadata": {},
   "outputs": [],
   "source": [
    "def create_sst_frame(_date_time=None, _sst=None):\n",
    "    if _date_time==None:\n",
    "        _date_time=date_time\n",
    "    if _sst==None:\n",
    "        _sst=sst\n",
    "    return pd.concat([_date_time, _sst], axis=1, keys=['Date/Time', 'SST'])"
   ]
  },
  {
   "cell_type": "code",
   "execution_count": null,
   "metadata": {},
   "outputs": [],
   "source": [
    "def normalise_dataframe(dataframe, columnList):\n",
    "    x=dataframe.drop(\"Date/Time\", axis=1).values()\n",
    "    min_max_scaler=preprocessing.MinMaxScaler()\n",
    "    x_scaled=min_max_scaler.fit_transform(x)\n",
    "    normalised_dataframe=pd.DataFrame(x_scaled)\n",
    "    normalised_dataframe.columns=columnList\n",
    "    return normalised_dataframe"
   ]
  },
  {
   "cell_type": "markdown",
   "metadata": {},
   "source": [
    "# Variable Declarations"
   ]
  },
  {
   "cell_type": "code",
   "execution_count": null,
   "metadata": {},
   "outputs": [],
   "source": [
    "date_time=wavedata['Date/Time']\n",
    "hs=wavedata['Hs']\n",
    "hmax=wavedata['Hmax']\n",
    "tz=wavedata['Tz']\n",
    "tp=wavedata['Tp']\n",
    "dir_tp=wavedata['Dir_Tp TRUE']\n",
    "sst=wavedata['SST']"
   ]
  },
  {
   "cell_type": "code",
   "execution_count": null,
   "metadata": {},
   "outputs": [],
   "source": []
  },
  {
   "cell_type": "code",
   "execution_count": null,
   "metadata": {},
   "outputs": [],
   "source": []
  },
  {
   "cell_type": "code",
   "execution_count": null,
   "metadata": {},
   "outputs": [],
   "source": []
  },
  {
   "cell_type": "code",
   "execution_count": null,
   "metadata": {},
   "outputs": [],
   "source": []
  },
  {
   "cell_type": "code",
   "execution_count": null,
   "metadata": {},
   "outputs": [],
   "source": []
  }
 ],
 "metadata": {
  "kernelspec": {
   "display_name": "Python 3",
   "language": "python",
   "name": "python3"
  },
  "language_info": {
   "codemirror_mode": {
    "name": "ipython",
    "version": 3
   },
   "file_extension": ".py",
   "mimetype": "text/x-python",
   "name": "python",
   "nbconvert_exporter": "python",
   "pygments_lexer": "ipython3",
   "version": "3.6.8"
  }
 },
 "nbformat": 4,
 "nbformat_minor": 2
}
