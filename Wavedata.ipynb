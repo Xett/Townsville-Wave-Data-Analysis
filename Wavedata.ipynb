{
 "cells": [
  {
   "cell_type": "markdown",
   "metadata": {},
   "source": [
    "# Imports"
   ]
  },
  {
   "cell_type": "code",
   "execution_count": null,
   "metadata": {},
   "outputs": [],
   "source": [
    "import pandas as pd\n",
    "import numpy as np\n",
    "import seaborn as sns\n",
    "import matplotlib.pyplot as plt\n",
    "from sklearn import preprocessing"
   ]
  },
  {
   "cell_type": "markdown",
   "metadata": {},
   "source": [
    "# Load Dataset"
   ]
  },
  {
   "cell_type": "code",
   "execution_count": null,
   "metadata": {},
   "outputs": [],
   "source": [
    "original_wavedata=pd.read_csv('data files/townsville-wavedata-1975-2019.csv', low_memory=False)\n",
    "pd.set_option('display.float_format', lambda x:'%f'%x)"
   ]
  },
  {
   "cell_type": "code",
   "execution_count": null,
   "metadata": {
    "scrolled": true
   },
   "outputs": [],
   "source": [
    "original_wavedata['Date/Time']=pd.to_datetime(original_wavedata['Date/Time'])\n",
    "original_wavedata=original_wavedata.set_index(pd.DatetimeIndex(original_wavedata['Date/Time']))"
   ]
  },
  {
   "cell_type": "markdown",
   "metadata": {},
   "source": [
    "# Function Definitions"
   ]
  },
  {
   "cell_type": "code",
   "execution_count": null,
   "metadata": {},
   "outputs": [],
   "source": [
    "def create_complete_frame(_date_time=None, _hs=None, _hmax=None, _tz=None, _tp=None, _dir_tp=None, _sst=None):\n",
    "    if _date_time==None:\n",
    "        _date_time=date_time\n",
    "    if _hs==None:\n",
    "        _hs=hs\n",
    "    if _hmax==None:\n",
    "        _hmax=hmax\n",
    "    if _tz==None:\n",
    "        _tz=tz\n",
    "    if _tp==None:\n",
    "        _tp=tp\n",
    "    if _dir_tp==None:\n",
    "        _dir_tp=dir_tp\n",
    "    if _sst==None:\n",
    "        _sst=sst\n",
    "    return pd.concat([_date_time, _hs, _hmax, _tz, _tp, _dir_tp, _sst], axis=1, keys=['Date/Time', 'Hs', 'Hmax', 'Tz', 'Tp', 'Dir_Tp TRUE', 'SST'])"
   ]
  },
  {
   "cell_type": "code",
   "execution_count": null,
   "metadata": {},
   "outputs": [],
   "source": [
    "def create_directional_frame(_date_time=None, _dir_tp=None):\n",
    "    if _date_time==None:\n",
    "        _date_time=date_time\n",
    "    if _dir_tp==None:\n",
    "        _dir_tp=dir_tp\n",
    "    return pd.concat([_date_time, _dir_tp], axis=1, keys=['Date/Time', 'Dir_Tp TRUE'])"
   ]
  },
  {
   "cell_type": "code",
   "execution_count": null,
   "metadata": {},
   "outputs": [],
   "source": [
    "def create_sst_frame(_date_time=None, _sst=None):\n",
    "    if _date_time==None:\n",
    "        _date_time=date_time\n",
    "    if _sst==None:\n",
    "        _sst=sst\n",
    "    return pd.concat([_date_time, _sst], axis=1, keys=['Date/Time', 'SST'])"
   ]
  },
  {
   "cell_type": "code",
   "execution_count": null,
   "metadata": {},
   "outputs": [],
   "source": [
    "def normalise_dataframe(dataframe, columnList):\n",
    "    x=dataframe.drop(\"Date/Time\", axis=1).values()\n",
    "    min_max_scaler=preprocessing.MinMaxScaler()\n",
    "    x_scaled=min_max_scaler.fit_transform(x)\n",
    "    normalised_dataframe=pd.DataFrame(x_scaled)\n",
    "    normalised_dataframe.columns=columnList\n",
    "    return normalised_dataframe"
   ]
  },
  {
   "cell_type": "markdown",
   "metadata": {},
   "source": [
    "# Variable Declarations"
   ]
  },
  {
   "cell_type": "markdown",
   "metadata": {},
   "source": [
    "## Original Dataset Variables"
   ]
  },
  {
   "cell_type": "code",
   "execution_count": null,
   "metadata": {},
   "outputs": [],
   "source": [
    "original_date_time=original_wavedata['Date/Time']\n",
    "original_hs=original_wavedata['Hs']\n",
    "original_hmax=original_wavedata['Hmax']\n",
    "original_tz=original_wavedata['Tz']\n",
    "original_tp=original_wavedata['Tp']\n",
    "original_dir_tp=original_wavedata['Dir_Tp TRUE']\n",
    "original_sst=original_wavedata['SST']"
   ]
  },
  {
   "cell_type": "markdown",
   "metadata": {},
   "source": [
    "## Direction True North"
   ]
  },
  {
   "cell_type": "code",
   "execution_count": null,
   "metadata": {},
   "outputs": [],
   "source": [
    "original_dir_tp_month={}\n",
    "for i in range(1, 13):\n",
    "    original_dir_tp_month[i]=original_wavedata[original_wavedata[\"Date/Time\"].dt.month==i].drop([\"Hs\", \"Hmax\", \"Tz\", \"Tp\", \"SST\"], axis=1)"
   ]
  },
  {
   "cell_type": "code",
   "execution_count": null,
   "metadata": {},
   "outputs": [],
   "source": [
    "original_dir_tp_summer=original_dir_tp_month[1].append(original_dir_tp_month[2].append(original_dir_tp_month[12], ignore_index=True), ignore_index=True)\n",
    "original_dir_tp_autumn=original_dir_tp_month[3].append(original_dir_tp_month[4].append(original_dir_tp_month[5], ignore_index=True), ignore_index=True)\n",
    "original_dir_tp_winter=original_dir_tp_month[6].append(original_dir_tp_month[7].append(original_dir_tp_month[8], ignore_index=True), ignore_index=True)\n",
    "original_dir_tp_spring=original_dir_tp_month[9].append(original_dir_tp_month[10].append(original_dir_tp_month[11], ignore_index=True), ignore_index=True)"
   ]
  },
  {
   "cell_type": "code",
   "execution_count": null,
   "metadata": {},
   "outputs": [],
   "source": [
    "original_dir_tp_week={}\n",
    "for i in range(1, 53):\n",
    "    original_dir_tp_week[i]=original_wavedata[original_wavedata[\"Date/Time\"].dt.week==i].drop([\"Hs\", \"Hmax\", \"Tz\", \"Tp\", \"SST\"], axis=1)"
   ]
  },
  {
   "cell_type": "markdown",
   "metadata": {},
   "source": [
    "## Sea Surface Temperature"
   ]
  },
  {
   "cell_type": "code",
   "execution_count": null,
   "metadata": {},
   "outputs": [],
   "source": [
    "original_sst_month={}\n",
    "for i in range(1, 13):\n",
    "    original_sst_month[i]=original_wavedata[original_wavedata[\"Date/Time\"].dt.month==i].drop([\"Hs\", \"Hmax\", \"Tz\", \"Tp\", \"Dir_Tp TRUE\"], axis=1)"
   ]
  },
  {
   "cell_type": "code",
   "execution_count": null,
   "metadata": {},
   "outputs": [],
   "source": [
    "original_sst_summer=original_sst_month[1].append(original_sst_month[2].append(original_sst_month[12], ignore_index=True), ignore_index=True)\n",
    "original_sst_autumn=original_sst_month[3].append(original_sst_month[4].append(original_sst_month[5], ignore_index=True), ignore_index=True)\n",
    "original_sst_winter=original_sst_month[6].append(original_sst_month[7].append(original_sst_month[8], ignore_index=True), ignore_index=True)\n",
    "original_sst_spring=original_sst_month[9].append(original_sst_month[10].append(original_sst_month[11], ignore_index=True), ignore_index=True)"
   ]
  },
  {
   "cell_type": "code",
   "execution_count": null,
   "metadata": {},
   "outputs": [],
   "source": [
    "original_sst_week={}\n",
    "for i in range(1, 53):\n",
    "    original_sst_week[i]=original_wavedata[original_wavedata[\"Date/Time\"].dt.week==i].drop([\"Hs\", \"Hmax\", \"Tz\", \"Tp\", \"Dir_Tp TRUE\"], axis=1)"
   ]
  },
  {
   "cell_type": "markdown",
   "metadata": {},
   "source": [
    "### Day"
   ]
  },
  {
   "cell_type": "code",
   "execution_count": null,
   "metadata": {},
   "outputs": [],
   "source": [
    "original_sst_month_day={}\n",
    "for i in range(1, 13):\n",
    "    original_sst_month_day[i]=original_sst_month[i].between_time('6:00', '18:00')"
   ]
  },
  {
   "cell_type": "code",
   "execution_count": null,
   "metadata": {},
   "outputs": [],
   "source": [
    "original_sst_summer_day=original_sst_month_day[1].append(original_sst_month_day[2].append(original_sst_month_day[12], ignore_index=True), ignore_index=True)\n",
    "original_sst_autumn_day=original_sst_month_day[3].append(original_sst_month_day[4].append(original_sst_month_day[5], ignore_index=True), ignore_index=True)\n",
    "original_sst_winter_day=original_sst_month_day[6].append(original_sst_month_day[7].append(original_sst_month_day[8], ignore_index=True), ignore_index=True)\n",
    "original_sst_spring_day=original_sst_month_day[9].append(original_sst_month_day[10].append(original_sst_month_day[11], ignore_index=True), ignore_index=True)"
   ]
  },
  {
   "cell_type": "code",
   "execution_count": null,
   "metadata": {},
   "outputs": [],
   "source": [
    "original_sst_week_day={}\n",
    "for i in range(1, 53):\n",
    "    original_sst_week_day[i]=original_wavedata[original_wavedata[\"Date/Time\"].dt.week==i].drop([\"Hs\", \"Hmax\", \"Tz\", \"Tp\", \"Dir_Tp TRUE\"], axis=1).between_time('6:00', '18:00')"
   ]
  }
 ],
 "metadata": {
  "kernelspec": {
   "display_name": "Python 3",
   "language": "python",
   "name": "python3"
  },
  "language_info": {
   "codemirror_mode": {
    "name": "ipython",
    "version": 3
   },
   "file_extension": ".py",
   "mimetype": "text/x-python",
   "name": "python",
   "nbconvert_exporter": "python",
   "pygments_lexer": "ipython3",
   "version": "3.6.8"
  }
 },
 "nbformat": 4,
 "nbformat_minor": 2
}
