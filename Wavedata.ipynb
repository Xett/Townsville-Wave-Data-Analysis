{
 "cells": [
  {
   "cell_type": "markdown",
   "metadata": {},
   "source": [
    "# Imports"
   ]
  },
  {
   "cell_type": "code",
   "execution_count": 1,
   "metadata": {},
   "outputs": [],
   "source": [
    "import pandas as pd\n",
    "import numpy as np\n",
    "import seaborn as sns\n",
    "import matplotlib.pyplot as plt\n",
    "from sklearn import preprocessing\n",
    "import copy\n",
    "import time"
   ]
  },
  {
   "cell_type": "markdown",
   "metadata": {},
   "source": [
    "# Load Dataset"
   ]
  },
  {
   "cell_type": "code",
   "execution_count": 2,
   "metadata": {},
   "outputs": [],
   "source": [
    "original_wavedata=pd.read_csv('data files/townsville-wavedata-1975-2019.csv', low_memory=False)\n",
    "pd.set_option('display.float_format', lambda x:'%f'%x)"
   ]
  },
  {
   "cell_type": "code",
   "execution_count": 3,
   "metadata": {
    "scrolled": true
   },
   "outputs": [],
   "source": [
    "original_wavedata['Date/Time']=pd.to_datetime(original_wavedata['Date/Time'])\n",
    "original_wavedata=original_wavedata.set_index(pd.DatetimeIndex(original_wavedata['Date/Time']))"
   ]
  },
  {
   "cell_type": "markdown",
   "metadata": {},
   "source": [
    "# Function Definitions"
   ]
  },
  {
   "cell_type": "code",
   "execution_count": 4,
   "metadata": {},
   "outputs": [],
   "source": [
    "def normalise_dataframe(dataframe):\n",
    "    x=copy.deepcopy(dataframe)\n",
    "    min_max_scaler=preprocessing.MinMaxScaler()\n",
    "    x_scaled=min_max_scaler.fit_transform(x)\n",
    "    normalised_dataframe=pd.DataFrame(x_scaled, columns=dataframe.columns, index=dataframe.index)\n",
    "    return normalised_dataframe"
   ]
  },
  {
   "cell_type": "markdown",
   "metadata": {},
   "source": [
    "# Remove Outliers"
   ]
  },
  {
   "cell_type": "code",
   "execution_count": 5,
   "metadata": {},
   "outputs": [],
   "source": [
    "wavedata_adjusted=copy.deepcopy(original_wavedata)\n",
    "wavedata_adjusted['Hs']=wavedata_adjusted['Hs'][wavedata_adjusted.drop([\"Date/Time\", \"Hmax\", \"Tz\", \"Tp\", \"Dir_Tp TRUE\", \"SST\"], axis=1).apply(lambda x: np.abs(x - x.mean()) / x.std() < 3).all(axis=1)]\n",
    "wavedata_adjusted['Hmax']=wavedata_adjusted['Hmax'][wavedata_adjusted.drop([\"Date/Time\", \"Hs\", \"Tz\", \"Tp\", \"Dir_Tp TRUE\", \"SST\"], axis=1).apply(lambda x: np.abs(x - x.mean()) / x.std() < 3).all(axis=1)]\n",
    "wavedata_adjusted['Tz']=wavedata_adjusted['Tz'][wavedata_adjusted.drop([\"Date/Time\", \"Hs\", \"Hmax\", \"Tp\", \"Dir_Tp TRUE\", \"SST\"], axis=1).apply(lambda x: np.abs(x - x.mean()) / x.std() < 3).all(axis=1)]\n",
    "wavedata_adjusted['Tp']=wavedata_adjusted['Tp'][wavedata_adjusted.drop([\"Date/Time\", \"Hs\", \"Hmax\", \"Tz\", \"Dir_Tp TRUE\", \"SST\"], axis=1).apply(lambda x: np.abs(x - x.mean()) / x.std() < 3).all(axis=1)]\n",
    "wavedata_adjusted=wavedata_adjusted.drop([\"Date/Time\", \"Dir_Tp TRUE\", \"SST\"], axis=1).dropna()"
   ]
  },
  {
   "cell_type": "markdown",
   "metadata": {},
   "source": [
    "# Variable Declarations"
   ]
  },
  {
   "cell_type": "markdown",
   "metadata": {},
   "source": [
    "## Direction True North"
   ]
  },
  {
   "cell_type": "code",
   "execution_count": 6,
   "metadata": {},
   "outputs": [],
   "source": [
    "original_dir_tp_months={}\n",
    "for i in range(1, 13):\n",
    "    original_dir_tp_months[i]=original_wavedata[original_wavedata[\"Date/Time\"].dt.month==i].drop([\"Date/Time\", \"Hs\", \"Hmax\", \"Tz\", \"Tp\", \"SST\"], axis=1)"
   ]
  },
  {
   "cell_type": "code",
   "execution_count": 7,
   "metadata": {},
   "outputs": [],
   "source": [
    "original_dir_tp_summer=original_dir_tp_months[1].append(original_dir_tp_months[2].append(original_dir_tp_months[12]))\n",
    "original_dir_tp_autumn=original_dir_tp_months[3].append(original_dir_tp_months[4].append(original_dir_tp_months[5]))\n",
    "original_dir_tp_winter=original_dir_tp_months[6].append(original_dir_tp_months[7].append(original_dir_tp_months[8]))\n",
    "original_dir_tp_spring=original_dir_tp_months[9].append(original_dir_tp_months[10].append(original_dir_tp_months[11]))"
   ]
  },
  {
   "cell_type": "code",
   "execution_count": 8,
   "metadata": {},
   "outputs": [],
   "source": [
    "original_dir_tp_weeks={}\n",
    "for i in range(1, 53):\n",
    "    original_dir_tp_weeks[i]=original_wavedata[original_wavedata[\"Date/Time\"].dt.week==i].drop([\"Date/Time\", \"Hs\", \"Hmax\", \"Tz\", \"Tp\", \"SST\"], axis=1)"
   ]
  },
  {
   "cell_type": "markdown",
   "metadata": {},
   "source": [
    "## Sea Surface Temperature"
   ]
  },
  {
   "cell_type": "code",
   "execution_count": 9,
   "metadata": {},
   "outputs": [],
   "source": [
    "original_sst_months={}\n",
    "for i in range(1, 13):\n",
    "    original_sst_months[i]=original_wavedata[original_wavedata[\"Date/Time\"].dt.month==i].drop([\"Date/Time\", \"Hs\", \"Hmax\", \"Tz\", \"Tp\", \"Dir_Tp TRUE\"], axis=1)"
   ]
  },
  {
   "cell_type": "code",
   "execution_count": 10,
   "metadata": {},
   "outputs": [],
   "source": [
    "original_sst_summer=original_sst_months[1].append(original_sst_months[2].append(original_sst_months[12]))\n",
    "original_sst_autumn=original_sst_months[3].append(original_sst_months[4].append(original_sst_months[5]))\n",
    "original_sst_winter=original_sst_months[6].append(original_sst_months[7].append(original_sst_months[8]))\n",
    "original_sst_spring=original_sst_months[9].append(original_sst_months[10].append(original_sst_months[11]))"
   ]
  },
  {
   "cell_type": "code",
   "execution_count": 11,
   "metadata": {},
   "outputs": [],
   "source": [
    "original_sst_weeks={}\n",
    "for i in range(1, 53):\n",
    "    original_sst_weeks[i]=original_wavedata[original_wavedata[\"Date/Time\"].dt.week==i].drop([\"Date/Time\", \"Hs\", \"Hmax\", \"Tz\", \"Tp\", \"Dir_Tp TRUE\"], axis=1)"
   ]
  },
  {
   "cell_type": "markdown",
   "metadata": {},
   "source": [
    "### Day"
   ]
  },
  {
   "cell_type": "code",
   "execution_count": 12,
   "metadata": {},
   "outputs": [],
   "source": [
    "original_sst_months_day={}\n",
    "for i in range(1, 13):\n",
    "    original_sst_months_day[i]=original_sst_months[i].between_time('6:00', '18:00')"
   ]
  },
  {
   "cell_type": "code",
   "execution_count": 13,
   "metadata": {},
   "outputs": [],
   "source": [
    "original_sst_summer_day=original_sst_months_day[1].append(original_sst_months_day[2].append(original_sst_months_day[12]))\n",
    "original_sst_autumn_day=original_sst_months_day[3].append(original_sst_months_day[4].append(original_sst_months_day[5]))\n",
    "original_sst_winter_day=original_sst_months_day[6].append(original_sst_months_day[7].append(original_sst_months_day[8]))\n",
    "original_sst_spring_day=original_sst_months_day[9].append(original_sst_months_day[10].append(original_sst_months_day[11]))"
   ]
  },
  {
   "cell_type": "code",
   "execution_count": 14,
   "metadata": {},
   "outputs": [],
   "source": [
    "original_sst_weeks_day={}\n",
    "for i in range(1, 53):\n",
    "    original_sst_weeks_day[i]=original_wavedata[original_wavedata[\"Date/Time\"].dt.week==i].drop([\"Date/Time\", \"Hs\", \"Hmax\", \"Tz\", \"Tp\", \"Dir_Tp TRUE\"], axis=1).between_time('6:00', '18:00')"
   ]
  },
  {
   "cell_type": "markdown",
   "metadata": {},
   "source": [
    "### Night"
   ]
  },
  {
   "cell_type": "code",
   "execution_count": 15,
   "metadata": {},
   "outputs": [],
   "source": [
    "original_sst_months_night={}\n",
    "for i in range(1, 13):\n",
    "    original_sst_months_night[i]=original_sst_months[i].between_time('18:00', '6:00')"
   ]
  },
  {
   "cell_type": "code",
   "execution_count": 16,
   "metadata": {},
   "outputs": [],
   "source": [
    "original_sst_summer_night=original_sst_months_night[1].append(original_sst_months_night[2].append(original_sst_months_night[12]))\n",
    "original_sst_autumn_night=original_sst_months_night[3].append(original_sst_months_night[4].append(original_sst_months_night[5]))\n",
    "original_sst_winter_night=original_sst_months_night[6].append(original_sst_months_night[7].append(original_sst_months_night[8]))\n",
    "original_sst_spring_night=original_sst_months_night[9].append(original_sst_months_night[10].append(original_sst_months_night[11]))"
   ]
  },
  {
   "cell_type": "code",
   "execution_count": 17,
   "metadata": {},
   "outputs": [],
   "source": [
    "original_sst_weeks_night={}\n",
    "for i in range(1, 53):\n",
    "    original_sst_weeks_night[i]=original_wavedata[original_wavedata[\"Date/Time\"].dt.week==i].drop([\"Date/Time\", \"Hs\", \"Hmax\", \"Tz\", \"Tp\", \"Dir_Tp TRUE\"], axis=1).between_time('18:00', '6:00')"
   ]
  },
  {
   "cell_type": "markdown",
   "metadata": {},
   "source": [
    "# Remove Outliers and Fill NULL Values"
   ]
  },
  {
   "cell_type": "markdown",
   "metadata": {},
   "source": [
    "## Direction True North"
   ]
  },
  {
   "cell_type": "markdown",
   "metadata": {},
   "source": [
    "### Month"
   ]
  },
  {
   "cell_type": "markdown",
   "metadata": {},
   "source": [
    "#### Remove Outliers"
   ]
  },
  {
   "cell_type": "code",
   "execution_count": 18,
   "metadata": {},
   "outputs": [],
   "source": [
    "dir_tp_months_removed_outliers={}\n",
    "for i in range(1, 13):\n",
    "    dir_tp_months_removed_outliers[i]=original_dir_tp_months[i][original_dir_tp_months[i].apply(lambda x: np.abs(x - x.mean()) / x.std() < 3).all(axis=1)]"
   ]
  },
  {
   "cell_type": "markdown",
   "metadata": {},
   "source": [
    "#### Calculate Means"
   ]
  },
  {
   "cell_type": "code",
   "execution_count": 19,
   "metadata": {},
   "outputs": [],
   "source": [
    "dir_tp_months_mean={}\n",
    "for i in range(1, 13):\n",
    "    dir_tp_months_mean[i]=dir_tp_months_removed_outliers[i].mean()"
   ]
  },
  {
   "cell_type": "markdown",
   "metadata": {},
   "source": [
    "#### Create Adjusted Dataframe"
   ]
  },
  {
   "cell_type": "code",
   "execution_count": 20,
   "metadata": {},
   "outputs": [],
   "source": [
    "dir_tp_months_adjusted=original_wavedata.drop([\"Hs\", \"Hmax\", \"Tz\", \"Tp\", \"SST\"], axis=1)\n",
    "for i in range(1, 13):\n",
    "    dir_tp_months_adjusted[dir_tp_months_adjusted[\"Date/Time\"].dt.month==i]=dir_tp_months_adjusted[dir_tp_months_adjusted[\"Date/Time\"].dt.month==i].replace(np.nan, dir_tp_months_mean[i])"
   ]
  },
  {
   "cell_type": "markdown",
   "metadata": {},
   "source": [
    "#### Remove Outliers from Adjusted Dataframe"
   ]
  },
  {
   "cell_type": "code",
   "execution_count": 21,
   "metadata": {},
   "outputs": [],
   "source": [
    "dir_tp_months_adjusted=dir_tp_months_adjusted.drop([\"Date/Time\"], axis=1)\n",
    "dir_tp_months_adjusted=dir_tp_months_adjusted[dir_tp_months_adjusted.apply(lambda x: np.abs(x - x.mean()) / x.std() < 3).all(axis=1)]"
   ]
  },
  {
   "cell_type": "markdown",
   "metadata": {},
   "source": [
    "### Seasonal"
   ]
  },
  {
   "cell_type": "markdown",
   "metadata": {},
   "source": [
    "#### Remove Outliers"
   ]
  },
  {
   "cell_type": "code",
   "execution_count": 22,
   "metadata": {},
   "outputs": [],
   "source": [
    "dir_tp_summer_removed_outliers=original_dir_tp_summer[original_dir_tp_summer.apply(lambda x: np.abs(x - x.mean()) / x.std() < 3).all(axis=1)]\n",
    "dir_tp_autumn_removed_outliers=original_dir_tp_autumn[original_dir_tp_autumn.apply(lambda x: np.abs(x - x.mean()) / x.std() < 3).all(axis=1)]\n",
    "dir_tp_winter_removed_outliers=original_dir_tp_winter[original_dir_tp_winter.apply(lambda x: np.abs(x - x.mean()) / x.std() < 3).all(axis=1)]\n",
    "dir_tp_spring_removed_outliers=original_dir_tp_spring[original_dir_tp_spring.apply(lambda x: np.abs(x - x.mean()) / x.std() < 3).all(axis=1)]"
   ]
  },
  {
   "cell_type": "markdown",
   "metadata": {},
   "source": [
    "#### Calculate Mean"
   ]
  },
  {
   "cell_type": "code",
   "execution_count": 23,
   "metadata": {},
   "outputs": [],
   "source": [
    "dir_tp_summer_mean=dir_tp_summer_removed_outliers.mean()\n",
    "dir_tp_autumn_mean=dir_tp_autumn_removed_outliers.mean()\n",
    "dir_tp_winter_mean=dir_tp_winter_removed_outliers.mean()\n",
    "dir_tp_spring_mean=dir_tp_spring_removed_outliers.mean()"
   ]
  },
  {
   "cell_type": "markdown",
   "metadata": {},
   "source": [
    "#### Create Adjusted Dataframe"
   ]
  },
  {
   "cell_type": "code",
   "execution_count": 24,
   "metadata": {},
   "outputs": [],
   "source": [
    "dir_tp_summer_adjusted=original_dir_tp_summer\n",
    "dir_tp_autumn_adjusted=original_dir_tp_autumn\n",
    "dir_tp_winter_adjusted=original_dir_tp_winter\n",
    "dir_tp_spring_adjusted=original_dir_tp_spring\n",
    "dir_tp_summer_adjusted=dir_tp_summer_adjusted.replace(np.nan, dir_tp_summer_mean)\n",
    "dir_tp_autumn_adjusted=dir_tp_autumn_adjusted.replace(np.nan, dir_tp_autumn_mean)\n",
    "dir_tp_winter_adjusted=dir_tp_winter_adjusted.replace(np.nan, dir_tp_winter_mean)\n",
    "dir_tp_spring_adjusted=dir_tp_spring_adjusted.replace(np.nan, dir_tp_spring_mean)"
   ]
  },
  {
   "cell_type": "markdown",
   "metadata": {},
   "source": [
    "#### Remove Outliers from Adjusted Dataframe"
   ]
  },
  {
   "cell_type": "code",
   "execution_count": 25,
   "metadata": {},
   "outputs": [],
   "source": [
    "dir_tp_summer_adjusted=dir_tp_summer_adjusted[dir_tp_summer_adjusted.apply(lambda x: np.abs(x - x.mean()) / x.std() < 3).all(axis=1)]\n",
    "dir_tp_autumn_adjusted=dir_tp_autumn_adjusted[dir_tp_autumn_adjusted.apply(lambda x: np.abs(x - x.mean()) / x.std() < 3).all(axis=1)]\n",
    "dir_tp_winter_adjusted=dir_tp_winter_adjusted[dir_tp_winter_adjusted.apply(lambda x: np.abs(x - x.mean()) / x.std() < 3).all(axis=1)]\n",
    "dir_tp_spring_adjusted=dir_tp_spring_adjusted[dir_tp_spring_adjusted.apply(lambda x: np.abs(x - x.mean()) / x.std() < 3).all(axis=1)]\n",
    "dir_tp_season_adjusted=dir_tp_summer_adjusted.append(dir_tp_autumn_adjusted.append(dir_tp_winter_adjusted.append(dir_tp_spring_adjusted)))"
   ]
  },
  {
   "cell_type": "markdown",
   "metadata": {},
   "source": [
    "### Weeks"
   ]
  },
  {
   "cell_type": "markdown",
   "metadata": {},
   "source": [
    "#### Remove Outliers"
   ]
  },
  {
   "cell_type": "code",
   "execution_count": 26,
   "metadata": {},
   "outputs": [],
   "source": [
    "dir_tp_weeks_removed_outliers={}\n",
    "for i in range(1, 53):\n",
    "    dir_tp_weeks_removed_outliers[i]=original_dir_tp_weeks[i][original_dir_tp_weeks[i].apply(lambda x: np.abs(x - x.mean()) / x.std() < 3).all(axis=1)]"
   ]
  },
  {
   "cell_type": "markdown",
   "metadata": {},
   "source": [
    "#### Calculate Means"
   ]
  },
  {
   "cell_type": "code",
   "execution_count": 27,
   "metadata": {},
   "outputs": [],
   "source": [
    "dir_tp_weeks_mean={}\n",
    "for i in range(1, 53):\n",
    "    dir_tp_weeks_mean[i]=dir_tp_weeks_removed_outliers[i].mean()"
   ]
  },
  {
   "cell_type": "markdown",
   "metadata": {},
   "source": [
    "#### Create Adjusted Dataframe"
   ]
  },
  {
   "cell_type": "code",
   "execution_count": 28,
   "metadata": {},
   "outputs": [],
   "source": [
    "dir_tp_weeks_adjusted=original_wavedata.drop([\"Hs\", \"Hmax\", \"Tz\", \"Tp\", \"SST\"], axis=1)\n",
    "for i in range(1, 53):\n",
    "    dir_tp_weeks_adjusted[dir_tp_weeks_adjusted[\"Date/Time\"].dt.week==i]=dir_tp_weeks_adjusted[dir_tp_weeks_adjusted[\"Date/Time\"].dt.week==i].replace(np.nan, dir_tp_weeks_mean[i])"
   ]
  },
  {
   "cell_type": "markdown",
   "metadata": {},
   "source": [
    "#### Remove Outliers from Adjusted Dataframe"
   ]
  },
  {
   "cell_type": "code",
   "execution_count": 29,
   "metadata": {},
   "outputs": [],
   "source": [
    "dir_tp_weeks_adjusted=dir_tp_weeks_adjusted.drop([\"Date/Time\"], axis=1)\n",
    "dir_tp_weeks_adjusted=dir_tp_weeks_adjusted[dir_tp_weeks_adjusted.apply(lambda x: np.abs(x - x.mean()) / x.std() < 3).all(axis=1)]"
   ]
  },
  {
   "cell_type": "markdown",
   "metadata": {},
   "source": [
    "## Sea Surface Temperature"
   ]
  },
  {
   "cell_type": "markdown",
   "metadata": {},
   "source": [
    "### Day"
   ]
  },
  {
   "cell_type": "markdown",
   "metadata": {},
   "source": [
    "#### Months"
   ]
  },
  {
   "cell_type": "markdown",
   "metadata": {},
   "source": [
    "##### Remove Outliers"
   ]
  },
  {
   "cell_type": "code",
   "execution_count": 30,
   "metadata": {},
   "outputs": [],
   "source": [
    "sst_months_day_removed_outliers={}\n",
    "for i in range(1, 13):\n",
    "    sst_months_day_removed_outliers[i]=original_sst_months_day[i][original_sst_months_day[i].apply(lambda x: np.abs(x - x.mean()) / x.std() < 3).all(axis=1)]"
   ]
  },
  {
   "cell_type": "markdown",
   "metadata": {},
   "source": [
    "##### Calculate Means"
   ]
  },
  {
   "cell_type": "code",
   "execution_count": 31,
   "metadata": {},
   "outputs": [],
   "source": [
    "sst_months_day_mean={}\n",
    "for i in range(1, 13):\n",
    "    sst_months_day_mean[i]=sst_months_day_removed_outliers[i].mean()"
   ]
  },
  {
   "cell_type": "markdown",
   "metadata": {},
   "source": [
    "##### Create Adjusted Dataframes"
   ]
  },
  {
   "cell_type": "code",
   "execution_count": 32,
   "metadata": {},
   "outputs": [],
   "source": [
    "sst_months_day_adjusted=original_wavedata.drop([\"Hs\", \"Hmax\", \"Tz\", \"Tp\", \"Dir_Tp TRUE\"], axis=1).between_time('6:00', '18:00')\n",
    "for i in range(1, 13):\n",
    "    sst_months_day_adjusted[sst_months_day_adjusted[\"Date/Time\"].dt.month==i]=sst_months_day_adjusted[sst_months_day_adjusted[\"Date/Time\"].dt.month==i].replace(np.nan, sst_months_day_mean[i])"
   ]
  },
  {
   "cell_type": "markdown",
   "metadata": {},
   "source": [
    "##### Remove Outliers from Adjusted Dataframes"
   ]
  },
  {
   "cell_type": "code",
   "execution_count": 33,
   "metadata": {},
   "outputs": [],
   "source": [
    "sst_months_day_adjusted=sst_months_day_adjusted.drop([\"Date/Time\"], axis=1)\n",
    "sst_months_day_adjusted=sst_months_day_adjusted[sst_months_day_adjusted.apply(lambda x: np.abs(x - x.mean()) / x.std() < 3).all(axis=1)]"
   ]
  },
  {
   "cell_type": "markdown",
   "metadata": {},
   "source": [
    "#### Seasons"
   ]
  },
  {
   "cell_type": "markdown",
   "metadata": {},
   "source": [
    "##### Remove Outliers"
   ]
  },
  {
   "cell_type": "code",
   "execution_count": 34,
   "metadata": {},
   "outputs": [],
   "source": [
    "sst_summer_day_removed_outliers=original_sst_summer_day[original_sst_summer_day.apply(lambda x: np.abs(x - x.mean()) / x.std() < 3).all(axis=1)]\n",
    "sst_autumn_day_removed_outliers=original_sst_autumn_day[original_sst_autumn_day.apply(lambda x: np.abs(x - x.mean()) / x.std() < 3).all(axis=1)]\n",
    "sst_winter_day_removed_outliers=original_sst_winter_day[original_sst_winter_day.apply(lambda x: np.abs(x - x.mean()) / x.std() < 3).all(axis=1)]\n",
    "sst_spring_day_removed_outliers=original_sst_spring_day[original_sst_spring_day.apply(lambda x: np.abs(x - x.mean()) / x.std() < 3).all(axis=1)]"
   ]
  },
  {
   "cell_type": "markdown",
   "metadata": {},
   "source": [
    "##### Calculate Means"
   ]
  },
  {
   "cell_type": "code",
   "execution_count": 35,
   "metadata": {},
   "outputs": [],
   "source": [
    "sst_summer_day_mean=sst_summer_day_removed_outliers.mean()\n",
    "sst_autumn_day_mean=sst_autumn_day_removed_outliers.mean()\n",
    "sst_winter_day_mean=sst_winter_day_removed_outliers.mean()\n",
    "sst_spring_day_mean=sst_spring_day_removed_outliers.mean()"
   ]
  },
  {
   "cell_type": "markdown",
   "metadata": {},
   "source": [
    "##### Create Adjusted Dataframes"
   ]
  },
  {
   "cell_type": "code",
   "execution_count": 36,
   "metadata": {},
   "outputs": [],
   "source": [
    "sst_summer_day_adjusted=original_sst_summer_day\n",
    "sst_autumn_day_adjusted=original_sst_autumn_day\n",
    "sst_winter_day_adjusted=original_sst_winter_day\n",
    "sst_spring_day_adjusted=original_sst_spring_day\n",
    "sst_summer_day_adjusted=sst_summer_day_adjusted.replace(np.nan, sst_summer_day_mean)\n",
    "sst_autumn_day_adjusted=sst_autumn_day_adjusted.replace(np.nan, sst_autumn_day_mean)\n",
    "sst_winter_day_adjusted=sst_winter_day_adjusted.replace(np.nan, sst_winter_day_mean)\n",
    "sst_spring_day_adjusted=sst_spring_day_adjusted.replace(np.nan, sst_spring_day_mean)"
   ]
  },
  {
   "cell_type": "markdown",
   "metadata": {},
   "source": [
    "##### Remove Outliers from Adjusted Dataframes"
   ]
  },
  {
   "cell_type": "code",
   "execution_count": 37,
   "metadata": {},
   "outputs": [],
   "source": [
    "sst_summer_day_adjusted=sst_summer_day_adjusted[sst_summer_day_adjusted.apply(lambda x: np.abs(x - x.mean()) / x.std() < 3).all(axis=1)]\n",
    "sst_autumn_day_adjusted=sst_autumn_day_adjusted[sst_autumn_day_adjusted.apply(lambda x: np.abs(x - x.mean()) / x.std() < 3).all(axis=1)]\n",
    "sst_winter_day_adjusted=sst_winter_day_adjusted[sst_winter_day_adjusted.apply(lambda x: np.abs(x - x.mean()) / x.std() < 3).all(axis=1)]\n",
    "sst_spring_day_adjusted=sst_spring_day_adjusted[sst_spring_day_adjusted.apply(lambda x: np.abs(x - x.mean()) / x.std() < 3).all(axis=1)]\n",
    "sst_season_day_adjusted=sst_summer_day_adjusted.append(sst_autumn_day_adjusted.append(sst_winter_day_adjusted.append(sst_spring_day_adjusted)))"
   ]
  },
  {
   "cell_type": "markdown",
   "metadata": {},
   "source": [
    "#### Weeks"
   ]
  },
  {
   "cell_type": "markdown",
   "metadata": {},
   "source": [
    "##### Remove Outliers"
   ]
  },
  {
   "cell_type": "code",
   "execution_count": 38,
   "metadata": {},
   "outputs": [],
   "source": [
    "sst_weeks_day_removed_outliers={}\n",
    "for i in range(1, 53):\n",
    "    sst_weeks_day_removed_outliers[i]=original_sst_weeks_day[i][original_sst_weeks_day[i].apply(lambda x: np.abs(x - x.mean()) / x.std() < 3).all(axis=1)]"
   ]
  },
  {
   "cell_type": "markdown",
   "metadata": {},
   "source": [
    "##### Calculate Means"
   ]
  },
  {
   "cell_type": "code",
   "execution_count": 39,
   "metadata": {},
   "outputs": [],
   "source": [
    "sst_weeks_day_mean={}\n",
    "for i in range(1, 53):\n",
    "    sst_weeks_day_mean[i]=sst_weeks_day_removed_outliers[i].mean()"
   ]
  },
  {
   "cell_type": "markdown",
   "metadata": {},
   "source": [
    "##### Create Adjusted Dataframes"
   ]
  },
  {
   "cell_type": "code",
   "execution_count": 40,
   "metadata": {},
   "outputs": [],
   "source": [
    "sst_weeks_day_adjusted=original_wavedata.drop([\"Hs\", \"Hmax\", \"Tz\", \"Tp\", \"Dir_Tp TRUE\"], axis=1).between_time('6:00', '18:00')\n",
    "for i in range(1, 53):\n",
    "    sst_weeks_day_adjusted[sst_weeks_day_adjusted[\"Date/Time\"].dt.week==i]=sst_weeks_day_adjusted[sst_weeks_day_adjusted[\"Date/Time\"].dt.week==i].replace(np.nan, sst_weeks_day_mean[i])"
   ]
  },
  {
   "cell_type": "markdown",
   "metadata": {},
   "source": [
    "##### Remove Outliers from Adjusted Dataframes"
   ]
  },
  {
   "cell_type": "code",
   "execution_count": 41,
   "metadata": {},
   "outputs": [],
   "source": [
    "sst_weeks_day_adjusted=sst_weeks_day_adjusted.drop([\"Date/Time\"], axis=1)\n",
    "sst_weeks_day_adjusted=sst_weeks_day_adjusted[sst_weeks_day_adjusted.apply(lambda x: np.abs(x - x.mean()) / x.std() < 3).all(axis=1)]"
   ]
  },
  {
   "cell_type": "markdown",
   "metadata": {},
   "source": [
    "### Night"
   ]
  },
  {
   "cell_type": "markdown",
   "metadata": {},
   "source": [
    "#### Months"
   ]
  },
  {
   "cell_type": "markdown",
   "metadata": {},
   "source": [
    "##### Remove Outliers"
   ]
  },
  {
   "cell_type": "code",
   "execution_count": 42,
   "metadata": {},
   "outputs": [],
   "source": [
    "sst_months_night_removed_outliers={}\n",
    "for i in range(1, 13):\n",
    "    sst_months_night_removed_outliers[i]=original_sst_months_night[i][original_sst_months_night[i].apply(lambda x: np.abs(x - x.mean()) / x.std() < 3).all(axis=1)]"
   ]
  },
  {
   "cell_type": "markdown",
   "metadata": {},
   "source": [
    "##### Calculate Means"
   ]
  },
  {
   "cell_type": "code",
   "execution_count": 43,
   "metadata": {},
   "outputs": [],
   "source": [
    "sst_months_night_mean={}\n",
    "for i in range(1, 13):\n",
    "    sst_months_night_mean[i]=sst_months_night_removed_outliers[i].mean()"
   ]
  },
  {
   "cell_type": "markdown",
   "metadata": {},
   "source": [
    "##### Create Adjusted Dataframes"
   ]
  },
  {
   "cell_type": "code",
   "execution_count": 44,
   "metadata": {},
   "outputs": [],
   "source": [
    "sst_months_night_adjusted=original_wavedata.drop([\"Hs\", \"Hmax\", \"Tz\", \"Tp\", \"Dir_Tp TRUE\"], axis=1).between_time('18:00', '6:00')\n",
    "for i in range(1, 13):\n",
    "    sst_months_night_adjusted[sst_months_night_adjusted[\"Date/Time\"].dt.month==i]=sst_months_night_adjusted[sst_months_night_adjusted[\"Date/Time\"].dt.month==i].replace(np.nan, sst_months_night_mean[i])"
   ]
  },
  {
   "cell_type": "markdown",
   "metadata": {},
   "source": [
    "##### Remove Outliers from Adjusted Dataframes"
   ]
  },
  {
   "cell_type": "code",
   "execution_count": 45,
   "metadata": {},
   "outputs": [],
   "source": [
    "sst_months_night_adjusted=sst_months_night_adjusted.drop([\"Date/Time\"], axis=1)\n",
    "sst_months_night_adjusted=sst_months_night_adjusted[sst_months_night_adjusted.apply(lambda x: np.abs(x - x.mean()) / x.std() < 3).all(axis=1)]"
   ]
  },
  {
   "cell_type": "markdown",
   "metadata": {},
   "source": [
    "#### Seasons"
   ]
  },
  {
   "cell_type": "markdown",
   "metadata": {},
   "source": [
    "##### Remove Outliers"
   ]
  },
  {
   "cell_type": "code",
   "execution_count": 46,
   "metadata": {},
   "outputs": [],
   "source": [
    "sst_summer_night_removed_outliers=original_sst_summer_night[original_sst_summer_night.apply(lambda x: np.abs(x - x.mean()) / x.std() < 3).all(axis=1)]\n",
    "sst_autumn_night_removed_outliers=original_sst_autumn_night[original_sst_autumn_night.apply(lambda x: np.abs(x - x.mean()) / x.std() < 3).all(axis=1)]\n",
    "sst_winter_night_removed_outliers=original_sst_winter_night[original_sst_winter_night.apply(lambda x: np.abs(x - x.mean()) / x.std() < 3).all(axis=1)]\n",
    "sst_spring_night_removed_outliers=original_sst_spring_night[original_sst_spring_night.apply(lambda x: np.abs(x - x.mean()) / x.std() < 3).all(axis=1)]"
   ]
  },
  {
   "cell_type": "markdown",
   "metadata": {},
   "source": [
    "##### Calculate Means"
   ]
  },
  {
   "cell_type": "code",
   "execution_count": 47,
   "metadata": {},
   "outputs": [],
   "source": [
    "sst_summer_night_mean=sst_summer_night_removed_outliers.mean()\n",
    "sst_autumn_night_mean=sst_autumn_night_removed_outliers.mean()\n",
    "sst_winter_night_mean=sst_winter_night_removed_outliers.mean()\n",
    "sst_spring_night_mean=sst_spring_night_removed_outliers.mean()"
   ]
  },
  {
   "cell_type": "markdown",
   "metadata": {},
   "source": [
    "##### Create Adjusted Dataframes"
   ]
  },
  {
   "cell_type": "code",
   "execution_count": 48,
   "metadata": {},
   "outputs": [],
   "source": [
    "sst_summer_night_adjusted=original_sst_summer_night\n",
    "sst_autumn_night_adjusted=original_sst_autumn_night\n",
    "sst_winter_night_adjusted=original_sst_winter_night\n",
    "sst_spring_night_adjusted=original_sst_spring_night\n",
    "sst_summer_night_adjusted=sst_summer_night_adjusted.replace(np.nan, sst_summer_night_mean)\n",
    "sst_autumn_night_adjusted=sst_autumn_night_adjusted.replace(np.nan, sst_autumn_night_mean)\n",
    "sst_winter_night_adjusted=sst_winter_night_adjusted.replace(np.nan, sst_winter_night_mean)\n",
    "sst_spring_night_adjusted=sst_spring_night_adjusted.replace(np.nan, sst_spring_night_mean)"
   ]
  },
  {
   "cell_type": "markdown",
   "metadata": {},
   "source": [
    "##### Remove Outliers from Adjusted Dataframes"
   ]
  },
  {
   "cell_type": "code",
   "execution_count": 49,
   "metadata": {},
   "outputs": [],
   "source": [
    "sst_summer_night_adjusted=sst_summer_night_adjusted[sst_summer_night_adjusted.apply(lambda x: np.abs(x - x.mean()) / x.std() < 3).all(axis=1)]\n",
    "sst_autumn_night_adjusted=sst_autumn_night_adjusted[sst_autumn_night_adjusted.apply(lambda x: np.abs(x - x.mean()) / x.std() < 3).all(axis=1)]\n",
    "sst_winter_night_adjusted=sst_winter_night_adjusted[sst_winter_night_adjusted.apply(lambda x: np.abs(x - x.mean()) / x.std() < 3).all(axis=1)]\n",
    "sst_spring_night_adjusted=sst_spring_night_adjusted[sst_spring_night_adjusted.apply(lambda x: np.abs(x - x.mean()) / x.std() < 3).all(axis=1)]\n",
    "sst_season_night_adjusted=sst_summer_night_adjusted.append(sst_autumn_night_adjusted.append(sst_winter_night_adjusted.append(sst_spring_night_adjusted)))"
   ]
  },
  {
   "cell_type": "markdown",
   "metadata": {},
   "source": [
    "#### Weeks"
   ]
  },
  {
   "cell_type": "markdown",
   "metadata": {},
   "source": [
    "##### Remove Outliers"
   ]
  },
  {
   "cell_type": "code",
   "execution_count": 50,
   "metadata": {},
   "outputs": [],
   "source": [
    "sst_weeks_night_removed_outliers={}\n",
    "for i in range(1, 53):\n",
    "    sst_weeks_night_removed_outliers[i]=original_sst_weeks_night[i][original_sst_weeks_night[i].apply(lambda x: np.abs(x - x.mean()) / x.std() < 3).all(axis=1)]"
   ]
  },
  {
   "cell_type": "markdown",
   "metadata": {},
   "source": [
    "##### Calculate Means"
   ]
  },
  {
   "cell_type": "code",
   "execution_count": 51,
   "metadata": {},
   "outputs": [],
   "source": [
    "sst_weeks_night_mean={}\n",
    "for i in range(1, 53):\n",
    "    sst_weeks_night_mean[i]=sst_weeks_night_removed_outliers[i].mean()"
   ]
  },
  {
   "cell_type": "markdown",
   "metadata": {},
   "source": [
    "##### Create Adjusted Dataframes"
   ]
  },
  {
   "cell_type": "code",
   "execution_count": 52,
   "metadata": {},
   "outputs": [],
   "source": [
    "sst_weeks_night_adjusted=original_wavedata.drop([\"Hs\", \"Hmax\", \"Tz\", \"Tp\", \"Dir_Tp TRUE\"], axis=1).between_time('18:00', '6:00')\n",
    "for i in range(1, 53):\n",
    "    sst_weeks_night_adjusted[sst_weeks_night_adjusted[\"Date/Time\"].dt.week==i]=sst_weeks_night_adjusted[sst_weeks_night_adjusted[\"Date/Time\"].dt.week==i].replace(np.nan, sst_weeks_night_mean[i])"
   ]
  },
  {
   "cell_type": "markdown",
   "metadata": {},
   "source": [
    "##### Remove Outliers from Adjusted Dataframes"
   ]
  },
  {
   "cell_type": "code",
   "execution_count": 53,
   "metadata": {},
   "outputs": [],
   "source": [
    "sst_weeks_night_adjusted=sst_weeks_night_adjusted.drop([\"Date/Time\"], axis=1)\n",
    "sst_weeks_night_adjusted=sst_weeks_night_adjusted[sst_weeks_night_adjusted.apply(lambda x: np.abs(x - x.mean()) / x.std() < 3).all(axis=1)]"
   ]
  },
  {
   "cell_type": "markdown",
   "metadata": {},
   "source": [
    "### Compile Adjusted Dataframes"
   ]
  },
  {
   "cell_type": "code",
   "execution_count": 54,
   "metadata": {},
   "outputs": [],
   "source": [
    "sst_months_adjusted=sst_months_day_adjusted.append(sst_months_night_adjusted)\n",
    "sst_season_adjusted=sst_season_day_adjusted.append(sst_season_night_adjusted)\n",
    "sst_weeks_adjusted=sst_weeks_day_adjusted.append(sst_weeks_night_adjusted)"
   ]
  },
  {
   "cell_type": "markdown",
   "metadata": {},
   "source": [
    "# Create Completed Dataframes"
   ]
  },
  {
   "cell_type": "code",
   "execution_count": 55,
   "metadata": {},
   "outputs": [],
   "source": [
    "wavedata_dir_tp_months_sst_months=pd.merge(wavedata_adjusted, dir_tp_months_adjusted.join(sst_months_adjusted), 'right', right_index=True, left_on='Date/Time')\n",
    "wavedata_dir_tp_months_sst_season=pd.merge(wavedata_adjusted, dir_tp_months_adjusted.join(sst_season_adjusted), 'right', right_index=True, left_on='Date/Time')\n",
    "wavedata_dir_tp_months_sst_weeks=pd.merge(wavedata_adjusted, dir_tp_months_adjusted.join(sst_weeks_adjusted), 'right', right_index=True, left_on='Date/Time')\n",
    "wavedata_dir_tp_season_sst_months=pd.merge(wavedata_adjusted, dir_tp_season_adjusted.join(sst_months_adjusted), 'right', right_index=True, left_on='Date/Time')\n",
    "wavedata_dir_tp_season_sst_season=pd.merge(wavedata_adjusted, dir_tp_season_adjusted.join(sst_season_adjusted), 'right', right_index=True, left_on='Date/Time')\n",
    "wavedata_dir_tp_season_sst_weeks=pd.merge(wavedata_adjusted, dir_tp_season_adjusted.join(sst_weeks_adjusted), 'right', right_index=True, left_on='Date/Time')\n",
    "wavedata_dir_tp_weeks_sst_months=pd.merge(wavedata_adjusted, dir_tp_weeks_adjusted.join(sst_months_adjusted), 'right', right_index=True, left_on='Date/Time')\n",
    "wavedata_dir_tp_weeks_sst_season=pd.merge(wavedata_adjusted, dir_tp_weeks_adjusted.join(sst_season_adjusted), 'right', right_index=True, left_on='Date/Time')\n",
    "wavedata_dir_tp_weeks_sst_weeks=pd.merge(wavedata_adjusted, dir_tp_weeks_adjusted.join(sst_weeks_adjusted), 'right', right_index=True, left_on='Date/Time')"
   ]
  },
  {
   "cell_type": "markdown",
   "metadata": {},
   "source": [
    "# Create Normalised Dataframes"
   ]
  },
  {
   "cell_type": "code",
   "execution_count": 56,
   "metadata": {},
   "outputs": [],
   "source": [
    "normalised_wavedata_dir_tp_months_sst_months=normalise_dataframe(wavedata_dir_tp_months_sst_months).sort_index().dropna()\n",
    "normalised_wavedata_dir_tp_months_sst_season=normalise_dataframe(wavedata_dir_tp_months_sst_season).sort_index().dropna()\n",
    "normalised_wavedata_dir_tp_months_sst_weeks=normalise_dataframe(wavedata_dir_tp_months_sst_weeks).sort_index().dropna()\n",
    "normalised_wavedata_dir_tp_season_sst_months=normalise_dataframe(wavedata_dir_tp_season_sst_months).sort_index().dropna()\n",
    "normalised_wavedata_dir_tp_season_sst_season=normalise_dataframe(wavedata_dir_tp_season_sst_season).sort_index().dropna()\n",
    "normalised_wavedata_dir_tp_season_sst_weeks=normalise_dataframe(wavedata_dir_tp_season_sst_weeks).sort_index().dropna()\n",
    "normalised_wavedata_dir_tp_weeks_sst_months=normalise_dataframe(wavedata_dir_tp_weeks_sst_months).sort_index().dropna()\n",
    "normalised_wavedata_dir_tp_weeks_sst_season=normalise_dataframe(wavedata_dir_tp_weeks_sst_season).sort_index().dropna()\n",
    "normalised_wavedata_dir_tp_weeks_sst_weeks=normalise_dataframe(wavedata_dir_tp_weeks_sst_weeks).sort_index().dropna()"
   ]
  },
  {
   "cell_type": "markdown",
   "metadata": {},
   "source": [
    "# Algorithm Function Definitions"
   ]
  },
  {
   "cell_type": "code",
   "execution_count": 57,
   "metadata": {},
   "outputs": [],
   "source": [
    "def kmeans_clustering_initial(k=1):\n",
    "    # Initial points\n",
    "    centroids={}\n",
    "    centroids_step = {\n",
    "    i+1: [np.random.random(), np.random.random()]\n",
    "    for i in range(k)\n",
    "    }\n",
    "    centroids[0]=centroids_step\n",
    "    return centroids"
   ]
  },
  {
   "cell_type": "code",
   "execution_count": 58,
   "metadata": {},
   "outputs": [],
   "source": [
    "def euclidean_distance(x, cx, y, cy):\n",
    "    distance=np.sqrt((x-cx)**2 + (y-cy)**2)\n",
    "    return distance"
   ]
  },
  {
   "cell_type": "code",
   "execution_count": 59,
   "metadata": {},
   "outputs": [],
   "source": [
    "def kmeans_clustering_assignment(dataframe, x, y, centroids, k, i):\n",
    "    assignment=copy.deepcopy(dataframe)\n",
    "    for ik in range(1, k+1):\n",
    "        assignment['distance_from_{}'.format(ik)]=euclidean_distance(dataframe[x], centroids[i][ik][0], dataframe[y], centroids[i][ik][0])\n",
    "    centroid_distance_cols=['distance_from_{}'.format(ik) for ik in centroids[i].keys()]\n",
    "    assignment['closest']=assignment.loc[:, centroid_distance_cols].idxmin(axis=1)\n",
    "    assignment['closest']=assignment['closest'].map(lambda x: int(x.lstrip('distance_from_')))\n",
    "    return assignment"
   ]
  },
  {
   "cell_type": "code",
   "execution_count": 60,
   "metadata": {},
   "outputs": [],
   "source": [
    "def kmeans_clustering_update_centroids(dataset, x, y, k, i, centroids):\n",
    "    centroids[i]=copy.deepcopy(centroids[i-1])\n",
    "    for ik in range(1, k+1):\n",
    "        centroids[i][ik]=[np.mean(dataset[dataset['closest']==ik][x]), np.mean(dataset[dataset['closest']==ik][y])]\n",
    "    return centroids"
   ]
  },
  {
   "cell_type": "code",
   "execution_count": 61,
   "metadata": {},
   "outputs": [],
   "source": [
    "def within_cluster_sum_of_square_errors(dataset, k, i):\n",
    "    results={}\n",
    "    wss=0.0\n",
    "    for ik in range(1, k+1):\n",
    "        temp=0.0\n",
    "        cluster=dataset['closest']==ik\n",
    "        cluster_data=dataset[cluster]['distance_from_{}'.format(ik)].replace(np.nan, 0.0)\n",
    "        count=cluster_data.count()\n",
    "        cluster_data_2=np.power(cluster_data, 2)\n",
    "        cluster_sum=cluster_data_2.sum()\n",
    "        if cluster_sum==0.0:\n",
    "            temp=0.0\n",
    "        else:\n",
    "            temp=cluster_sum/count\n",
    "        wss+=temp\n",
    "    return wss"
   ]
  },
  {
   "cell_type": "code",
   "execution_count": 62,
   "metadata": {},
   "outputs": [],
   "source": [
    "def no_centroid_change(centroids, k, i):\n",
    "    result=False\n",
    "    for ik in range(1, k+1):\n",
    "        x=centroids[i][ik][0]==centroids[i-1][ik][0]\n",
    "        y=centroids[i][ik][1]==centroids[i-1][ik][1]\n",
    "        if x==False or y==False:\n",
    "            result=True\n",
    "    return result"
   ]
  },
  {
   "cell_type": "code",
   "execution_count": 63,
   "metadata": {},
   "outputs": [],
   "source": [
    "def kmeans_clustering(dataframe, x, y, k=1):\n",
    "    kmeans=copy.deepcopy(dataframe)\n",
    "    centroids=kmeans_clustering_initial(k)\n",
    "    kmeans=kmeans_clustering_assignment(kmeans, x, y, centroids, k, 0)\n",
    "    i=0\n",
    "    while True:\n",
    "        i+=1\n",
    "        centroids = kmeans_clustering_update_centroids(kmeans, x, y, k, i, centroids)\n",
    "        kmeans = kmeans_clustering_assignment(kmeans, x, y, centroids, k, i)\n",
    "        if no_centroid_change(centroids, k, i):\n",
    "            break;\n",
    "    return kmeans, within_cluster_sum_of_square_errors(kmeans, k, i)"
   ]
  },
  {
   "cell_type": "code",
   "execution_count": 64,
   "metadata": {},
   "outputs": [],
   "source": [
    "def do_kmeans(dataframe, x, y):\n",
    "    plots={}\n",
    "    seeds={}\n",
    "    count=0\n",
    "    total_time=0\n",
    "    np.random.seed(12345)\n",
    "    for j in range(0, 100):\n",
    "        seeds[j]=int(np.random.random()*1000)\n",
    "    for i in range(2, 11):\n",
    "        j_plots={}\n",
    "        for j in range(0, 25):\n",
    "            start = time.time()\n",
    "            np.random.seed(seeds[j])\n",
    "            j_plot, j_wss=kmeans_clustering(dataframe, x, y, i)\n",
    "            j_plots[j_wss]=j_plot\n",
    "            end = time.time()\n",
    "            elapsed = end - start\n",
    "            total_time+=elapsed\n",
    "            count+=1\n",
    "            print(\"Plot {} - time elapsed - {} - total time elapsed - {} - wss - {}\".format(count, elapsed, total_time, j_wss))\n",
    "        wss = sorted(j_plots)[0]\n",
    "        print(wss)\n",
    "        plot = j_plots[wss]\n",
    "        plots[wss] = plot\n",
    "    print(\"Total time elapsed - {}\".format(total_time))\n",
    "    return plots[sorted(plots)[0]], sorted(plots)[0]"
   ]
  },
  {
   "cell_type": "markdown",
   "metadata": {},
   "source": [
    "# Graphs"
   ]
  },
  {
   "cell_type": "code",
   "execution_count": 65,
   "metadata": {},
   "outputs": [
    {
     "name": "stdout",
     "output_type": "stream",
     "text": [
      "Plot 1 - time elapsed - 3.8792216777801514 - total time elapsed - 3.8792216777801514 - wss - 0.19243849298725454\n",
      "Plot 2 - time elapsed - 4.136236667633057 - total time elapsed - 8.015458345413208 - wss - 0.19243849298725454\n",
      "Plot 3 - time elapsed - 3.806217670440674 - total time elapsed - 11.821676015853882 - wss - 0.2084639767873624\n",
      "Plot 4 - time elapsed - 3.945225715637207 - total time elapsed - 15.766901731491089 - wss - 0.19881568698171453\n",
      "Plot 5 - time elapsed - 3.8662214279174805 - total time elapsed - 19.63312315940857 - wss - 0.1488096076140706\n",
      "Plot 6 - time elapsed - 4.689268112182617 - total time elapsed - 24.322391271591187 - wss - 0.13925630168204967\n",
      "Plot 7 - time elapsed - 4.055231809616089 - total time elapsed - 28.377623081207275 - wss - 0.1647713491461525\n",
      "Plot 8 - time elapsed - 5.003286361694336 - total time elapsed - 33.38090944290161 - wss - 0.028461164814621367\n",
      "Plot 9 - time elapsed - 4.320246934890747 - total time elapsed - 37.70115637779236 - wss - 0.16129309899613692\n",
      "Plot 10 - time elapsed - 4.233242511749268 - total time elapsed - 41.934398889541626 - wss - 0.028461164814621367\n",
      "Plot 11 - time elapsed - 3.8732211589813232 - total time elapsed - 45.80762004852295 - wss - 0.025984225767146\n",
      "Plot 12 - time elapsed - 4.106234788894653 - total time elapsed - 49.9138548374176 - wss - 0.17239274271113864\n",
      "Plot 13 - time elapsed - 3.915224075317383 - total time elapsed - 53.829078912734985 - wss - 0.20595294238247802\n",
      "Plot 14 - time elapsed - 3.7612152099609375 - total time elapsed - 57.59029412269592 - wss - 0.010931038011912598\n",
      "Plot 15 - time elapsed - 3.8792216777801514 - total time elapsed - 61.469515800476074 - wss - 0.17003290815383962\n",
      "Plot 16 - time elapsed - 4.078233480453491 - total time elapsed - 65.54774928092957 - wss - 0.031433093320401014\n",
      "Plot 17 - time elapsed - 3.8882224559783936 - total time elapsed - 69.43597173690796 - wss - 0.02071525073353623\n",
      "Plot 18 - time elapsed - 4.36424994468689 - total time elapsed - 73.80022168159485 - wss - 0.06269568180005138\n",
      "Plot 19 - time elapsed - 3.981227397918701 - total time elapsed - 77.78144907951355 - wss - 0.1647713491461525\n",
      "Plot 20 - time elapsed - 3.968226909637451 - total time elapsed - 81.749675989151 - wss - 0.0691627528069612\n",
      "Plot 21 - time elapsed - 4.1342363357543945 - total time elapsed - 85.8839123249054 - wss - 0.019551924989186585\n",
      "Plot 22 - time elapsed - 4.296245813369751 - total time elapsed - 90.18015813827515 - wss - 0.06454495409926604\n",
      "Plot 23 - time elapsed - 4.419252634048462 - total time elapsed - 94.59941077232361 - wss - 0.07658352481227941\n",
      "Plot 24 - time elapsed - 3.7622151374816895 - total time elapsed - 98.3616259098053 - wss - 0.1647713491461525\n",
      "Plot 25 - time elapsed - 4.345248460769653 - total time elapsed - 102.70687437057495 - wss - 0.02815828307448245\n",
      "0.010931038011912598\n",
      "Plot 26 - time elapsed - 4.430253505706787 - total time elapsed - 107.13712787628174 - wss - 0.18539453453376642\n",
      "Plot 27 - time elapsed - 4.259243726730347 - total time elapsed - 111.39637160301208 - wss - 0.09863475066370964\n",
      "Plot 28 - time elapsed - 4.2412426471710205 - total time elapsed - 115.6376142501831 - wss - 0.11367495769129782\n",
      "Plot 29 - time elapsed - 4.296245813369751 - total time elapsed - 119.93386006355286 - wss - 0.18181651605133306\n",
      "Plot 30 - time elapsed - 4.513258218765259 - total time elapsed - 124.44711828231812 - wss - 0.15874344188090495\n",
      "Plot 31 - time elapsed - 5.988342523574829 - total time elapsed - 130.43546080589294 - wss - 0.09881527323888817\n",
      "Plot 32 - time elapsed - 4.694268465042114 - total time elapsed - 135.12972927093506 - wss - 0.09428271101062202\n",
      "Plot 33 - time elapsed - 5.386307716369629 - total time elapsed - 140.5160369873047 - wss - 0.07499680480743633\n",
      "Plot 34 - time elapsed - 4.9712841510772705 - total time elapsed - 145.48732113838196 - wss - 0.08488819981675094\n",
      "Plot 35 - time elapsed - 4.786273717880249 - total time elapsed - 150.2735948562622 - wss - 0.07499680480743633\n",
      "Plot 36 - time elapsed - 4.990285634994507 - total time elapsed - 155.2638804912567 - wss - 0.05241685616220859\n",
      "Plot 37 - time elapsed - 5.105292081832886 - total time elapsed - 160.3691725730896 - wss - 0.07938231953942143\n",
      "Plot 38 - time elapsed - 4.981284856796265 - total time elapsed - 165.35045742988586 - wss - 0.12581238835969535\n",
      "Plot 39 - time elapsed - 4.3532490730285645 - total time elapsed - 169.70370650291443 - wss - 0.08492153264356006\n",
      "Plot 40 - time elapsed - 4.368249893188477 - total time elapsed - 174.0719563961029 - wss - 0.08360264299551573\n",
      "Plot 41 - time elapsed - 4.883279085159302 - total time elapsed - 178.9552354812622 - wss - 0.049506947620331004\n",
      "Plot 42 - time elapsed - 5.06728982925415 - total time elapsed - 184.02252531051636 - wss - 0.0773768792970812\n",
      "Plot 43 - time elapsed - 4.771272897720337 - total time elapsed - 188.7937982082367 - wss - 0.07917074826214088\n",
      "Plot 44 - time elapsed - 4.932282209396362 - total time elapsed - 193.72608041763306 - wss - 0.09428271101062202\n",
      "Plot 45 - time elapsed - 4.941282510757446 - total time elapsed - 198.6673629283905 - wss - 0.08872974998910277\n",
      "Plot 46 - time elapsed - 5.280302047729492 - total time elapsed - 203.94766497612 - wss - 0.07174576394489875\n",
      "Plot 47 - time elapsed - 5.044288396835327 - total time elapsed - 208.99195337295532 - wss - 0.08354494520501374\n",
      "Plot 48 - time elapsed - 4.627264738082886 - total time elapsed - 213.6192181110382 - wss - 0.05671019868646885\n",
      "Plot 49 - time elapsed - 4.581261873245239 - total time elapsed - 218.20047998428345 - wss - 0.118152712745728\n",
      "Plot 50 - time elapsed - 4.281244993209839 - total time elapsed - 222.4817249774933 - wss - 0.07472682393504514\n",
      "0.049506947620331004\n",
      "Plot 51 - time elapsed - 4.430253744125366 - total time elapsed - 226.91197872161865 - wss - 0.09656644614881425\n",
      "Plot 52 - time elapsed - 5.14129376411438 - total time elapsed - 232.05327248573303 - wss - 0.06573725979665918\n",
      "Plot 53 - time elapsed - 4.698268890380859 - total time elapsed - 236.7515413761139 - wss - 0.0773151553338262\n",
      "Plot 54 - time elapsed - 4.704268932342529 - total time elapsed - 241.45581030845642 - wss - 0.11024479046287167\n",
      "Plot 55 - time elapsed - 4.568261384963989 - total time elapsed - 246.0240716934204 - wss - 0.14246257906336418\n",
      "Plot 56 - time elapsed - 4.73927116394043 - total time elapsed - 250.76334285736084 - wss - 0.06063002198143053\n",
      "Plot 57 - time elapsed - 5.177296161651611 - total time elapsed - 255.94063901901245 - wss - 0.0568169624249287\n",
      "Plot 58 - time elapsed - 4.726270437240601 - total time elapsed - 260.66690945625305 - wss - 0.05344933837699597\n",
      "Plot 59 - time elapsed - 4.7232701778411865 - total time elapsed - 265.39017963409424 - wss - 0.05504239909926046\n",
      "Plot 60 - time elapsed - 4.781273365020752 - total time elapsed - 270.171452999115 - wss - 0.05344933837699597\n",
      "Plot 61 - time elapsed - 4.656266212463379 - total time elapsed - 274.82771921157837 - wss - 0.056209171228796546\n",
      "Plot 62 - time elapsed - 4.776273012161255 - total time elapsed - 279.6039922237396 - wss - 0.05941782330489069\n",
      "Plot 63 - time elapsed - 5.5583178997039795 - total time elapsed - 285.1623101234436 - wss - 0.08073991223776378\n",
      "Plot 64 - time elapsed - 4.754271745681763 - total time elapsed - 289.91658186912537 - wss - 0.09371963782884846\n",
      "Plot 65 - time elapsed - 4.4942567348480225 - total time elapsed - 294.4108386039734 - wss - 0.056195556035302026\n",
      "Plot 66 - time elapsed - 5.215298414230347 - total time elapsed - 299.62613701820374 - wss - 0.056497460726823\n",
      "Plot 67 - time elapsed - 4.9642839431762695 - total time elapsed - 304.59042096138 - wss - 0.06316100735530694\n",
      "Plot 68 - time elapsed - 5.107292175292969 - total time elapsed - 309.697713136673 - wss - 0.08043847257394873\n",
      "Plot 69 - time elapsed - 5.109292268753052 - total time elapsed - 314.807005405426 - wss - 0.0568169624249287\n",
      "Plot 70 - time elapsed - 4.9772844314575195 - total time elapsed - 319.78428983688354 - wss - 0.09338717489649687\n",
      "Plot 71 - time elapsed - 5.028287649154663 - total time elapsed - 324.8125774860382 - wss - 0.05097495596984363\n",
      "Plot 72 - time elapsed - 5.231299161911011 - total time elapsed - 330.0438766479492 - wss - 0.06834084081341738\n",
      "Plot 73 - time elapsed - 4.5982630252838135 - total time elapsed - 334.64213967323303 - wss - 0.051732829144538715\n"
     ]
    },
    {
     "name": "stdout",
     "output_type": "stream",
     "text": [
      "Plot 74 - time elapsed - 5.218298435211182 - total time elapsed - 339.8604381084442 - wss - 0.11192049657683804\n",
      "Plot 75 - time elapsed - 5.342305660247803 - total time elapsed - 345.202743768692 - wss - 0.05427709534910239\n",
      "0.05097495596984363\n",
      "Plot 76 - time elapsed - 5.499314546585083 - total time elapsed - 350.7020583152771 - wss - 0.0988397792277943\n",
      "Plot 77 - time elapsed - 5.248300313949585 - total time elapsed - 355.9503586292267 - wss - 0.0724197265383886\n",
      "Plot 78 - time elapsed - 5.268301486968994 - total time elapsed - 361.2186601161957 - wss - 0.06834668195474386\n",
      "Plot 79 - time elapsed - 5.038288116455078 - total time elapsed - 366.25694823265076 - wss - 0.06548341527178243\n",
      "Plot 80 - time elapsed - 4.8372766971588135 - total time elapsed - 371.09422492980957 - wss - 0.10138185719395373\n",
      "Plot 81 - time elapsed - 4.901280403137207 - total time elapsed - 375.9955053329468 - wss - 0.04766886783796209\n",
      "Plot 82 - time elapsed - 4.795274257659912 - total time elapsed - 380.7907795906067 - wss - 0.06061869687257039\n",
      "Plot 83 - time elapsed - 4.771272659301758 - total time elapsed - 385.56205224990845 - wss - 0.04302754624355552\n",
      "Plot 84 - time elapsed - 4.654266119003296 - total time elapsed - 390.21631836891174 - wss - 0.06423413437029148\n",
      "Plot 85 - time elapsed - 5.102291822433472 - total time elapsed - 395.3186101913452 - wss - 0.04302754624355552\n",
      "Plot 86 - time elapsed - 4.63726544380188 - total time elapsed - 399.9558756351471 - wss - 0.05530740044815936\n",
      "Plot 87 - time elapsed - 4.656266212463379 - total time elapsed - 404.6121418476105 - wss - 0.06793414721368514\n",
      "Plot 88 - time elapsed - 4.998286008834839 - total time elapsed - 409.6104278564453 - wss - 0.06039460041661242\n",
      "Plot 89 - time elapsed - 4.9302818775177 - total time elapsed - 414.540709733963 - wss - 0.09310724551376393\n",
      "Plot 90 - time elapsed - 4.908280849456787 - total time elapsed - 419.4489905834198 - wss - 0.04769318103307661\n",
      "Plot 91 - time elapsed - 4.637265205383301 - total time elapsed - 424.0862557888031 - wss - 0.05405578119790175\n",
      "Plot 92 - time elapsed - 4.740271091461182 - total time elapsed - 428.8265268802643 - wss - 0.05816080062666123\n",
      "Plot 93 - time elapsed - 4.822275638580322 - total time elapsed - 433.6488025188446 - wss - 0.06558591696196099\n",
      "Plot 94 - time elapsed - 4.805274963378906 - total time elapsed - 438.4540774822235 - wss - 0.06061869687257039\n",
      "Plot 95 - time elapsed - 4.869278430938721 - total time elapsed - 443.32335591316223 - wss - 0.0718910258298631\n",
      "Plot 96 - time elapsed - 4.740271091461182 - total time elapsed - 448.0636270046234 - wss - 0.054196995439578816\n",
      "Plot 97 - time elapsed - 4.920281648635864 - total time elapsed - 452.9839086532593 - wss - 0.05675083255635982\n",
      "Plot 98 - time elapsed - 5.463312387466431 - total time elapsed - 458.4472210407257 - wss - 0.04436120261108127\n",
      "Plot 99 - time elapsed - 4.742271184921265 - total time elapsed - 463.189492225647 - wss - 0.11872691743015584\n",
      "Plot 100 - time elapsed - 5.006286144256592 - total time elapsed - 468.19577836990356 - wss - 0.04835253581122603\n",
      "0.04302754624355552\n",
      "Plot 101 - time elapsed - 4.92328143119812 - total time elapsed - 473.1190598011017 - wss - 0.06277968466956572\n",
      "Plot 102 - time elapsed - 4.805274963378906 - total time elapsed - 477.9243347644806 - wss - 0.06859733264741394\n",
      "Plot 103 - time elapsed - 4.921281576156616 - total time elapsed - 482.8456163406372 - wss - 0.06632035524091927\n",
      "Plot 104 - time elapsed - 4.879278898239136 - total time elapsed - 487.72489523887634 - wss - 0.05541596201425488\n",
      "Plot 105 - time elapsed - 4.980284690856934 - total time elapsed - 492.7051799297333 - wss - 0.08252927891787812\n",
      "Plot 106 - time elapsed - 4.773273229598999 - total time elapsed - 497.4784531593323 - wss - 0.04540311062780447\n",
      "Plot 107 - time elapsed - 4.756272077560425 - total time elapsed - 502.2347252368927 - wss - 0.048328551334297254\n",
      "Plot 108 - time elapsed - 4.775273084640503 - total time elapsed - 507.0099983215332 - wss - 0.04588377797046385\n",
      "Plot 109 - time elapsed - 4.891279697418213 - total time elapsed - 511.9012780189514 - wss - 0.0501783387863877\n",
      "Plot 110 - time elapsed - 5.147294521331787 - total time elapsed - 517.0485725402832 - wss - 0.04588377797046385\n",
      "Plot 111 - time elapsed - 5.126293182373047 - total time elapsed - 522.1748657226562 - wss - 0.058291912066254836\n",
      "Plot 112 - time elapsed - 5.818333148956299 - total time elapsed - 527.9931988716125 - wss - 0.060555130609537045\n",
      "Plot 113 - time elapsed - 5.621321439743042 - total time elapsed - 533.6145203113556 - wss - 0.06313864533524176\n",
      "Plot 114 - time elapsed - 5.0882909297943115 - total time elapsed - 538.7028112411499 - wss - 0.05817622761701693\n",
      "Plot 115 - time elapsed - 5.172295570373535 - total time elapsed - 543.8751068115234 - wss - 0.05188814184571924\n",
      "Plot 116 - time elapsed - 5.093291282653809 - total time elapsed - 548.9683980941772 - wss - 0.05576915223395297\n",
      "Plot 117 - time elapsed - 5.308303594589233 - total time elapsed - 554.2767016887665 - wss - 0.047463538319709876\n",
      "Plot 118 - time elapsed - 4.722270250320435 - total time elapsed - 558.9989719390869 - wss - 0.04808884905141287\n",
      "Plot 119 - time elapsed - 4.80727481842041 - total time elapsed - 563.8062467575073 - wss - 0.048328551334297254\n",
      "Plot 120 - time elapsed - 4.661266565322876 - total time elapsed - 568.4675133228302 - wss - 0.07646527598858492\n",
      "Plot 121 - time elapsed - 4.868278503417969 - total time elapsed - 573.3357918262482 - wss - 0.04930355353791613\n",
      "Plot 122 - time elapsed - 4.836276531219482 - total time elapsed - 578.1720683574677 - wss - 0.04648044243930509\n",
      "Plot 123 - time elapsed - 4.728270530700684 - total time elapsed - 582.9003388881683 - wss - 0.043907841560892426\n",
      "Plot 124 - time elapsed - 4.874278783798218 - total time elapsed - 587.7746176719666 - wss - 0.08886965082170649\n",
      "Plot 125 - time elapsed - 4.8442771434783936 - total time elapsed - 592.618894815445 - wss - 0.05255371196433329\n",
      "0.043907841560892426\n",
      "Plot 126 - time elapsed - 5.564318418502808 - total time elapsed - 598.1832132339478 - wss - 0.056747271580152164\n",
      "Plot 127 - time elapsed - 5.232299327850342 - total time elapsed - 603.4155125617981 - wss - 0.05459544626339929\n",
      "Plot 128 - time elapsed - 5.419309854507446 - total time elapsed - 608.8348224163055 - wss - 0.06386676677466435\n",
      "Plot 129 - time elapsed - 5.377307415008545 - total time elapsed - 614.2121298313141 - wss - 0.06382859857581238\n",
      "Plot 130 - time elapsed - 5.761329412460327 - total time elapsed - 619.9734592437744 - wss - 0.08426304530115421\n",
      "Plot 131 - time elapsed - 5.624321699142456 - total time elapsed - 625.5977809429169 - wss - 0.04214335090504881\n",
      "Plot 132 - time elapsed - 5.83933424949646 - total time elapsed - 631.4371151924133 - wss - 0.04695740171233973\n",
      "Plot 133 - time elapsed - 5.3193042278289795 - total time elapsed - 636.7564194202423 - wss - 0.04417683181721133\n",
      "Plot 134 - time elapsed - 6.053346157073975 - total time elapsed - 642.8097655773163 - wss - 0.05964738436470051\n",
      "Plot 135 - time elapsed - 6.407366514205933 - total time elapsed - 649.2171320915222 - wss - 0.04417683181721133\n",
      "Plot 136 - time elapsed - 5.547317266464233 - total time elapsed - 654.7644493579865 - wss - 0.04804589501903654\n",
      "Plot 137 - time elapsed - 5.283302307128906 - total time elapsed - 660.0477516651154 - wss - 0.05029206788286118\n",
      "Plot 138 - time elapsed - 5.481313705444336 - total time elapsed - 665.5290653705597 - wss - 0.0670256967005527\n",
      "Plot 139 - time elapsed - 5.739328145980835 - total time elapsed - 671.2683935165405 - wss - 0.05809085855789568\n",
      "Plot 140 - time elapsed - 5.159295082092285 - total time elapsed - 676.4276885986328 - wss - 0.045585816619581096\n",
      "Plot 141 - time elapsed - 5.114292621612549 - total time elapsed - 681.5419812202454 - wss - 0.05888674228014471\n",
      "Plot 142 - time elapsed - 5.349306106567383 - total time elapsed - 686.8912873268127 - wss - 0.049833262640867355\n",
      "Plot 143 - time elapsed - 5.231299161911011 - total time elapsed - 692.1225864887238 - wss - 0.049968409699101456\n",
      "Plot 144 - time elapsed - 5.063289642333984 - total time elapsed - 697.1858761310577 - wss - 0.04695740171233973\n",
      "Plot 145 - time elapsed - 5.518315553665161 - total time elapsed - 702.7041916847229 - wss - 0.07612828971247047\n",
      "Plot 146 - time elapsed - 5.707326412200928 - total time elapsed - 708.4115180969238 - wss - 0.04824392129394506\n"
     ]
    },
    {
     "name": "stdout",
     "output_type": "stream",
     "text": [
      "Plot 147 - time elapsed - 5.747328758239746 - total time elapsed - 714.1588468551636 - wss - 0.04693987666196831\n",
      "Plot 148 - time elapsed - 4.935282230377197 - total time elapsed - 719.0941290855408 - wss - 0.0491915849045661\n",
      "Plot 149 - time elapsed - 5.038288354873657 - total time elapsed - 724.1324174404144 - wss - 0.06277852898090978\n",
      "Plot 150 - time elapsed - 5.061289548873901 - total time elapsed - 729.1937069892883 - wss - 0.061336415198865415\n",
      "0.04214335090504881\n",
      "Plot 151 - time elapsed - 5.5533177852630615 - total time elapsed - 734.7470247745514 - wss - 0.05324614296285514\n",
      "Plot 152 - time elapsed - 5.348306179046631 - total time elapsed - 740.095330953598 - wss - 0.05699130157306825\n",
      "Plot 153 - time elapsed - 5.3223044872283936 - total time elapsed - 745.4176354408264 - wss - 0.05667700953317221\n",
      "Plot 154 - time elapsed - 5.307303428649902 - total time elapsed - 750.7249388694763 - wss - 0.05976903452074083\n",
      "Plot 155 - time elapsed - 5.125293016433716 - total time elapsed - 755.85023188591 - wss - 0.09299495593294345\n",
      "Plot 156 - time elapsed - 5.305303335189819 - total time elapsed - 761.1555352210999 - wss - 0.04207923128092115\n",
      "Plot 157 - time elapsed - 4.981284856796265 - total time elapsed - 766.1368200778961 - wss - 0.04954069939605339\n",
      "Plot 158 - time elapsed - 5.436310768127441 - total time elapsed - 771.5731308460236 - wss - 0.047887549740920875\n",
      "Plot 159 - time elapsed - 5.522316217422485 - total time elapsed - 777.095447063446 - wss - 0.05860040049664856\n",
      "Plot 160 - time elapsed - 5.829333066940308 - total time elapsed - 782.9247801303864 - wss - 0.047887549740920875\n",
      "Plot 161 - time elapsed - 5.116292476654053 - total time elapsed - 788.0410726070404 - wss - 0.04529327065335976\n",
      "Plot 162 - time elapsed - 5.1852967739105225 - total time elapsed - 793.2263693809509 - wss - 0.04550538969923111\n",
      "Plot 163 - time elapsed - 5.2002973556518555 - total time elapsed - 798.4266667366028 - wss - 0.07109553583007962\n",
      "Plot 164 - time elapsed - 5.011286735534668 - total time elapsed - 803.4379534721375 - wss - 0.05662665988802793\n",
      "Plot 165 - time elapsed - 5.0712902545928955 - total time elapsed - 808.5092437267303 - wss - 0.05359482517502337\n",
      "Plot 166 - time elapsed - 5.399308681488037 - total time elapsed - 813.9085524082184 - wss - 0.05056695692913531\n",
      "Plot 167 - time elapsed - 5.2072978019714355 - total time elapsed - 819.1158502101898 - wss - 0.04969942667741466\n",
      "Plot 168 - time elapsed - 5.421310186386108 - total time elapsed - 824.5371603965759 - wss - 0.04777004623545742\n",
      "Plot 169 - time elapsed - 5.3193042278289795 - total time elapsed - 829.8564646244049 - wss - 0.04954069939605339\n",
      "Plot 170 - time elapsed - 6.189354181289673 - total time elapsed - 836.0458188056946 - wss - 0.07612828971247046\n",
      "Plot 171 - time elapsed - 6.228356122970581 - total time elapsed - 842.2741749286652 - wss - 0.048234274552445465\n",
      "Plot 172 - time elapsed - 5.813332557678223 - total time elapsed - 848.0875074863434 - wss - 0.05056608894110722\n",
      "Plot 173 - time elapsed - 5.824333190917969 - total time elapsed - 853.9118406772614 - wss - 0.05113271110519925\n",
      "Plot 174 - time elapsed - 5.23829984664917 - total time elapsed - 859.1501405239105 - wss - 0.052051630947227784\n",
      "Plot 175 - time elapsed - 5.935339450836182 - total time elapsed - 865.0854799747467 - wss - 0.0699172131815823\n",
      "0.04207923128092115\n",
      "Plot 176 - time elapsed - 6.130350589752197 - total time elapsed - 871.2158305644989 - wss - 0.059236090656091\n",
      "Plot 177 - time elapsed - 5.893337249755859 - total time elapsed - 877.1091678142548 - wss - 0.06065639486185646\n",
      "Plot 178 - time elapsed - 5.809332370758057 - total time elapsed - 882.9185001850128 - wss - 0.0469893719319198\n",
      "Plot 179 - time elapsed - 5.997343063354492 - total time elapsed - 888.9158432483673 - wss - 0.05495094095364491\n",
      "Plot 180 - time elapsed - 6.168352842330933 - total time elapsed - 895.0841960906982 - wss - 0.06562487436891494\n",
      "Plot 181 - time elapsed - 6.215355634689331 - total time elapsed - 901.2995517253876 - wss - 0.04443593595120238\n",
      "Plot 182 - time elapsed - 6.937396764755249 - total time elapsed - 908.2369484901428 - wss - 0.05359839860354833\n",
      "Plot 183 - time elapsed - 6.6343793869018555 - total time elapsed - 914.8713278770447 - wss - 0.04745558899487168\n",
      "Plot 184 - time elapsed - 6.130350828170776 - total time elapsed - 921.0016787052155 - wss - 0.05807571369833297\n",
      "Plot 185 - time elapsed - 5.812332630157471 - total time elapsed - 926.8140113353729 - wss - 0.04745558899487168\n",
      "Plot 186 - time elapsed - 6.084348201751709 - total time elapsed - 932.8983595371246 - wss - 0.044047133884049336\n",
      "Plot 187 - time elapsed - 6.311361074447632 - total time elapsed - 939.2097206115723 - wss - 0.04530106175401994\n",
      "Plot 188 - time elapsed - 6.113349676132202 - total time elapsed - 945.3230702877045 - wss - 0.05914833898648912\n",
      "Plot 189 - time elapsed - 5.877336025238037 - total time elapsed - 951.2004063129425 - wss - 0.050866080638304105\n",
      "Plot 190 - time elapsed - 5.875335931777954 - total time elapsed - 957.0757422447205 - wss - 0.05112633121410142\n",
      "Plot 191 - time elapsed - 5.905337810516357 - total time elapsed - 962.9810800552368 - wss - 0.05401334687093111\n",
      "Plot 192 - time elapsed - 7.1114068031311035 - total time elapsed - 970.0924868583679 - wss - 0.04921810501722802\n",
      "Plot 193 - time elapsed - 6.835391044616699 - total time elapsed - 976.9278779029846 - wss - 0.04691664468728536\n",
      "Plot 194 - time elapsed - 7.205412149429321 - total time elapsed - 984.1332900524139 - wss - 0.05359839860354833\n",
      "Plot 195 - time elapsed - 6.170352935791016 - total time elapsed - 990.303642988205 - wss - 0.05618938002055634\n",
      "Plot 196 - time elapsed - 5.937339544296265 - total time elapsed - 996.2409825325012 - wss - 0.04911927323023328\n",
      "Plot 197 - time elapsed - 6.0483458042144775 - total time elapsed - 1002.2893283367157 - wss - 0.04883034167748862\n",
      "Plot 198 - time elapsed - 5.782330751419067 - total time elapsed - 1008.0716590881348 - wss - 0.0571805958364605\n",
      "Plot 199 - time elapsed - 6.081347942352295 - total time elapsed - 1014.1530070304871 - wss - 0.05796630528349974\n",
      "Plot 200 - time elapsed - 5.751328945159912 - total time elapsed - 1019.904335975647 - wss - 0.06567408081614472\n",
      "0.044047133884049336\n",
      "Plot 201 - time elapsed - 5.9203386306762695 - total time elapsed - 1025.8246746063232 - wss - 0.06083870827879519\n",
      "Plot 202 - time elapsed - 7.581433534622192 - total time elapsed - 1033.4061081409454 - wss - 0.055602884900344006\n",
      "Plot 203 - time elapsed - 7.436425685882568 - total time elapsed - 1040.842533826828 - wss - 0.05428118234534723\n",
      "Plot 204 - time elapsed - 6.733384847640991 - total time elapsed - 1047.575918674469 - wss - 0.05496614694412934\n",
      "Plot 205 - time elapsed - 6.062346696853638 - total time elapsed - 1053.6382653713226 - wss - 0.06885939937350656\n",
      "Plot 206 - time elapsed - 5.495314598083496 - total time elapsed - 1059.1335799694061 - wss - 0.04190335928297002\n",
      "Plot 207 - time elapsed - 5.984342098236084 - total time elapsed - 1065.1179220676422 - wss - 0.05327506353971649\n",
      "Plot 208 - time elapsed - 6.343362808227539 - total time elapsed - 1071.4612848758698 - wss - 0.05045462211026412\n",
      "Plot 209 - time elapsed - 6.015344142913818 - total time elapsed - 1077.4766290187836 - wss - 0.0580909196888174\n",
      "Plot 210 - time elapsed - 5.973341703414917 - total time elapsed - 1083.4499707221985 - wss - 0.05045462211026412\n",
      "Plot 211 - time elapsed - 5.709326267242432 - total time elapsed - 1089.159296989441 - wss - 0.04599080644371875\n",
      "Plot 212 - time elapsed - 5.685325384140015 - total time elapsed - 1094.844622373581 - wss - 0.04507533030018539\n",
      "Plot 213 - time elapsed - 6.237356424331665 - total time elapsed - 1101.0819787979126 - wss - 0.058005861197872745\n",
      "Plot 214 - time elapsed - 5.31330418586731 - total time elapsed - 1106.39528298378 - wss - 0.05082748690286957\n",
      "Plot 215 - time elapsed - 7.005400896072388 - total time elapsed - 1113.4006838798523 - wss - 0.04925850260684242\n",
      "Plot 216 - time elapsed - 5.761329650878906 - total time elapsed - 1119.1620135307312 - wss - 0.04881992756318609\n",
      "Plot 217 - time elapsed - 5.358306169509888 - total time elapsed - 1124.520319700241 - wss - 0.05355409448203759\n",
      "Plot 218 - time elapsed - 5.371307134628296 - total time elapsed - 1129.8916268348694 - wss - 0.04691785682936125\n"
     ]
    },
    {
     "name": "stdout",
     "output_type": "stream",
     "text": [
      "Plot 219 - time elapsed - 5.098291635513306 - total time elapsed - 1134.9899184703827 - wss - 0.05327506353971649\n",
      "Plot 220 - time elapsed - 5.153294801712036 - total time elapsed - 1140.1432132720947 - wss - 0.054916772575621525\n",
      "Plot 221 - time elapsed - 5.275301933288574 - total time elapsed - 1145.4185152053833 - wss - 0.045598881370619175\n",
      "Plot 222 - time elapsed - 5.881336450576782 - total time elapsed - 1151.29985165596 - wss - 0.044308508711340906\n",
      "Plot 223 - time elapsed - 5.70832633972168 - total time elapsed - 1157.0081779956818 - wss - 0.056002339650871744\n",
      "Plot 224 - time elapsed - 5.74332857131958 - total time elapsed - 1162.7515065670013 - wss - 0.06082848647089896\n",
      "Plot 225 - time elapsed - 5.16229510307312 - total time elapsed - 1167.9138016700745 - wss - 0.07168130119067599\n",
      "0.04190335928297002\n",
      "Total time elapsed - 1167.9138016700745\n"
     ]
    },
    {
     "data": {
      "text/plain": [
       "<seaborn.axisgrid.FacetGrid at 0x59f5be0>"
      ]
     },
     "execution_count": 65,
     "metadata": {},
     "output_type": "execute_result"
    },
    {
     "data": {
      "image/png": "[encoded data removed]",
      "text/plain": [
       "<Figure size 402.875x360 with 1 Axes>"
      ]
     },
     "metadata": {
      "needs_background": "light"
     },
     "output_type": "display_data"
    }
   ],
   "source": [
    "hs_hmax_dir_tp_months_sst_months_plot, wss1=do_kmeans(normalised_wavedata_dir_tp_months_sst_months, 'Hs', 'Hmax')\n",
    "sns.lmplot('Hs', 'Hmax', data=hs_hmax_dir_tp_months_sst_months_plot, fit_reg=False, hue='closest')"
   ]
  },
  {
   "cell_type": "code",
   "execution_count": 66,
   "metadata": {},
   "outputs": [
    {
     "name": "stdout",
     "output_type": "stream",
     "text": [
      "Plot 1 - time elapsed - 3.9062235355377197 - total time elapsed - 3.9062235355377197 - wss - 0.4374742741286837\n",
      "Plot 2 - time elapsed - 3.826218605041504 - total time elapsed - 7.732442140579224 - wss - 0.4374742741286837\n",
      "Plot 3 - time elapsed - 3.6672096252441406 - total time elapsed - 11.399651765823364 - wss - 0.0108052878780117\n",
      "Plot 4 - time elapsed - 3.7702157497406006 - total time elapsed - 15.169867515563965 - wss - 0.0108052878780117\n",
      "Plot 5 - time elapsed - 3.835219144821167 - total time elapsed - 19.005086660385132 - wss - 0.46871680149501804\n",
      "Plot 6 - time elapsed - 3.7932167053222656 - total time elapsed - 22.798303365707397 - wss - 0.46034357922776753\n",
      "Plot 7 - time elapsed - 3.7872164249420166 - total time elapsed - 26.585519790649414 - wss - 0.4986842859415627\n",
      "Plot 8 - time elapsed - 3.7982170581817627 - total time elapsed - 30.383736848831177 - wss - 0.022733486883429924\n",
      "Plot 9 - time elapsed - 3.7522146701812744 - total time elapsed - 34.13595151901245 - wss - 0.46871680149501804\n",
      "Plot 10 - time elapsed - 3.7912166118621826 - total time elapsed - 37.927168130874634 - wss - 0.022733486883429924\n",
      "Plot 11 - time elapsed - 3.7952170372009277 - total time elapsed - 41.72238516807556 - wss - 0.022532061219814208\n",
      "Plot 12 - time elapsed - 3.7692158222198486 - total time elapsed - 45.49160099029541 - wss - 0.4996143290969285\n",
      "Plot 13 - time elapsed - 4.024230241775513 - total time elapsed - 49.51583123207092 - wss - 0.0108052878780117\n",
      "Plot 14 - time elapsed - 3.7312135696411133 - total time elapsed - 53.247044801712036 - wss - 0.013553435985807855\n",
      "Plot 15 - time elapsed - 3.935225009918213 - total time elapsed - 57.18226981163025 - wss - 0.4986842859415627\n",
      "Plot 16 - time elapsed - 3.7892167568206787 - total time elapsed - 60.97148656845093 - wss - 0.023267566015319596\n",
      "Plot 17 - time elapsed - 3.831218957901001 - total time elapsed - 64.80270552635193 - wss - 0.020761564949929066\n",
      "Plot 18 - time elapsed - 4.139236688613892 - total time elapsed - 68.94194221496582 - wss - 0.024406395218908215\n",
      "Plot 19 - time elapsed - 4.0032289028167725 - total time elapsed - 72.94517111778259 - wss - 0.4986842859415627\n",
      "Plot 20 - time elapsed - 4.285245180130005 - total time elapsed - 77.2304162979126 - wss - 0.019681312865073637\n",
      "Plot 21 - time elapsed - 4.049231767654419 - total time elapsed - 81.27964806556702 - wss - 0.020282130447560096\n",
      "Plot 22 - time elapsed - 4.256243467330933 - total time elapsed - 85.53589153289795 - wss - 0.023169012724718652\n",
      "Plot 23 - time elapsed - 4.22624135017395 - total time elapsed - 89.7621328830719 - wss - 0.019999666688247784\n",
      "Plot 24 - time elapsed - 3.8932228088378906 - total time elapsed - 93.65535569190979 - wss - 0.4986842859415627\n",
      "Plot 25 - time elapsed - 3.7922170162200928 - total time elapsed - 97.44757270812988 - wss - 0.022713550690980924\n",
      "0.0108052878780117\n",
      "Plot 26 - time elapsed - 4.01522970199585 - total time elapsed - 101.46280241012573 - wss - 0.4374742741286837\n",
      "Plot 27 - time elapsed - 4.180239200592041 - total time elapsed - 105.64304161071777 - wss - 0.25907728712535194\n",
      "Plot 28 - time elapsed - 4.041231155395508 - total time elapsed - 109.68427276611328 - wss - 0.02581209865028989\n",
      "Plot 29 - time elapsed - 3.8862223625183105 - total time elapsed - 113.57049512863159 - wss - 0.4422887071130496\n",
      "Plot 30 - time elapsed - 4.437253713607788 - total time elapsed - 118.00774884223938 - wss - 0.46871680149501804\n",
      "Plot 31 - time elapsed - 5.007286310195923 - total time elapsed - 123.0150351524353 - wss - 0.21793169351172312\n",
      "Plot 32 - time elapsed - 4.217241048812866 - total time elapsed - 127.23227620124817 - wss - 0.20233629016605845\n",
      "Plot 33 - time elapsed - 4.11123514175415 - total time elapsed - 131.34351134300232 - wss - 0.17778189963948443\n",
      "Plot 34 - time elapsed - 4.058232069015503 - total time elapsed - 135.40174341201782 - wss - 0.21012206084201265\n",
      "Plot 35 - time elapsed - 3.980227470397949 - total time elapsed - 139.38197088241577 - wss - 0.17778189963948443\n",
      "Plot 36 - time elapsed - 3.8732213973999023 - total time elapsed - 143.25519227981567 - wss - 0.09601064817989646\n",
      "Plot 37 - time elapsed - 3.972227096557617 - total time elapsed - 147.2274193763733 - wss - 0.21760382682880203\n",
      "Plot 38 - time elapsed - 3.798217535018921 - total time elapsed - 151.0256369113922 - wss - 0.12408478634404825\n",
      "Plot 39 - time elapsed - 3.848220109939575 - total time elapsed - 154.8738570213318 - wss - 0.24782083828979257\n",
      "Plot 40 - time elapsed - 3.8722217082977295 - total time elapsed - 158.74607872962952 - wss - 0.20615165569008506\n",
      "Plot 41 - time elapsed - 3.8912227153778076 - total time elapsed - 162.63730144500732 - wss - 0.09510336522600113\n",
      "Plot 42 - time elapsed - 4.023230075836182 - total time elapsed - 166.6605315208435 - wss - 0.17633611043818093\n",
      "Plot 43 - time elapsed - 3.847219944000244 - total time elapsed - 170.50775146484375 - wss - 0.30864754879338024\n",
      "Plot 44 - time elapsed - 3.959226369857788 - total time elapsed - 174.46697783470154 - wss - 0.20233629016605845\n",
      "Plot 45 - time elapsed - 3.8512206077575684 - total time elapsed - 178.3181984424591 - wss - 0.21745621821828\n",
      "Plot 46 - time elapsed - 3.948225736618042 - total time elapsed - 182.26642417907715 - wss - 0.21346666638129658\n",
      "Plot 47 - time elapsed - 3.949225664138794 - total time elapsed - 186.21564984321594 - wss - 0.19621987594229795\n",
      "Plot 48 - time elapsed - 3.945225715637207 - total time elapsed - 190.16087555885315 - wss - 0.1383932775288727\n",
      "Plot 49 - time elapsed - 3.838219404220581 - total time elapsed - 193.99909496307373 - wss - 0.21024096950213558\n",
      "Plot 50 - time elapsed - 3.8882224559783936 - total time elapsed - 197.88731741905212 - wss - 0.18781289892178593\n",
      "0.02581209865028989\n",
      "Plot 51 - time elapsed - 4.05023193359375 - total time elapsed - 201.93754935264587 - wss - 0.2586357715999514\n",
      "Plot 52 - time elapsed - 4.2482428550720215 - total time elapsed - 206.1857922077179 - wss - 0.29871755603510947\n",
      "Plot 53 - time elapsed - 4.091233968734741 - total time elapsed - 210.27702617645264 - wss - 0.05368859362106331\n",
      "Plot 54 - time elapsed - 4.29524564743042 - total time elapsed - 214.57227182388306 - wss - 0.25093379431525964\n",
      "Plot 55 - time elapsed - 4.323247194290161 - total time elapsed - 218.89551901817322 - wss - 0.350293529164168\n",
      "Plot 56 - time elapsed - 4.437253952026367 - total time elapsed - 223.33277297019958 - wss - 0.21589580259536997\n",
      "Plot 57 - time elapsed - 4.436253786087036 - total time elapsed - 227.76902675628662 - wss - 0.2537203949228934\n",
      "Plot 58 - time elapsed - 4.345248460769653 - total time elapsed - 232.11427521705627 - wss - 0.19626149525868472\n",
      "Plot 59 - time elapsed - 4.672267436981201 - total time elapsed - 236.78654265403748 - wss - 0.20518164802982497\n",
      "Plot 60 - time elapsed - 4.182239055633545 - total time elapsed - 240.96878170967102 - wss - 0.19626149525868472\n",
      "Plot 61 - time elapsed - 4.790273904800415 - total time elapsed - 245.75905561447144 - wss - 0.12090874039749729\n",
      "Plot 62 - time elapsed - 4.783273458480835 - total time elapsed - 250.54232907295227 - wss - 0.26881346380764626\n",
      "Plot 63 - time elapsed - 4.744271516799927 - total time elapsed - 255.2866005897522 - wss - 0.17797910408452897\n",
      "Plot 64 - time elapsed - 4.2132408618927 - total time elapsed - 259.4998414516449 - wss - 0.24782083828979257\n",
      "Plot 65 - time elapsed - 4.299246072769165 - total time elapsed - 263.79908752441406 - wss - 0.21097583367938577\n",
      "Plot 66 - time elapsed - 4.37725043296814 - total time elapsed - 268.1763379573822 - wss - 0.1389022723964086\n",
      "Plot 67 - time elapsed - 4.42525315284729 - total time elapsed - 272.6015911102295 - wss - 0.18102994004912354\n",
      "Plot 68 - time elapsed - 4.62926459312439 - total time elapsed - 277.2308557033539 - wss - 0.2991816506946029\n",
      "Plot 69 - time elapsed - 4.306246519088745 - total time elapsed - 281.5371022224426 - wss - 0.2537203949228934\n",
      "Plot 70 - time elapsed - 4.655266284942627 - total time elapsed - 286.19236850738525 - wss - 0.195888891229766\n",
      "Plot 71 - time elapsed - 4.450254440307617 - total time elapsed - 290.64262294769287 - wss - 0.21640293497247348\n",
      "Plot 72 - time elapsed - 4.2432427406311035 - total time elapsed - 294.885865688324 - wss - 0.4136108496770356\n",
      "Plot 73 - time elapsed - 5.268301248550415 - total time elapsed - 300.1541669368744 - wss - 0.14045542199931174\n"
     ]
    },
    {
     "name": "stdout",
     "output_type": "stream",
     "text": [
      "Plot 74 - time elapsed - 4.662266969680786 - total time elapsed - 304.8164339065552 - wss - 0.17722666503510456\n",
      "Plot 75 - time elapsed - 5.049288749694824 - total time elapsed - 309.86572265625 - wss - 0.23344933799313583\n",
      "0.05368859362106331\n",
      "Plot 76 - time elapsed - 4.430253505706787 - total time elapsed - 314.2959761619568 - wss - 0.24267533032793365\n",
      "Plot 77 - time elapsed - 5.41530966758728 - total time elapsed - 319.71128582954407 - wss - 0.29871755603510947\n",
      "Plot 78 - time elapsed - 4.426253318786621 - total time elapsed - 324.1375391483307 - wss - 0.07789313897097108\n",
      "Plot 79 - time elapsed - 4.726270437240601 - total time elapsed - 328.8638095855713 - wss - 0.3333578210747769\n",
      "Plot 80 - time elapsed - 4.3762500286102295 - total time elapsed - 333.2400596141815 - wss - 0.24475222966906432\n",
      "Plot 81 - time elapsed - 5.294302701950073 - total time elapsed - 338.5343623161316 - wss - 0.230129330298842\n",
      "Plot 82 - time elapsed - 5.246300220489502 - total time elapsed - 343.7806625366211 - wss - 0.19835723046941922\n",
      "Plot 83 - time elapsed - 8.301474809646606 - total time elapsed - 352.0821373462677 - wss - 0.19611031328720224\n",
      "Plot 84 - time elapsed - 8.935511112213135 - total time elapsed - 361.01764845848083 - wss - 0.22131568897435794\n",
      "Plot 85 - time elapsed - 5.529316425323486 - total time elapsed - 366.5469648838043 - wss - 0.19611031328720224\n",
      "Plot 86 - time elapsed - 6.13235068321228 - total time elapsed - 372.6793155670166 - wss - 0.2961386093839099\n",
      "Plot 87 - time elapsed - 5.040288209915161 - total time elapsed - 377.71960377693176 - wss - 0.26881346380764626\n",
      "Plot 88 - time elapsed - 8.09246277809143 - total time elapsed - 385.8120665550232 - wss - 0.23816511906089974\n",
      "Plot 89 - time elapsed - 5.301303148269653 - total time elapsed - 391.11336970329285 - wss - 0.24782083828979257\n",
      "Plot 90 - time elapsed - 5.015286684036255 - total time elapsed - 396.1286563873291 - wss - 0.4107341619589746\n",
      "Plot 91 - time elapsed - 5.259300708770752 - total time elapsed - 401.38795709609985 - wss - 0.23112880182734793\n",
      "Plot 92 - time elapsed - 4.345248460769653 - total time elapsed - 405.7332055568695 - wss - 0.18020080911382166\n",
      "Plot 93 - time elapsed - 4.447254180908203 - total time elapsed - 410.1804597377777 - wss - 0.2956499370751921\n",
      "Plot 94 - time elapsed - 7.43042516708374 - total time elapsed - 417.61088490486145 - wss - 0.19835723046941922\n",
      "Plot 95 - time elapsed - 6.6523802280426025 - total time elapsed - 424.26326513290405 - wss - 0.4119768068690952\n",
      "Plot 96 - time elapsed - 5.08729100227356 - total time elapsed - 429.3505561351776 - wss - 0.21640293497247348\n",
      "Plot 97 - time elapsed - 4.7172698974609375 - total time elapsed - 434.06782603263855 - wss - 0.4235819232294314\n",
      "Plot 98 - time elapsed - 5.941339731216431 - total time elapsed - 440.009165763855 - wss - 0.16834161973065118\n",
      "Plot 99 - time elapsed - 5.836334228515625 - total time elapsed - 445.8454999923706 - wss - 0.3232457259186358\n",
      "Plot 100 - time elapsed - 5.366306781768799 - total time elapsed - 451.2118067741394 - wss - 0.27870765389783286\n",
      "0.07789313897097108\n",
      "Plot 101 - time elapsed - 9.439540147781372 - total time elapsed - 460.6513469219208 - wss - 0.2805548236021941\n",
      "Plot 102 - time elapsed - 4.901280403137207 - total time elapsed - 465.552627325058 - wss - 0.22927810400760465\n",
      "Plot 103 - time elapsed - 4.8532774448394775 - total time elapsed - 470.40590476989746 - wss - 0.07948908357913732\n",
      "Plot 104 - time elapsed - 5.043288230895996 - total time elapsed - 475.44919300079346 - wss - 0.3364249833759633\n",
      "Plot 105 - time elapsed - 8.32547640800476 - total time elapsed - 483.7746694087982 - wss - 0.22345811982263122\n",
      "Plot 106 - time elapsed - 7.3594207763671875 - total time elapsed - 491.1340901851654 - wss - 0.21713805570111339\n",
      "Plot 107 - time elapsed - 5.889336824417114 - total time elapsed - 497.0234270095825 - wss - 0.1987459636914551\n",
      "Plot 108 - time elapsed - 5.362306833267212 - total time elapsed - 502.38573384284973 - wss - 0.307031544238532\n",
      "Plot 109 - time elapsed - 5.542316913604736 - total time elapsed - 507.92805075645447 - wss - 0.2370312647298931\n",
      "Plot 110 - time elapsed - 6.889394044876099 - total time elapsed - 514.8174448013306 - wss - 0.307031544238532\n",
      "Plot 111 - time elapsed - 6.409366846084595 - total time elapsed - 521.2268116474152 - wss - 0.30698020149652716\n",
      "Plot 112 - time elapsed - 5.595319986343384 - total time elapsed - 526.8221316337585 - wss - 0.29433757103872715\n",
      "Plot 113 - time elapsed - 5.833333730697632 - total time elapsed - 532.6554653644562 - wss - 0.2972218909336418\n",
      "Plot 114 - time elapsed - 5.362306833267212 - total time elapsed - 538.0177721977234 - wss - 0.18009263082702517\n",
      "Plot 115 - time elapsed - 5.634322166442871 - total time elapsed - 543.6520943641663 - wss - 0.4107341619589746\n",
      "Plot 116 - time elapsed - 5.14929461479187 - total time elapsed - 548.8013889789581 - wss - 0.23603735756712113\n",
      "Plot 117 - time elapsed - 5.325304746627808 - total time elapsed - 554.1266937255859 - wss - 0.22984294066533398\n",
      "Plot 118 - time elapsed - 5.508315086364746 - total time elapsed - 559.6350088119507 - wss - 0.29782668230068743\n",
      "Plot 119 - time elapsed - 6.621378660202026 - total time elapsed - 566.2563874721527 - wss - 0.1987459636914551\n",
      "Plot 120 - time elapsed - 10.875622034072876 - total time elapsed - 577.1320095062256 - wss - 0.4119768068690952\n",
      "Plot 121 - time elapsed - 6.347362995147705 - total time elapsed - 583.4793725013733 - wss - 0.19190707286241837\n",
      "Plot 122 - time elapsed - 6.120349884033203 - total time elapsed - 589.5997223854065 - wss - 0.4265107480780293\n",
      "Plot 123 - time elapsed - 5.440310955047607 - total time elapsed - 595.0400333404541 - wss - 0.16833914532065453\n",
      "Plot 124 - time elapsed - 7.00640082359314 - total time elapsed - 602.0464341640472 - wss - 0.4005889736229981\n",
      "Plot 125 - time elapsed - 7.21841287612915 - total time elapsed - 609.2648470401764 - wss - 0.23039574497097132\n",
      "0.07948908357913732\n",
      "Plot 126 - time elapsed - 6.070347309112549 - total time elapsed - 615.3351943492889 - wss - 0.30513378540097613\n",
      "Plot 127 - time elapsed - 7.740442514419556 - total time elapsed - 623.0756368637085 - wss - 0.2268957807179488\n",
      "Plot 128 - time elapsed - 7.313418626785278 - total time elapsed - 630.3890554904938 - wss - 0.3191324366063249\n",
      "Plot 129 - time elapsed - 10.989628314971924 - total time elapsed - 641.3786838054657 - wss - 0.3364249833759633\n",
      "Plot 130 - time elapsed - 7.77144455909729 - total time elapsed - 649.150128364563 - wss - 0.3246158561023762\n",
      "Plot 131 - time elapsed - 9.467541456222534 - total time elapsed - 658.6176698207855 - wss - 0.2208988433221138\n",
      "Plot 132 - time elapsed - 9.521544694900513 - total time elapsed - 668.139214515686 - wss - 0.19970311603954893\n",
      "Plot 133 - time elapsed - 7.012401103973389 - total time elapsed - 675.1516156196594 - wss - 0.30832416275955643\n",
      "Plot 134 - time elapsed - 5.4403111934661865 - total time elapsed - 680.5919268131256 - wss - 0.2370312647298931\n",
      "Plot 135 - time elapsed - 5.03928804397583 - total time elapsed - 685.6312148571014 - wss - 0.30832416275955643\n",
      "Plot 136 - time elapsed - 4.868278503417969 - total time elapsed - 690.4994933605194 - wss - 0.3085932545482512\n",
      "Plot 137 - time elapsed - 4.7202699184417725 - total time elapsed - 695.2197632789612 - wss - 0.29552154683887333\n",
      "Plot 138 - time elapsed - 5.509315013885498 - total time elapsed - 700.7290782928467 - wss - 0.2666143136368038\n",
      "Plot 139 - time elapsed - 5.374307632446289 - total time elapsed - 706.103385925293 - wss - 0.20293416954142313\n",
      "Plot 140 - time elapsed - 5.937339544296265 - total time elapsed - 712.0407254695892 - wss - 0.4332918860441356\n",
      "Plot 141 - time elapsed - 4.874279022216797 - total time elapsed - 716.915004491806 - wss - 0.2988512772311364\n",
      "Plot 142 - time elapsed - 4.571261405944824 - total time elapsed - 721.4862658977509 - wss - 0.26786988920644084\n",
      "Plot 143 - time elapsed - 4.669266939163208 - total time elapsed - 726.1555328369141 - wss - 0.3011086940590967\n",
      "Plot 144 - time elapsed - 4.583261966705322 - total time elapsed - 730.7387948036194 - wss - 0.19970311603954893\n",
      "Plot 145 - time elapsed - 4.721270322799683 - total time elapsed - 735.4600651264191 - wss - 0.4119768068690952\n",
      "Plot 146 - time elapsed - 4.924281597137451 - total time elapsed - 740.3843467235565 - wss - 0.24154171839338573\n"
     ]
    },
    {
     "name": "stdout",
     "output_type": "stream",
     "text": [
      "Plot 147 - time elapsed - 5.18329644203186 - total time elapsed - 745.5676431655884 - wss - 0.4227299475649692\n",
      "Plot 148 - time elapsed - 5.295302867889404 - total time elapsed - 750.8629460334778 - wss - 0.324105775619016\n",
      "Plot 149 - time elapsed - 5.660323619842529 - total time elapsed - 756.5232696533203 - wss - 0.43306289052214925\n",
      "Plot 150 - time elapsed - 4.867278337478638 - total time elapsed - 761.390547990799 - wss - 0.23039574497097132\n",
      "0.19970311603954893\n",
      "Plot 151 - time elapsed - 5.091291189193726 - total time elapsed - 766.4818391799927 - wss - 0.28909803472738826\n",
      "Plot 152 - time elapsed - 4.818275690078735 - total time elapsed - 771.3001148700714 - wss - 0.2268957807179488\n",
      "Plot 153 - time elapsed - 4.787273645401001 - total time elapsed - 776.0873885154724 - wss - 0.3191324366063249\n",
      "Plot 154 - time elapsed - 4.8352766036987305 - total time elapsed - 780.9226651191711 - wss - 0.33473405611292956\n",
      "Plot 155 - time elapsed - 4.89628005027771 - total time elapsed - 785.8189451694489 - wss - 0.3246158561023762\n",
      "Plot 156 - time elapsed - 4.8292763233184814 - total time elapsed - 790.6482214927673 - wss - 0.25225335893163414\n",
      "Plot 157 - time elapsed - 4.570261240005493 - total time elapsed - 795.2184827327728 - wss - 0.30960192307844153\n",
      "Plot 158 - time elapsed - 4.960283517837524 - total time elapsed - 800.1787662506104 - wss - 0.4184638797735853\n",
      "Plot 159 - time elapsed - 4.770272970199585 - total time elapsed - 804.9490392208099 - wss - 0.2749803609452461\n",
      "Plot 160 - time elapsed - 5.098291635513306 - total time elapsed - 810.0473308563232 - wss - 0.4184638797735853\n",
      "Plot 161 - time elapsed - 4.726270437240601 - total time elapsed - 814.7736012935638 - wss - 0.31180733245423375\n",
      "Plot 162 - time elapsed - 4.714269399642944 - total time elapsed - 819.4878706932068 - wss - 0.2968056892488072\n",
      "Plot 163 - time elapsed - 4.783273696899414 - total time elapsed - 824.2711443901062 - wss - 0.30230238587783864\n",
      "Plot 164 - time elapsed - 4.7192699909210205 - total time elapsed - 828.9904143810272 - wss - 0.20887379796638253\n",
      "Plot 165 - time elapsed - 4.765272617340088 - total time elapsed - 833.7556869983673 - wss - 0.24329359753601607\n",
      "Plot 166 - time elapsed - 4.956283330917358 - total time elapsed - 838.7119703292847 - wss - 0.3025188382897619\n",
      "Plot 167 - time elapsed - 4.674267530441284 - total time elapsed - 843.386237859726 - wss - 0.27332203831169805\n",
      "Plot 168 - time elapsed - 5.0822906494140625 - total time elapsed - 848.46852850914 - wss - 0.34067681850647386\n",
      "Plot 169 - time elapsed - 4.56826114654541 - total time elapsed - 853.0367896556854 - wss - 0.30960192307844153\n",
      "Plot 170 - time elapsed - 4.816275358200073 - total time elapsed - 857.8530650138855 - wss - 0.4119768068690952\n",
      "Plot 171 - time elapsed - 4.7162697315216064 - total time elapsed - 862.5693347454071 - wss - 0.24388567138245304\n",
      "Plot 172 - time elapsed - 4.909280776977539 - total time elapsed - 867.4786155223846 - wss - 0.29770731031556796\n",
      "Plot 173 - time elapsed - 4.579262018203735 - total time elapsed - 872.0578775405884 - wss - 0.2608057624391219\n",
      "Plot 174 - time elapsed - 4.888279438018799 - total time elapsed - 876.9461569786072 - wss - 0.43081955746960976\n",
      "Plot 175 - time elapsed - 5.710326671600342 - total time elapsed - 882.6564836502075 - wss - 0.23039574497097132\n",
      "0.20887379796638253\n",
      "Plot 176 - time elapsed - 5.884336709976196 - total time elapsed - 888.5408203601837 - wss - 0.250644213608762\n",
      "Plot 177 - time elapsed - 5.3203043937683105 - total time elapsed - 893.861124753952 - wss - 0.23847422001881657\n",
      "Plot 178 - time elapsed - 5.221298456192017 - total time elapsed - 899.082423210144 - wss - 0.3405619048735172\n",
      "Plot 179 - time elapsed - 5.427310228347778 - total time elapsed - 904.5097334384918 - wss - 0.21162699680134942\n",
      "Plot 180 - time elapsed - 5.0652899742126465 - total time elapsed - 909.5750234127045 - wss - 0.3747936403292276\n",
      "Plot 181 - time elapsed - 5.038288116455078 - total time elapsed - 914.6133115291595 - wss - 0.25983504338957314\n",
      "Plot 182 - time elapsed - 4.933282375335693 - total time elapsed - 919.5465939044952 - wss - 0.30960192307844153\n",
      "Plot 183 - time elapsed - 4.881279230117798 - total time elapsed - 924.427873134613 - wss - 0.4186325436292416\n",
      "Plot 184 - time elapsed - 5.0972912311553955 - total time elapsed - 929.5251643657684 - wss - 0.2749803609452461\n",
      "Plot 185 - time elapsed - 4.724270343780518 - total time elapsed - 934.249434709549 - wss - 0.4186325436292416\n",
      "Plot 186 - time elapsed - 4.86127781867981 - total time elapsed - 939.1107125282288 - wss - 0.3119747807521226\n",
      "Plot 187 - time elapsed - 4.8532774448394775 - total time elapsed - 943.9639899730682 - wss - 0.30433633288298295\n",
      "Plot 188 - time elapsed - 5.084290981292725 - total time elapsed - 949.048280954361 - wss - 0.31314783394054546\n",
      "Plot 189 - time elapsed - 4.744271278381348 - total time elapsed - 953.7925522327423 - wss - 0.23464869420880705\n",
      "Plot 190 - time elapsed - 4.85527777671814 - total time elapsed - 958.6478300094604 - wss - 0.2443526875227683\n",
      "Plot 191 - time elapsed - 5.423310041427612 - total time elapsed - 964.0711400508881 - wss - 0.3499089793536021\n",
      "Plot 192 - time elapsed - 5.174295902252197 - total time elapsed - 969.2454359531403 - wss - 0.2751594598741662\n",
      "Plot 193 - time elapsed - 5.259300947189331 - total time elapsed - 974.5047369003296 - wss - 0.34067681850647386\n",
      "Plot 194 - time elapsed - 5.159294843673706 - total time elapsed - 979.6640317440033 - wss - 0.30960192307844153\n",
      "Plot 195 - time elapsed - 4.981285095214844 - total time elapsed - 984.6453168392181 - wss - 0.42045416402223745\n",
      "Plot 196 - time elapsed - 4.891279935836792 - total time elapsed - 989.5365967750549 - wss - 0.25357807037211366\n",
      "Plot 197 - time elapsed - 4.885279655456543 - total time elapsed - 994.4218764305115 - wss - 0.3358813465030501\n",
      "Plot 198 - time elapsed - 4.772272825241089 - total time elapsed - 999.1941492557526 - wss - 0.2608057624391219\n",
      "Plot 199 - time elapsed - 5.026287317276001 - total time elapsed - 1004.2204365730286 - wss - 0.3759969300329534\n",
      "Plot 200 - time elapsed - 5.497314453125 - total time elapsed - 1009.7177510261536 - wss - 0.23514402695551273\n",
      "0.21162699680134942\n",
      "Plot 201 - time elapsed - 5.399308919906616 - total time elapsed - 1015.1170599460602 - wss - 0.2858957006311437\n",
      "Plot 202 - time elapsed - 5.316303968429565 - total time elapsed - 1020.4333639144897 - wss - 0.24256814492596407\n",
      "Plot 203 - time elapsed - 5.123292922973633 - total time elapsed - 1025.5566568374634 - wss - 0.3405619048735172\n",
      "Plot 204 - time elapsed - 5.243299722671509 - total time elapsed - 1030.799956560135 - wss - 0.21162699680134942\n",
      "Plot 205 - time elapsed - 5.40230917930603 - total time elapsed - 1036.202265739441 - wss - 0.297108790642453\n",
      "Plot 206 - time elapsed - 6.041345596313477 - total time elapsed - 1042.2436113357544 - wss - 0.26078674718094635\n",
      "Plot 207 - time elapsed - 7.09540581703186 - total time elapsed - 1049.3390171527863 - wss - 0.3101466890223572\n",
      "Plot 208 - time elapsed - 6.878393173217773 - total time elapsed - 1056.217410326004 - wss - 0.4186325436292416\n",
      "Plot 209 - time elapsed - 5.4083092212677 - total time elapsed - 1061.6257195472717 - wss - 0.2749803609452461\n",
      "Plot 210 - time elapsed - 5.114292621612549 - total time elapsed - 1066.7400121688843 - wss - 0.4186325436292416\n",
      "Plot 211 - time elapsed - 5.117292881011963 - total time elapsed - 1071.8573050498962 - wss - 0.43594416318598816\n",
      "Plot 212 - time elapsed - 5.2162981033325195 - total time elapsed - 1077.0736031532288 - wss - 0.3045673877658692\n",
      "Plot 213 - time elapsed - 6.2703588008880615 - total time elapsed - 1083.3439619541168 - wss - 0.3365343459411741\n",
      "Plot 214 - time elapsed - 5.619321346282959 - total time elapsed - 1088.9632833003998 - wss - 0.22272363866760944\n",
      "Plot 215 - time elapsed - 5.25230073928833 - total time elapsed - 1094.215584039688 - wss - 0.2443526875227683\n",
      "Plot 216 - time elapsed - 5.18329644203186 - total time elapsed - 1099.39888048172 - wss - 0.35250064499800143\n",
      "Plot 217 - time elapsed - 5.275301933288574 - total time elapsed - 1104.6741824150085 - wss - 0.2751594598741662\n",
      "Plot 218 - time elapsed - 5.820333003997803 - total time elapsed - 1110.4945154190063 - wss - 0.35467768899988233\n",
      "Plot 219 - time elapsed - 5.85933518409729 - total time elapsed - 1116.3538506031036 - wss - 0.3101466890223572\n"
     ]
    },
    {
     "name": "stdout",
     "output_type": "stream",
     "text": [
      "Plot 220 - time elapsed - 5.737328052520752 - total time elapsed - 1122.0911786556244 - wss - 0.42076743735171696\n",
      "Plot 221 - time elapsed - 5.7823309898376465 - total time elapsed - 1127.873509645462 - wss - 0.25731917933307824\n",
      "Plot 222 - time elapsed - 6.3643639087677 - total time elapsed - 1134.2378735542297 - wss - 0.3367448900098756\n",
      "Plot 223 - time elapsed - 6.600377798080444 - total time elapsed - 1140.8382513523102 - wss - 0.26078424878204043\n",
      "Plot 224 - time elapsed - 6.584376573562622 - total time elapsed - 1147.4226279258728 - wss - 0.3759969300329534\n",
      "Plot 225 - time elapsed - 5.421310186386108 - total time elapsed - 1152.843938112259 - wss - 0.23514402695551273\n",
      "0.21162699680134942\n",
      "Total time elapsed - 1152.843938112259\n"
     ]
    },
    {
     "data": {
      "text/plain": [
       "<seaborn.axisgrid.FacetGrid at 0x5aff080>"
      ]
     },
     "execution_count": 66,
     "metadata": {},
     "output_type": "execute_result"
    },
    {
     "data": {
      "image/png": "[encoded data removed]",
      "text/plain": [
       "<Figure size 402.875x360 with 1 Axes>"
      ]
     },
     "metadata": {
      "needs_background": "light"
     },
     "output_type": "display_data"
    }
   ],
   "source": [
    "hs_tz_dir_tp_months_sst_months_plot, wss2=do_kmeans(normalised_wavedata_dir_tp_months_sst_months, 'Hs', 'Tz')\n",
    "sns.lmplot('Hs', 'Tz', data=hs_tz_dir_tp_months_sst_months_plot, fit_reg=False, hue='closest')"
   ]
  },
  {
   "cell_type": "code",
   "execution_count": 67,
   "metadata": {},
   "outputs": [
    {
     "name": "stdout",
     "output_type": "stream",
     "text": [
      "Plot 1 - time elapsed - 5.168295860290527 - total time elapsed - 5.168295860290527 - wss - 0.45091589443011065\n",
      "Plot 2 - time elapsed - 4.412252426147461 - total time elapsed - 9.580548286437988 - wss - 0.45091589443011065\n",
      "Plot 3 - time elapsed - 4.083233594894409 - total time elapsed - 13.663781881332397 - wss - 0.0368960759417886\n",
      "Plot 4 - time elapsed - 4.110234975814819 - total time elapsed - 17.774016857147217 - wss - 0.4255091422594976\n",
      "Plot 5 - time elapsed - 3.8632211685180664 - total time elapsed - 21.637238025665283 - wss - 0.5586595098739114\n",
      "Plot 6 - time elapsed - 3.8652210235595703 - total time elapsed - 25.502459049224854 - wss - 0.5352684001779728\n",
      "Plot 7 - time elapsed - 3.9042234420776367 - total time elapsed - 29.40668249130249 - wss - 0.5104175330046101\n",
      "Plot 8 - time elapsed - 3.7522146701812744 - total time elapsed - 33.158897161483765 - wss - 0.03668458562931821\n",
      "Plot 9 - time elapsed - 3.928224802017212 - total time elapsed - 37.08712196350098 - wss - 0.5337762132226599\n",
      "Plot 10 - time elapsed - 3.9862279891967773 - total time elapsed - 41.073349952697754 - wss - 0.03668458562931821\n",
      "Plot 11 - time elapsed - 3.8782217502593994 - total time elapsed - 44.95157170295715 - wss - 0.036313737112480586\n",
      "Plot 12 - time elapsed - 3.9752273559570312 - total time elapsed - 48.926799058914185 - wss - 0.47251024998532265\n",
      "Plot 13 - time elapsed - 4.040231227874756 - total time elapsed - 52.96703028678894 - wss - 0.0368960759417886\n",
      "Plot 14 - time elapsed - 3.8772218227386475 - total time elapsed - 56.84425210952759 - wss - 0.035276372638701654\n",
      "Plot 15 - time elapsed - 5.095291376113892 - total time elapsed - 61.93954348564148 - wss - 0.478742591532045\n",
      "Plot 16 - time elapsed - 4.401251792907715 - total time elapsed - 66.3407952785492 - wss - 0.037034578331304656\n",
      "Plot 17 - time elapsed - 4.348248720169067 - total time elapsed - 70.68904399871826 - wss - 0.035514300769992777\n",
      "Plot 18 - time elapsed - 3.939225196838379 - total time elapsed - 74.62826919555664 - wss - 0.03613426133242596\n",
      "Plot 19 - time elapsed - 3.856220245361328 - total time elapsed - 78.48448944091797 - wss - 0.5104175330046101\n",
      "Plot 20 - time elapsed - 3.7722156047821045 - total time elapsed - 82.25670504570007 - wss - 0.03656813905682918\n",
      "Plot 21 - time elapsed - 3.8632211685180664 - total time elapsed - 86.11992621421814 - wss - 0.035379689141854076\n",
      "Plot 22 - time elapsed - 3.7652153968811035 - total time elapsed - 89.88514161109924 - wss - 0.03627669027943401\n",
      "Plot 23 - time elapsed - 4.093234062194824 - total time elapsed - 93.97837567329407 - wss - 0.036912487490740185\n",
      "Plot 24 - time elapsed - 3.9732272624969482 - total time elapsed - 97.95160293579102 - wss - 0.5104175330046101\n",
      "Plot 25 - time elapsed - 4.437253952026367 - total time elapsed - 102.38885688781738 - wss - 0.0366253277725831\n",
      "0.035276372638701654\n",
      "Plot 26 - time elapsed - 5.9133381843566895 - total time elapsed - 108.30219507217407 - wss - 0.45091589443011065\n",
      "Plot 27 - time elapsed - 5.396308422088623 - total time elapsed - 113.6985034942627 - wss - 0.35749992050496476\n",
      "Plot 28 - time elapsed - 5.109292030334473 - total time elapsed - 118.80779552459717 - wss - 0.036743847844777994\n",
      "Plot 29 - time elapsed - 4.8382768630981445 - total time elapsed - 123.64607238769531 - wss - 0.4255091422594976\n",
      "Plot 30 - time elapsed - 4.3572492599487305 - total time elapsed - 128.00332164764404 - wss - 0.5586595098739114\n",
      "Plot 31 - time elapsed - 4.201240539550781 - total time elapsed - 132.20456218719482 - wss - 0.18070908876280645\n",
      "Plot 32 - time elapsed - 3.8932223320007324 - total time elapsed - 136.09778451919556 - wss - 0.3065829502608891\n",
      "Plot 33 - time elapsed - 3.945225715637207 - total time elapsed - 140.04301023483276 - wss - 0.2964106537290438\n",
      "Plot 34 - time elapsed - 4.202240467071533 - total time elapsed - 144.2452507019043 - wss - 0.3274045180469088\n",
      "Plot 35 - time elapsed - 4.340248346328735 - total time elapsed - 148.58549904823303 - wss - 0.2964106537290438\n",
      "Plot 36 - time elapsed - 4.133236646652222 - total time elapsed - 152.71873569488525 - wss - 0.06317504182754921\n",
      "Plot 37 - time elapsed - 4.229241847991943 - total time elapsed - 156.9479775428772 - wss - 0.2903676576165956\n",
      "Plot 38 - time elapsed - 4.084233283996582 - total time elapsed - 161.03221082687378 - wss - 0.2543910105088924\n",
      "Plot 39 - time elapsed - 3.975227117538452 - total time elapsed - 165.00743794441223 - wss - 0.38667436438327285\n",
      "Plot 40 - time elapsed - 4.465255260467529 - total time elapsed - 169.47269320487976 - wss - 0.31931357635087154\n",
      "Plot 41 - time elapsed - 5.26430082321167 - total time elapsed - 174.73699402809143 - wss - 0.05534920842626463\n",
      "Plot 42 - time elapsed - 4.450254440307617 - total time elapsed - 179.18724846839905 - wss - 0.30737868323258694\n",
      "Plot 43 - time elapsed - 3.9702272415161133 - total time elapsed - 183.15747570991516 - wss - 0.4017987847941148\n",
      "Plot 44 - time elapsed - 3.9872281551361084 - total time elapsed - 187.14470386505127 - wss - 0.3065829502608891\n",
      "Plot 45 - time elapsed - 4.455255031585693 - total time elapsed - 191.59995889663696 - wss - 0.3382965665203914\n",
      "Plot 46 - time elapsed - 4.3732500076293945 - total time elapsed - 195.97320890426636 - wss - 0.34934151462408286\n",
      "Plot 47 - time elapsed - 4.148237466812134 - total time elapsed - 200.1214463710785 - wss - 0.33362652263995424\n",
      "Plot 48 - time elapsed - 4.108234882354736 - total time elapsed - 204.22968125343323 - wss - 0.20977170258581096\n",
      "Plot 49 - time elapsed - 4.154237508773804 - total time elapsed - 208.38391876220703 - wss - 0.34540121237367705\n",
      "Plot 50 - time elapsed - 4.080233573913574 - total time elapsed - 212.4641523361206 - wss - 0.2984514359668482\n",
      "0.036743847844777994\n",
      "Plot 51 - time elapsed - 4.089233875274658 - total time elapsed - 216.55338621139526 - wss - 0.35754258054791777\n",
      "Plot 52 - time elapsed - 4.1282360553741455 - total time elapsed - 220.6816222667694 - wss - 0.4348827248032235\n",
      "Plot 53 - time elapsed - 4.090234279632568 - total time elapsed - 224.77185654640198 - wss - 0.09561774092042619\n",
      "Plot 54 - time elapsed - 4.425252914428711 - total time elapsed - 229.1971094608307 - wss - 0.24885890661875015\n",
      "Plot 55 - time elapsed - 4.11823582649231 - total time elapsed - 233.315345287323 - wss - 0.44637759745308864\n",
      "Plot 56 - time elapsed - 4.3822503089904785 - total time elapsed - 237.69759559631348 - wss - 0.19640577711597204\n",
      "Plot 57 - time elapsed - 4.88227915763855 - total time elapsed - 242.57987475395203 - wss - 0.3222641011916276\n",
      "Plot 58 - time elapsed - 4.035230875015259 - total time elapsed - 246.61510562896729 - wss - 0.31328587812886166\n",
      "Plot 59 - time elapsed - 4.129236221313477 - total time elapsed - 250.74434185028076 - wss - 0.3102931991503146\n",
      "Plot 60 - time elapsed - 4.054231643676758 - total time elapsed - 254.79857349395752 - wss - 0.31328587812886166\n",
      "Plot 61 - time elapsed - 4.191239833831787 - total time elapsed - 258.9898133277893 - wss - 0.08253783422832664\n",
      "Plot 62 - time elapsed - 4.1312360763549805 - total time elapsed - 263.1210494041443 - wss - 0.3057384797432472\n",
      "Plot 63 - time elapsed - 4.059232234954834 - total time elapsed - 267.1802816390991 - wss - 0.2876364793006712\n",
      "Plot 64 - time elapsed - 4.584262132644653 - total time elapsed - 271.7645437717438 - wss - 0.38667436438327285\n",
      "Plot 65 - time elapsed - 4.168238401412964 - total time elapsed - 275.93278217315674 - wss - 0.3363870742945897\n",
      "Plot 66 - time elapsed - 4.320247173309326 - total time elapsed - 280.25302934646606 - wss - 0.1474875730908524\n",
      "Plot 67 - time elapsed - 4.290245294570923 - total time elapsed - 284.543274641037 - wss - 0.2849476395367374\n",
      "Plot 68 - time elapsed - 4.879279136657715 - total time elapsed - 289.4225537776947 - wss - 0.39424610876416566\n",
      "Plot 69 - time elapsed - 4.3772501945495605 - total time elapsed - 293.79980397224426 - wss - 0.3222641011916276\n",
      "Plot 70 - time elapsed - 4.358249187469482 - total time elapsed - 298.15805315971375 - wss - 0.35372041613329963\n",
      "Plot 71 - time elapsed - 4.120235443115234 - total time elapsed - 302.278288602829 - wss - 0.43724478689828145\n",
      "Plot 72 - time elapsed - 4.191239833831787 - total time elapsed - 306.46952843666077 - wss - 0.40907184009231806\n",
      "Plot 73 - time elapsed - 4.294245481491089 - total time elapsed - 310.76377391815186 - wss - 0.21216558202326077\n"
     ]
    },
    {
     "name": "stdout",
     "output_type": "stream",
     "text": [
      "Plot 74 - time elapsed - 5.065289735794067 - total time elapsed - 315.8290636539459 - wss - 0.2834775555098369\n",
      "Plot 75 - time elapsed - 4.202240467071533 - total time elapsed - 320.03130412101746 - wss - 0.38844180550442237\n",
      "0.08253783422832664\n",
      "Plot 76 - time elapsed - 4.441253900527954 - total time elapsed - 324.4725580215454 - wss - 0.33955989872232145\n",
      "Plot 77 - time elapsed - 4.622264385223389 - total time elapsed - 329.0948224067688 - wss - 0.4348827248032235\n",
      "Plot 78 - time elapsed - 4.412252426147461 - total time elapsed - 333.50707483291626 - wss - 0.11710251533010572\n",
      "Plot 79 - time elapsed - 4.706269025802612 - total time elapsed - 338.2133438587189 - wss - 0.26556477395530087\n",
      "Plot 80 - time elapsed - 4.56226110458374 - total time elapsed - 342.7756049633026 - wss - 0.26547711012848685\n",
      "Plot 81 - time elapsed - 4.401251792907715 - total time elapsed - 347.1768567562103 - wss - 0.19669785268151455\n",
      "Plot 82 - time elapsed - 4.384250640869141 - total time elapsed - 351.56110739707947 - wss - 0.35164303712620915\n",
      "Plot 83 - time elapsed - 4.269244194030762 - total time elapsed - 355.83035159111023 - wss - 0.3145904293388153\n",
      "Plot 84 - time elapsed - 4.416252613067627 - total time elapsed - 360.24660420417786 - wss - 0.3361166244816207\n",
      "Plot 85 - time elapsed - 4.269244194030762 - total time elapsed - 364.5158483982086 - wss - 0.3145904293388153\n",
      "Plot 86 - time elapsed - 4.294245719909668 - total time elapsed - 368.8100941181183 - wss - 0.24521454899543704\n",
      "Plot 87 - time elapsed - 4.283245086669922 - total time elapsed - 373.0933392047882 - wss - 0.3057384797432472\n",
      "Plot 88 - time elapsed - 4.508257627487183 - total time elapsed - 377.6015968322754 - wss - 0.320389148583219\n",
      "Plot 89 - time elapsed - 4.779273271560669 - total time elapsed - 382.38087010383606 - wss - 0.38667436438327285\n",
      "Plot 90 - time elapsed - 4.37024998664856 - total time elapsed - 386.7511200904846 - wss - 0.32394282859462603\n",
      "Plot 91 - time elapsed - 5.002286195755005 - total time elapsed - 391.7534062862396 - wss - 0.2149083049172216\n",
      "Plot 92 - time elapsed - 4.331247568130493 - total time elapsed - 396.0846538543701 - wss - 0.2868717656288712\n",
      "Plot 93 - time elapsed - 4.8312764167785645 - total time elapsed - 400.9159302711487 - wss - 0.43621481129205053\n",
      "Plot 94 - time elapsed - 5.236299514770508 - total time elapsed - 406.1522297859192 - wss - 0.35164303712620915\n",
      "Plot 95 - time elapsed - 6.851391792297363 - total time elapsed - 413.00362157821655 - wss - 0.32490770912552003\n",
      "Plot 96 - time elapsed - 7.31341814994812 - total time elapsed - 420.3170397281647 - wss - 0.45664719612925214\n",
      "Plot 97 - time elapsed - 6.482370615005493 - total time elapsed - 426.79941034317017 - wss - 0.42360906017662414\n",
      "Plot 98 - time elapsed - 4.933282375335693 - total time elapsed - 431.73269271850586 - wss - 0.2533367139194422\n",
      "Plot 99 - time elapsed - 4.311246633529663 - total time elapsed - 436.0439393520355 - wss - 0.2697750464326622\n",
      "Plot 100 - time elapsed - 4.453254699707031 - total time elapsed - 440.49719405174255 - wss - 0.2678028244377765\n",
      "0.11710251533010572\n",
      "Plot 101 - time elapsed - 4.711269378662109 - total time elapsed - 445.20846343040466 - wss - 0.3458598127249114\n",
      "Plot 102 - time elapsed - 5.019286870956421 - total time elapsed - 450.2277503013611 - wss - 0.20323658110335702\n",
      "Plot 103 - time elapsed - 4.616264343261719 - total time elapsed - 454.8440146446228 - wss - 0.1187608872337151\n",
      "Plot 104 - time elapsed - 4.702269077301025 - total time elapsed - 459.5462837219238 - wss - 0.277887223156633\n",
      "Plot 105 - time elapsed - 4.8412768840789795 - total time elapsed - 464.3875606060028 - wss - 0.4513797863579295\n",
      "Plot 106 - time elapsed - 4.9572837352752686 - total time elapsed - 469.3448443412781 - wss - 0.21268427701590573\n",
      "Plot 107 - time elapsed - 4.82827615737915 - total time elapsed - 474.1731204986572 - wss - 0.35590977237971944\n",
      "Plot 108 - time elapsed - 4.536259651184082 - total time elapsed - 478.7093801498413 - wss - 0.43284101373407546\n",
      "Plot 109 - time elapsed - 4.462255001068115 - total time elapsed - 483.1716351509094 - wss - 0.32888605361225265\n",
      "Plot 110 - time elapsed - 4.7212700843811035 - total time elapsed - 487.8929052352905 - wss - 0.43284101373407546\n",
      "Plot 111 - time elapsed - 4.884279251098633 - total time elapsed - 492.77718448638916 - wss - 0.39949523100878714\n",
      "Plot 112 - time elapsed - 4.445254564285278 - total time elapsed - 497.22243905067444 - wss - 0.44720183847414496\n",
      "Plot 113 - time elapsed - 4.3632493019104 - total time elapsed - 501.58568835258484 - wss - 0.25973925130736963\n",
      "Plot 114 - time elapsed - 4.3572492599487305 - total time elapsed - 505.94293761253357 - wss - 0.3213625571918448\n",
      "Plot 115 - time elapsed - 4.432253837585449 - total time elapsed - 510.375191450119 - wss - 0.31213506263025265\n",
      "Plot 116 - time elapsed - 4.535259246826172 - total time elapsed - 514.9104506969452 - wss - 0.24015599064053947\n",
      "Plot 117 - time elapsed - 4.361249685287476 - total time elapsed - 519.2717003822327 - wss - 0.2151878175393087\n",
      "Plot 118 - time elapsed - 4.4932568073272705 - total time elapsed - 523.7649571895599 - wss - 0.44358039399195937\n",
      "Plot 119 - time elapsed - 4.41125226020813 - total time elapsed - 528.1762094497681 - wss - 0.35590977237971944\n",
      "Plot 120 - time elapsed - 4.431253433227539 - total time elapsed - 532.6074628829956 - wss - 0.32490770912552003\n",
      "Plot 121 - time elapsed - 4.40425181388855 - total time elapsed - 537.0117146968842 - wss - 0.3072184633520302\n",
      "Plot 122 - time elapsed - 4.4862565994262695 - total time elapsed - 541.4979712963104 - wss - 0.4366638300184994\n",
      "Plot 123 - time elapsed - 4.155237674713135 - total time elapsed - 545.6532089710236 - wss - 0.2540309526581841\n",
      "Plot 124 - time elapsed - 4.416252613067627 - total time elapsed - 550.0694615840912 - wss - 0.3010221401673473\n",
      "Plot 125 - time elapsed - 4.444253921508789 - total time elapsed - 554.5137155056 - wss - 0.2539151744762217\n",
      "0.1187608872337151\n",
      "Plot 126 - time elapsed - 4.524258852005005 - total time elapsed - 559.037974357605 - wss - 0.23114306695909473\n",
      "Plot 127 - time elapsed - 4.536259412765503 - total time elapsed - 563.5742337703705 - wss - 0.2091415590778622\n",
      "Plot 128 - time elapsed - 4.4842565059661865 - total time elapsed - 568.0584902763367 - wss - 0.37979496007826974\n",
      "Plot 129 - time elapsed - 4.463255405426025 - total time elapsed - 572.5217456817627 - wss - 0.277887223156633\n",
      "Plot 130 - time elapsed - 4.640265464782715 - total time elapsed - 577.1620111465454 - wss - 0.2542484661436605\n",
      "Plot 131 - time elapsed - 5.111292362213135 - total time elapsed - 582.2733035087585 - wss - 0.22620740555175314\n",
      "Plot 132 - time elapsed - 4.648266077041626 - total time elapsed - 586.9215695858002 - wss - 0.3574738375257138\n",
      "Plot 133 - time elapsed - 4.562260866165161 - total time elapsed - 591.4838304519653 - wss - 0.4339236259149602\n",
      "Plot 134 - time elapsed - 4.6002631187438965 - total time elapsed - 596.0840935707092 - wss - 0.317684206486095\n",
      "Plot 135 - time elapsed - 4.706269264221191 - total time elapsed - 600.7903628349304 - wss - 0.4339236259149602\n",
      "Plot 136 - time elapsed - 4.501257658004761 - total time elapsed - 605.2916204929352 - wss - 0.4029674187234086\n",
      "Plot 137 - time elapsed - 4.524258852005005 - total time elapsed - 609.8158793449402 - wss - 0.45042811402566024\n",
      "Plot 138 - time elapsed - 4.537259578704834 - total time elapsed - 614.353138923645 - wss - 0.22697042042060206\n",
      "Plot 139 - time elapsed - 4.533259391784668 - total time elapsed - 618.8863983154297 - wss - 0.4129068458908613\n",
      "Plot 140 - time elapsed - 4.592262506484985 - total time elapsed - 623.4786608219147 - wss - 0.31802423146954806\n",
      "Plot 141 - time elapsed - 4.5932629108428955 - total time elapsed - 628.0719237327576 - wss - 0.40370248740726516\n",
      "Plot 142 - time elapsed - 4.512258052825928 - total time elapsed - 632.5841817855835 - wss - 0.3817860008175385\n",
      "Plot 143 - time elapsed - 4.518258571624756 - total time elapsed - 637.1024403572083 - wss - 0.48180488177131164\n",
      "Plot 144 - time elapsed - 4.563260793685913 - total time elapsed - 641.6657011508942 - wss - 0.3574738375257138\n",
      "Plot 145 - time elapsed - 4.462255239486694 - total time elapsed - 646.1279563903809 - wss - 0.32490770912552003\n",
      "Plot 146 - time elapsed - 4.4682557582855225 - total time elapsed - 650.5962121486664 - wss - 0.3147616129078751\n"
     ]
    },
    {
     "name": "stdout",
     "output_type": "stream",
     "text": [
      "Plot 147 - time elapsed - 4.52725887298584 - total time elapsed - 655.1234710216522 - wss - 0.4520123110840539\n",
      "Plot 148 - time elapsed - 4.3772501945495605 - total time elapsed - 659.5007212162018 - wss - 0.26442009022931245\n",
      "Plot 149 - time elapsed - 4.528259038925171 - total time elapsed - 664.028980255127 - wss - 0.35055460314457804\n",
      "Plot 150 - time elapsed - 4.434253692626953 - total time elapsed - 668.4632339477539 - wss - 0.2539151744762217\n",
      "0.2091415590778622\n",
      "Plot 151 - time elapsed - 4.763272285461426 - total time elapsed - 673.2265062332153 - wss - 0.2276620398300135\n",
      "Plot 152 - time elapsed - 4.736271142959595 - total time elapsed - 677.9627773761749 - wss - 0.2091415590778622\n",
      "Plot 153 - time elapsed - 4.663266897201538 - total time elapsed - 682.6260442733765 - wss - 0.37979496007826974\n",
      "Plot 154 - time elapsed - 4.888279438018799 - total time elapsed - 687.5143237113953 - wss - 0.28396877101336654\n",
      "Plot 155 - time elapsed - 4.755271911621094 - total time elapsed - 692.2695956230164 - wss - 0.2542484661436605\n",
      "Plot 156 - time elapsed - 4.7212700843811035 - total time elapsed - 696.9908657073975 - wss - 0.24157664935869735\n",
      "Plot 157 - time elapsed - 4.6052634716033936 - total time elapsed - 701.5961291790009 - wss - 0.5047904526482052\n",
      "Plot 158 - time elapsed - 4.559260606765747 - total time elapsed - 706.1553897857666 - wss - 0.3513429612487512\n",
      "Plot 159 - time elapsed - 4.752271890640259 - total time elapsed - 710.9076616764069 - wss - 0.3386656584717556\n",
      "Plot 160 - time elapsed - 4.928281784057617 - total time elapsed - 715.8359434604645 - wss - 0.3513429612487512\n",
      "Plot 161 - time elapsed - 4.878279209136963 - total time elapsed - 720.7142226696014 - wss - 0.4185573646387257\n",
      "Plot 162 - time elapsed - 4.675267457962036 - total time elapsed - 725.3894901275635 - wss - 0.4592377706855892\n",
      "Plot 163 - time elapsed - 4.673267126083374 - total time elapsed - 730.0627572536469 - wss - 0.4784280376849158\n",
      "Plot 164 - time elapsed - 4.6172637939453125 - total time elapsed - 734.6800210475922 - wss - 0.4160787716210163\n",
      "Plot 165 - time elapsed - 4.701268911361694 - total time elapsed - 739.3812899589539 - wss - 0.25837381545982996\n",
      "Plot 166 - time elapsed - 4.717269659042358 - total time elapsed - 744.0985596179962 - wss - 0.41724259002569275\n",
      "Plot 167 - time elapsed - 4.696268558502197 - total time elapsed - 748.7948281764984 - wss - 0.3986597937641926\n",
      "Plot 168 - time elapsed - 4.711269378662109 - total time elapsed - 753.5060975551605 - wss - 0.4982401514046967\n",
      "Plot 169 - time elapsed - 4.670267343521118 - total time elapsed - 758.1763648986816 - wss - 0.5047904526482052\n",
      "Plot 170 - time elapsed - 4.694268465042114 - total time elapsed - 762.8706333637238 - wss - 0.32490770912552003\n",
      "Plot 171 - time elapsed - 4.6002631187438965 - total time elapsed - 767.4708964824677 - wss - 0.3160384547696597\n",
      "Plot 172 - time elapsed - 4.7272703647613525 - total time elapsed - 772.198166847229 - wss - 0.29418161115252145\n",
      "Plot 173 - time elapsed - 4.586262226104736 - total time elapsed - 776.7844290733337 - wss - 0.24172800377571182\n",
      "Plot 174 - time elapsed - 4.70526909828186 - total time elapsed - 781.4896981716156 - wss - 0.35687154690266426\n",
      "Plot 175 - time elapsed - 4.730270624160767 - total time elapsed - 786.2199687957764 - wss - 0.2539151744762217\n",
      "0.2091415590778622\n",
      "Plot 176 - time elapsed - 4.872278690338135 - total time elapsed - 791.0922474861145 - wss - 0.2554697607455493\n",
      "Plot 177 - time elapsed - 4.811275243759155 - total time elapsed - 795.9035227298737 - wss - 0.30367945048330836\n",
      "Plot 178 - time elapsed - 4.751271724700928 - total time elapsed - 800.6547944545746 - wss - 0.4013474752023263\n",
      "Plot 179 - time elapsed - 4.778273105621338 - total time elapsed - 805.4330675601959 - wss - 0.31176977700142955\n",
      "Plot 180 - time elapsed - 4.788274049758911 - total time elapsed - 810.2213416099548 - wss - 0.3066616654493734\n",
      "Plot 181 - time elapsed - 4.850277423858643 - total time elapsed - 815.0716190338135 - wss - 0.23973378072726106\n",
      "Plot 182 - time elapsed - 4.873278617858887 - total time elapsed - 819.9448976516724 - wss - 0.5063906196658343\n",
      "Plot 183 - time elapsed - 4.700268983840942 - total time elapsed - 824.6451666355133 - wss - 0.3521181150315774\n",
      "Plot 184 - time elapsed - 4.824275970458984 - total time elapsed - 829.4694426059723 - wss - 0.3386656584717556\n",
      "Plot 185 - time elapsed - 4.676267623901367 - total time elapsed - 834.1457102298737 - wss - 0.3521181150315774\n",
      "Plot 186 - time elapsed - 5.029287576675415 - total time elapsed - 839.1749978065491 - wss - 0.42233312464075395\n",
      "Plot 187 - time elapsed - 4.771272659301758 - total time elapsed - 843.9462704658508 - wss - 0.4787561699309271\n",
      "Plot 188 - time elapsed - 5.003286123275757 - total time elapsed - 848.9495565891266 - wss - 0.4911151663190656\n",
      "Plot 189 - time elapsed - 4.781273603439331 - total time elapsed - 853.7308301925659 - wss - 0.42602951504470155\n",
      "Plot 190 - time elapsed - 4.795274257659912 - total time elapsed - 858.5261044502258 - wss - 0.2608988054040288\n",
      "Plot 191 - time elapsed - 4.834276437759399 - total time elapsed - 863.3603808879852 - wss - 0.5257040020780505\n",
      "Plot 192 - time elapsed - 4.764272689819336 - total time elapsed - 868.1246535778046 - wss - 0.3983576415145556\n",
      "Plot 193 - time elapsed - 4.734271049499512 - total time elapsed - 872.8589246273041 - wss - 0.49327559444816854\n",
      "Plot 194 - time elapsed - 4.890279531478882 - total time elapsed - 877.749204158783 - wss - 0.5063906196658343\n",
      "Plot 195 - time elapsed - 4.882279396057129 - total time elapsed - 882.6314835548401 - wss - 0.3339867966082482\n",
      "Plot 196 - time elapsed - 4.70526909828186 - total time elapsed - 887.336752653122 - wss - 0.3364810678176947\n",
      "Plot 197 - time elapsed - 4.938282489776611 - total time elapsed - 892.2750351428986 - wss - 0.30501531023131\n",
      "Plot 198 - time elapsed - 4.726270437240601 - total time elapsed - 897.0013055801392 - wss - 0.2251980194176137\n",
      "Plot 199 - time elapsed - 4.91028094291687 - total time elapsed - 901.911586523056 - wss - 0.32253872717556864\n",
      "Plot 200 - time elapsed - 4.786273956298828 - total time elapsed - 906.6978604793549 - wss - 0.25827552725450603\n",
      "0.2251980194176137\n",
      "Plot 201 - time elapsed - 5.0712902545928955 - total time elapsed - 911.7691507339478 - wss - 0.2917465421967818\n",
      "Plot 202 - time elapsed - 5.211297988891602 - total time elapsed - 916.9804487228394 - wss - 0.31254219052503235\n",
      "Plot 203 - time elapsed - 4.932282209396362 - total time elapsed - 921.9127309322357 - wss - 0.4013474752023263\n",
      "Plot 204 - time elapsed - 4.991285085678101 - total time elapsed - 926.9040160179138 - wss - 0.31176977700142955\n",
      "Plot 205 - time elapsed - 5.141294240951538 - total time elapsed - 932.0453102588654 - wss - 0.5068813824954443\n",
      "Plot 206 - time elapsed - 5.062289714813232 - total time elapsed - 937.1075999736786 - wss - 0.24296087899827049\n",
      "Plot 207 - time elapsed - 4.983285188674927 - total time elapsed - 942.0908851623535 - wss - 0.506786828456078\n",
      "Plot 208 - time elapsed - 4.961283445358276 - total time elapsed - 947.0521686077118 - wss - 0.3521181150315774\n",
      "Plot 209 - time elapsed - 5.223299026489258 - total time elapsed - 952.275467634201 - wss - 0.3386656584717556\n",
      "Plot 210 - time elapsed - 5.302303075790405 - total time elapsed - 957.5777707099915 - wss - 0.3521181150315774\n",
      "Plot 211 - time elapsed - 5.090291261672974 - total time elapsed - 962.6680619716644 - wss - 0.34796094603150446\n",
      "Plot 212 - time elapsed - 5.030287742614746 - total time elapsed - 967.6983497142792 - wss - 0.48502190406561385\n",
      "Plot 213 - time elapsed - 5.144294261932373 - total time elapsed - 972.8426439762115 - wss - 0.508365764865259\n",
      "Plot 214 - time elapsed - 4.898280143737793 - total time elapsed - 977.7409241199493 - wss - 0.36382969386489034\n",
      "Plot 215 - time elapsed - 5.107292413711548 - total time elapsed - 982.8482165336609 - wss - 0.2608988054040288\n",
      "Plot 216 - time elapsed - 5.198297023773193 - total time elapsed - 988.0465135574341 - wss - 0.531910528966841\n",
      "Plot 217 - time elapsed - 4.979285001754761 - total time elapsed - 993.0257985591888 - wss - 0.3886701112037091\n",
      "Plot 218 - time elapsed - 5.12829327583313 - total time elapsed - 998.154091835022 - wss - 0.5153594310684144\n",
      "Plot 219 - time elapsed - 5.017287254333496 - total time elapsed - 1003.1713790893555 - wss - 0.506786828456078\n"
     ]
    },
    {
     "name": "stdout",
     "output_type": "stream",
     "text": [
      "Plot 220 - time elapsed - 5.046288251876831 - total time elapsed - 1008.2176673412323 - wss - 0.3513877924685152\n",
      "Plot 221 - time elapsed - 4.8392767906188965 - total time elapsed - 1013.0569441318512 - wss - 0.3467984162873064\n",
      "Plot 222 - time elapsed - 5.104291677474976 - total time elapsed - 1018.1612358093262 - wss - 0.307572024198364\n",
      "Plot 223 - time elapsed - 4.920281410217285 - total time elapsed - 1023.0815172195435 - wss - 0.22753946056452679\n",
      "Plot 224 - time elapsed - 4.852277517318726 - total time elapsed - 1027.9337947368622 - wss - 0.32253872717556864\n",
      "Plot 225 - time elapsed - 4.980284929275513 - total time elapsed - 1032.9140796661377 - wss - 0.25827552725450603\n",
      "0.22753946056452679\n",
      "Total time elapsed - 1032.9140796661377\n"
     ]
    },
    {
     "data": {
      "text/plain": [
       "<seaborn.axisgrid.FacetGrid at 0x5b7da58>"
      ]
     },
     "execution_count": 67,
     "metadata": {},
     "output_type": "execute_result"
    },
    {
     "data": {
      "image/png": "[encoded data removed]",
      "text/plain": [
       "<Figure size 402.875x360 with 1 Axes>"
      ]
     },
     "metadata": {
      "needs_background": "light"
     },
     "output_type": "display_data"
    }
   ],
   "source": [
    "hs_tp_dir_tp_months_sst_months_plot, wss3=do_kmeans(normalised_wavedata_dir_tp_months_sst_months, 'Hs', 'Tp')\n",
    "sns.lmplot('Hs', 'Tp', data=hs_tp_dir_tp_months_sst_months_plot, fit_reg=False, hue='closest')"
   ]
  },
  {
   "cell_type": "code",
   "execution_count": 68,
   "metadata": {},
   "outputs": [
    {
     "name": "stdout",
     "output_type": "stream",
     "text": [
      "Plot 1 - time elapsed - 3.7602152824401855 - total time elapsed - 3.7602152824401855 - wss - 0.0723525846954024\n",
      "Plot 2 - time elapsed - 3.7832164764404297 - total time elapsed - 7.543431758880615 - wss - 0.0723525846954024\n",
      "Plot 3 - time elapsed - 3.705211877822876 - total time elapsed - 11.248643636703491 - wss - 0.0723525846954024\n",
      "Plot 4 - time elapsed - 3.7432141304016113 - total time elapsed - 14.991857767105103 - wss - 0.0723525846954024\n",
      "Plot 5 - time elapsed - 3.729213237762451 - total time elapsed - 18.721071004867554 - wss - 0.6394871679147376\n",
      "Plot 6 - time elapsed - 3.808217763900757 - total time elapsed - 22.52928876876831 - wss - 0.6543908764219277\n",
      "Plot 7 - time elapsed - 3.7532145977020264 - total time elapsed - 26.282503366470337 - wss - 0.547925818851505\n",
      "Plot 8 - time elapsed - 3.840219736099243 - total time elapsed - 30.12272310256958 - wss - 0.060538078980652874\n",
      "Plot 9 - time elapsed - 3.7622151374816895 - total time elapsed - 33.88493824005127 - wss - 0.540993420200879\n",
      "Plot 10 - time elapsed - 3.6662099361419678 - total time elapsed - 37.55114817619324 - wss - 0.060538078980652874\n",
      "Plot 11 - time elapsed - 3.826218843460083 - total time elapsed - 41.37736701965332 - wss - 0.060018481707898724\n",
      "Plot 12 - time elapsed - 3.695211172103882 - total time elapsed - 45.0725781917572 - wss - 0.0723525846954024\n",
      "Plot 13 - time elapsed - 3.699211835861206 - total time elapsed - 48.77179002761841 - wss - 0.0723525846954024\n",
      "Plot 14 - time elapsed - 3.716212511062622 - total time elapsed - 52.48800253868103 - wss - 0.06557830012380492\n",
      "Plot 15 - time elapsed - 3.7912168502807617 - total time elapsed - 56.27921938896179 - wss - 0.0723525846954024\n",
      "Plot 16 - time elapsed - 3.709212064743042 - total time elapsed - 59.988431453704834 - wss - 0.06174009086131876\n",
      "Plot 17 - time elapsed - 3.5522029399871826 - total time elapsed - 63.54063439369202 - wss - 0.059983811724056486\n",
      "Plot 18 - time elapsed - 3.7362136840820312 - total time elapsed - 67.27684807777405 - wss - 0.06560510395768848\n",
      "Plot 19 - time elapsed - 3.815218210220337 - total time elapsed - 71.09206628799438 - wss - 0.547925818851505\n",
      "Plot 20 - time elapsed - 3.676210403442383 - total time elapsed - 74.76827669143677 - wss - 0.06517925252911536\n",
      "Plot 21 - time elapsed - 3.7552149295806885 - total time elapsed - 78.52349162101746 - wss - 0.06015790093668373\n",
      "Plot 22 - time elapsed - 3.7972168922424316 - total time elapsed - 82.32070851325989 - wss - 0.06530548933387625\n",
      "Plot 23 - time elapsed - 3.7602152824401855 - total time elapsed - 86.08092379570007 - wss - 0.06521526152795315\n",
      "Plot 24 - time elapsed - 3.834219217300415 - total time elapsed - 89.91514301300049 - wss - 0.547925818851505\n",
      "Plot 25 - time elapsed - 3.7902166843414307 - total time elapsed - 93.70535969734192 - wss - 0.060462438767327\n",
      "0.059983811724056486\n",
      "Plot 26 - time elapsed - 3.919224262237549 - total time elapsed - 97.62458395957947 - wss - 0.0723525846954024\n",
      "Plot 27 - time elapsed - 3.827219009399414 - total time elapsed - 101.45180296897888 - wss - 0.06525010622830074\n",
      "Plot 28 - time elapsed - 3.827219009399414 - total time elapsed - 105.2790219783783 - wss - 0.06068835402637107\n",
      "Plot 29 - time elapsed - 3.937225103378296 - total time elapsed - 109.21624708175659 - wss - 0.0723525846954024\n",
      "Plot 30 - time elapsed - 3.840219497680664 - total time elapsed - 113.05646657943726 - wss - 0.6394871679147376\n",
      "Plot 31 - time elapsed - 3.8792219161987305 - total time elapsed - 116.93568849563599 - wss - 0.37511075621971723\n",
      "Plot 32 - time elapsed - 3.957226514816284 - total time elapsed - 120.89291501045227 - wss - 0.455407874433449\n",
      "Plot 33 - time elapsed - 3.939225196838379 - total time elapsed - 124.83214020729065 - wss - 0.4366037902202494\n",
      "Plot 34 - time elapsed - 4.02223014831543 - total time elapsed - 128.85437035560608 - wss - 0.4400402606754\n",
      "Plot 35 - time elapsed - 4.026230335235596 - total time elapsed - 132.88060069084167 - wss - 0.4366037902202494\n",
      "Plot 36 - time elapsed - 3.8692209720611572 - total time elapsed - 136.74982166290283 - wss - 0.09474344938855377\n",
      "Plot 37 - time elapsed - 3.930224895477295 - total time elapsed - 140.68004655838013 - wss - 0.06653287491738467\n",
      "Plot 38 - time elapsed - 3.922224521636963 - total time elapsed - 144.6022710800171 - wss - 0.39509075174556635\n",
      "Plot 39 - time elapsed - 4.0072290897369385 - total time elapsed - 148.60950016975403 - wss - 0.4458034336114288\n",
      "Plot 40 - time elapsed - 3.9972288608551025 - total time elapsed - 152.60672903060913 - wss - 0.06790308571721915\n",
      "Plot 41 - time elapsed - 3.8992230892181396 - total time elapsed - 156.50595211982727 - wss - 0.08750978740082546\n",
      "Plot 42 - time elapsed - 4.0032289028167725 - total time elapsed - 160.50918102264404 - wss - 0.379536673392908\n",
      "Plot 43 - time elapsed - 4.137236833572388 - total time elapsed - 164.64641785621643 - wss - 0.5165614223746615\n",
      "Plot 44 - time elapsed - 4.501257419586182 - total time elapsed - 169.1476752758026 - wss - 0.455407874433449\n",
      "Plot 45 - time elapsed - 4.542259693145752 - total time elapsed - 173.68993496894836 - wss - 0.06517925252911536\n",
      "Plot 46 - time elapsed - 4.085233688354492 - total time elapsed - 177.77516865730286 - wss - 0.4299104425369806\n",
      "Plot 47 - time elapsed - 4.34324836730957 - total time elapsed - 182.11841702461243 - wss - 0.44500079834230183\n",
      "Plot 48 - time elapsed - 4.120235443115234 - total time elapsed - 186.23865246772766 - wss - 0.18260089744942515\n",
      "Plot 49 - time elapsed - 4.022229909896851 - total time elapsed - 190.2608823776245 - wss - 0.4376028632911397\n",
      "Plot 50 - time elapsed - 3.825218915939331 - total time elapsed - 194.08610129356384 - wss - 0.43653222885740983\n",
      "0.06068835402637107\n",
      "Plot 51 - time elapsed - 4.076233148574829 - total time elapsed - 198.16233444213867 - wss - 0.06532651298659674\n",
      "Plot 52 - time elapsed - 4.154237508773804 - total time elapsed - 202.31657195091248 - wss - 0.4269885977604426\n",
      "Plot 53 - time elapsed - 4.146237134933472 - total time elapsed - 206.46280908584595 - wss - 0.09010250581477576\n",
      "Plot 54 - time elapsed - 4.194239854812622 - total time elapsed - 210.65704894065857 - wss - 0.08662446116440495\n",
      "Plot 55 - time elapsed - 4.073232889175415 - total time elapsed - 214.73028182983398 - wss - 0.6543908764219277\n",
      "Plot 56 - time elapsed - 4.1202356815338135 - total time elapsed - 218.8505175113678 - wss - 0.40010898184256477\n",
      "Plot 57 - time elapsed - 4.030230522155762 - total time elapsed - 222.88074803352356 - wss - 0.4890402062512401\n",
      "Plot 58 - time elapsed - 4.316246747970581 - total time elapsed - 227.19699478149414 - wss - 0.4612400167018125\n",
      "Plot 59 - time elapsed - 4.30324649810791 - total time elapsed - 231.50024127960205 - wss - 0.4619524958525211\n",
      "Plot 60 - time elapsed - 4.278244495391846 - total time elapsed - 235.7784857749939 - wss - 0.4612400167018125\n",
      "Plot 61 - time elapsed - 4.11823582649231 - total time elapsed - 239.8967216014862 - wss - 0.1075112282801579\n",
      "Plot 62 - time elapsed - 4.061232089996338 - total time elapsed - 243.95795369148254 - wss - 0.088866926787578\n",
      "Plot 63 - time elapsed - 4.1352362632751465 - total time elapsed - 248.0931899547577 - wss - 0.4382547127292436\n",
      "Plot 64 - time elapsed - 4.190239906311035 - total time elapsed - 252.28342986106873 - wss - 0.4458034336114288\n",
      "Plot 65 - time elapsed - 4.04923152923584 - total time elapsed - 256.33266139030457 - wss - 0.06664888723686424\n",
      "Plot 66 - time elapsed - 4.150237321853638 - total time elapsed - 260.4828987121582 - wss - 0.11741999189955829\n",
      "Plot 67 - time elapsed - 4.19323992729187 - total time elapsed - 264.6761386394501 - wss - 0.45499281777318895\n",
      "Plot 68 - time elapsed - 4.269244432449341 - total time elapsed - 268.9453830718994 - wss - 0.5165614223746615\n",
      "Plot 69 - time elapsed - 4.168238401412964 - total time elapsed - 273.1136214733124 - wss - 0.4890402062512401\n",
      "Plot 70 - time elapsed - 4.225241661071777 - total time elapsed - 277.33886313438416 - wss - 0.06517925252911536\n",
      "Plot 71 - time elapsed - 4.106234550476074 - total time elapsed - 281.44509768486023 - wss - 0.5131147720512003\n",
      "Plot 72 - time elapsed - 4.105234622955322 - total time elapsed - 285.55033230781555 - wss - 0.5804014357622794\n",
      "Plot 73 - time elapsed - 4.032230854034424 - total time elapsed - 289.58256316185 - wss - 0.18586109477752483\n"
     ]
    },
    {
     "name": "stdout",
     "output_type": "stream",
     "text": [
      "Plot 74 - time elapsed - 4.277244567871094 - total time elapsed - 293.85980772972107 - wss - 0.4376028632911397\n",
      "Plot 75 - time elapsed - 4.061232328414917 - total time elapsed - 297.921040058136 - wss - 0.4509220799685513\n",
      "0.06517925252911536\n",
      "Plot 76 - time elapsed - 4.448254585266113 - total time elapsed - 302.3692946434021 - wss - 0.06532651298659674\n",
      "Plot 77 - time elapsed - 4.221241235733032 - total time elapsed - 306.59053587913513 - wss - 0.4269885977604426\n",
      "Plot 78 - time elapsed - 4.208240985870361 - total time elapsed - 310.7987768650055 - wss - 0.09743793726535929\n",
      "Plot 79 - time elapsed - 4.178238868713379 - total time elapsed - 314.9770157337189 - wss - 0.09510888545788035\n",
      "Plot 80 - time elapsed - 4.521258592605591 - total time elapsed - 319.49827432632446 - wss - 0.060178573705063174\n",
      "Plot 81 - time elapsed - 4.162237882614136 - total time elapsed - 323.6605122089386 - wss - 0.40453194146792487\n",
      "Plot 82 - time elapsed - 4.2512431144714355 - total time elapsed - 327.91175532341003 - wss - 0.4065997599935329\n",
      "Plot 83 - time elapsed - 4.19223952293396 - total time elapsed - 332.103994846344 - wss - 0.46796809294225766\n",
      "Plot 84 - time elapsed - 4.156237840652466 - total time elapsed - 336.26023268699646 - wss - 0.5468015541622616\n",
      "Plot 85 - time elapsed - 4.191239833831787 - total time elapsed - 340.45147252082825 - wss - 0.46796809294225766\n",
      "Plot 86 - time elapsed - 4.261243581771851 - total time elapsed - 344.7127161026001 - wss - 0.1075112282801579\n",
      "Plot 87 - time elapsed - 4.185239553451538 - total time elapsed - 348.89795565605164 - wss - 0.088866926787578\n",
      "Plot 88 - time elapsed - 4.2392425537109375 - total time elapsed - 353.1371982097626 - wss - 0.09310857771459927\n",
      "Plot 89 - time elapsed - 4.307246208190918 - total time elapsed - 357.4444444179535 - wss - 0.4458034336114288\n",
      "Plot 90 - time elapsed - 4.198240280151367 - total time elapsed - 361.64268469810486 - wss - 0.5896073095244745\n",
      "Plot 91 - time elapsed - 4.269244194030762 - total time elapsed - 365.9119288921356 - wss - 0.4843702375312383\n",
      "Plot 92 - time elapsed - 4.287245273590088 - total time elapsed - 370.1991741657257 - wss - 0.45757899077829955\n",
      "Plot 93 - time elapsed - 4.296245813369751 - total time elapsed - 374.49541997909546 - wss - 0.5058756589932409\n",
      "Plot 94 - time elapsed - 4.257243394851685 - total time elapsed - 378.75266337394714 - wss - 0.4065997599935329\n",
      "Plot 95 - time elapsed - 4.255243539810181 - total time elapsed - 383.0079069137573 - wss - 0.5632451971793929\n",
      "Plot 96 - time elapsed - 4.229241847991943 - total time elapsed - 387.23714876174927 - wss - 0.5131147720512003\n",
      "Plot 97 - time elapsed - 4.376250505447388 - total time elapsed - 391.61339926719666 - wss - 0.48939051914975895\n",
      "Plot 98 - time elapsed - 4.181239128112793 - total time elapsed - 395.79463839530945 - wss - 0.2097519814133454\n",
      "Plot 99 - time elapsed - 4.272244691848755 - total time elapsed - 400.0668830871582 - wss - 0.4376028632911397\n",
      "Plot 100 - time elapsed - 4.2462427616119385 - total time elapsed - 404.31312584877014 - wss - 0.33979108331173147\n",
      "0.060178573705063174\n",
      "Plot 101 - time elapsed - 4.342248201370239 - total time elapsed - 408.6553740501404 - wss - 0.08375366896788597\n",
      "Plot 102 - time elapsed - 4.40425181388855 - total time elapsed - 413.05962586402893 - wss - 0.4653138928742044\n",
      "Plot 103 - time elapsed - 4.30924654006958 - total time elapsed - 417.3688724040985 - wss - 0.09904024590543925\n",
      "Plot 104 - time elapsed - 4.44525408744812 - total time elapsed - 421.81412649154663 - wss - 0.11000123159962744\n",
      "Plot 105 - time elapsed - 4.39025092124939 - total time elapsed - 426.204377412796 - wss - 0.4817531216682438\n",
      "Plot 106 - time elapsed - 4.271244287490845 - total time elapsed - 430.47562170028687 - wss - 0.42026235972668763\n",
      "Plot 107 - time elapsed - 4.350248575210571 - total time elapsed - 434.82587027549744 - wss - 0.4116052036194287\n",
      "Plot 108 - time elapsed - 4.269243955612183 - total time elapsed - 439.0951142311096 - wss - 0.4517018206498147\n",
      "Plot 109 - time elapsed - 4.400251626968384 - total time elapsed - 443.495365858078 - wss - 0.47970995948428496\n",
      "Plot 110 - time elapsed - 4.368250131607056 - total time elapsed - 447.86361598968506 - wss - 0.4517018206498147\n",
      "Plot 111 - time elapsed - 4.645265817642212 - total time elapsed - 452.50888180732727 - wss - 0.4941574451100485\n",
      "Plot 112 - time elapsed - 4.333247661590576 - total time elapsed - 456.84212946891785 - wss - 0.5398433778798072\n",
      "Plot 113 - time elapsed - 4.634264945983887 - total time elapsed - 461.47639441490173 - wss - 0.1966851007372868\n",
      "Plot 114 - time elapsed - 4.506257772445679 - total time elapsed - 465.9826521873474 - wss - 0.45137091087224973\n",
      "Plot 115 - time elapsed - 4.735270977020264 - total time elapsed - 470.7179231643677 - wss - 0.5896073095244745\n",
      "Plot 116 - time elapsed - 4.423253059387207 - total time elapsed - 475.1411762237549 - wss - 0.14948739756626575\n",
      "Plot 117 - time elapsed - 4.356249094009399 - total time elapsed - 479.4974253177643 - wss - 0.4143058901395738\n",
      "Plot 118 - time elapsed - 4.380250692367554 - total time elapsed - 483.87767601013184 - wss - 0.5125712044218799\n",
      "Plot 119 - time elapsed - 4.410252332687378 - total time elapsed - 488.2879283428192 - wss - 0.4116052036194287\n",
      "Plot 120 - time elapsed - 4.6142637729644775 - total time elapsed - 492.9021921157837 - wss - 0.5632451971793929\n",
      "Plot 121 - time elapsed - 4.40425181388855 - total time elapsed - 497.30644392967224 - wss - 0.5561667354011925\n",
      "Plot 122 - time elapsed - 4.43925404548645 - total time elapsed - 501.7456979751587 - wss - 0.6098759617777108\n",
      "Plot 123 - time elapsed - 4.265244007110596 - total time elapsed - 506.0109419822693 - wss - 0.21064000868861993\n",
      "Plot 124 - time elapsed - 4.558260679244995 - total time elapsed - 510.5692026615143 - wss - 0.4649049747219948\n",
      "Plot 125 - time elapsed - 4.381250858306885 - total time elapsed - 514.9504535198212 - wss - 0.33979108331173147\n",
      "0.08375366896788597\n",
      "Plot 126 - time elapsed - 4.555260419845581 - total time elapsed - 519.5057139396667 - wss - 0.11198270822192195\n",
      "Plot 127 - time elapsed - 4.568261384963989 - total time elapsed - 524.0739753246307 - wss - 0.4698558389116182\n",
      "Plot 128 - time elapsed - 4.358249187469482 - total time elapsed - 528.4322245121002 - wss - 0.43627196357509745\n",
      "Plot 129 - time elapsed - 4.602263450622559 - total time elapsed - 533.0344879627228 - wss - 0.11000123159962744\n",
      "Plot 130 - time elapsed - 4.569261312484741 - total time elapsed - 537.6037492752075 - wss - 0.5776266381798295\n",
      "Plot 131 - time elapsed - 4.6212639808654785 - total time elapsed - 542.225013256073 - wss - 0.43690486303343506\n",
      "Plot 132 - time elapsed - 4.46625542640686 - total time elapsed - 546.6912686824799 - wss - 0.4137313955323385\n",
      "Plot 133 - time elapsed - 4.419252634048462 - total time elapsed - 551.1105213165283 - wss - 0.45393667238071445\n",
      "Plot 134 - time elapsed - 4.4762561321258545 - total time elapsed - 555.5867774486542 - wss - 0.47970995948428496\n",
      "Plot 135 - time elapsed - 4.519258499145508 - total time elapsed - 560.1060359477997 - wss - 0.45393667238071445\n",
      "Plot 136 - time elapsed - 4.4762561321258545 - total time elapsed - 564.5822920799255 - wss - 0.4979773932497867\n",
      "Plot 137 - time elapsed - 4.597262859344482 - total time elapsed - 569.17955493927 - wss - 0.5439656008893753\n",
      "Plot 138 - time elapsed - 4.667266845703125 - total time elapsed - 573.8468217849731 - wss - 0.14329652331924642\n",
      "Plot 139 - time elapsed - 4.4872565269470215 - total time elapsed - 578.3340783119202 - wss - 0.5312158435434764\n",
      "Plot 140 - time elapsed - 4.4862565994262695 - total time elapsed - 582.8203349113464 - wss - 0.4959601130564394\n",
      "Plot 141 - time elapsed - 4.508258104324341 - total time elapsed - 587.3285930156708 - wss - 0.3998987104813728\n",
      "Plot 142 - time elapsed - 4.408252000808716 - total time elapsed - 591.7368450164795 - wss - 0.3652041211501898\n",
      "Plot 143 - time elapsed - 4.5962629318237305 - total time elapsed - 596.3331079483032 - wss - 0.4092953482020993\n",
      "Plot 144 - time elapsed - 4.644265413284302 - total time elapsed - 600.9773733615875 - wss - 0.4137313955323385\n",
      "Plot 145 - time elapsed - 4.615263938903809 - total time elapsed - 605.5926373004913 - wss - 0.5632451971793929\n",
      "Plot 146 - time elapsed - 4.38425087928772 - total time elapsed - 609.976888179779 - wss - 0.5680865539598792\n"
     ]
    },
    {
     "name": "stdout",
     "output_type": "stream",
     "text": [
      "Plot 147 - time elapsed - 4.46025538444519 - total time elapsed - 614.4371435642242 - wss - 0.603804483727704\n",
      "Plot 148 - time elapsed - 4.4902567863464355 - total time elapsed - 618.9274003505707 - wss - 0.1966913316212733\n",
      "Plot 149 - time elapsed - 4.496257066726685 - total time elapsed - 623.4236574172974 - wss - 0.4937261262117239\n",
      "Plot 150 - time elapsed - 4.619264364242554 - total time elapsed - 628.0429217815399 - wss - 0.33979108331173147\n",
      "0.11000123159962744\n",
      "Plot 151 - time elapsed - 4.701269149780273 - total time elapsed - 632.7441909313202 - wss - 0.11198270822192195\n",
      "Plot 152 - time elapsed - 4.592262268066406 - total time elapsed - 637.3364531993866 - wss - 0.4698558389116182\n",
      "Plot 153 - time elapsed - 4.467255592346191 - total time elapsed - 641.8037087917328 - wss - 0.43627196357509745\n",
      "Plot 154 - time elapsed - 4.926281929016113 - total time elapsed - 646.7299907207489 - wss - 0.11508072113211071\n",
      "Plot 155 - time elapsed - 4.654266357421875 - total time elapsed - 651.3842570781708 - wss - 0.5776266381798295\n",
      "Plot 156 - time elapsed - 4.663266658782959 - total time elapsed - 656.0475237369537 - wss - 0.4688593009458655\n",
      "Plot 157 - time elapsed - 4.677267551422119 - total time elapsed - 660.7247912883759 - wss - 0.45908940667298825\n",
      "Plot 158 - time elapsed - 4.618264436721802 - total time elapsed - 665.3430557250977 - wss - 0.4546486258918165\n",
      "Plot 159 - time elapsed - 4.782273530960083 - total time elapsed - 670.1253292560577 - wss - 0.5025421955505508\n",
      "Plot 160 - time elapsed - 4.789273977279663 - total time elapsed - 674.9146032333374 - wss - 0.4546486258918165\n",
      "Plot 161 - time elapsed - 4.624264478683472 - total time elapsed - 679.5388677120209 - wss - 0.588784403791841\n",
      "Plot 162 - time elapsed - 4.648266077041626 - total time elapsed - 684.1871337890625 - wss - 0.5558550991679864\n",
      "Plot 163 - time elapsed - 4.80127477645874 - total time elapsed - 688.9884085655212 - wss - 0.4045834678580651\n",
      "Plot 164 - time elapsed - 4.535259485244751 - total time elapsed - 693.523668050766 - wss - 0.5335339463799387\n",
      "Plot 165 - time elapsed - 4.802274465560913 - total time elapsed - 698.3259425163269 - wss - 0.24462268548023827\n",
      "Plot 166 - time elapsed - 4.757272243499756 - total time elapsed - 703.0832147598267 - wss - 0.42608794722100385\n",
      "Plot 167 - time elapsed - 4.678267478942871 - total time elapsed - 707.7614822387695 - wss - 0.39660663738344476\n",
      "Plot 168 - time elapsed - 4.804275035858154 - total time elapsed - 712.5657572746277 - wss - 0.434720071144801\n",
      "Plot 169 - time elapsed - 4.7802734375 - total time elapsed - 717.3460307121277 - wss - 0.45908940667298825\n",
      "Plot 170 - time elapsed - 4.743271350860596 - total time elapsed - 722.0893020629883 - wss - 0.5632451971793929\n",
      "Plot 171 - time elapsed - 4.712269306182861 - total time elapsed - 726.8015713691711 - wss - 0.5693003854596028\n",
      "Plot 172 - time elapsed - 4.89728045463562 - total time elapsed - 731.6988518238068 - wss - 0.5900533350286236\n",
      "Plot 173 - time elapsed - 4.593262434005737 - total time elapsed - 736.2921142578125 - wss - 0.10131814322115482\n",
      "Plot 174 - time elapsed - 4.856277942657471 - total time elapsed - 741.14839220047 - wss - 0.5001845501970635\n",
      "Plot 175 - time elapsed - 4.8392767906188965 - total time elapsed - 745.9876689910889 - wss - 0.33979108331173147\n",
      "0.10131814322115482\n",
      "Plot 176 - time elapsed - 5.06028938293457 - total time elapsed - 751.0479583740234 - wss - 0.40616155415941785\n",
      "Plot 177 - time elapsed - 4.91728138923645 - total time elapsed - 755.9652397632599 - wss - 0.38172733003727016\n",
      "Plot 178 - time elapsed - 4.799274444580078 - total time elapsed - 760.76451420784 - wss - 0.47631951014033824\n",
      "Plot 179 - time elapsed - 4.9442830085754395 - total time elapsed - 765.7087972164154 - wss - 0.488865449551367\n",
      "Plot 180 - time elapsed - 4.8602776527404785 - total time elapsed - 770.5690748691559 - wss - 0.49734441859668593\n",
      "Plot 181 - time elapsed - 4.916281223297119 - total time elapsed - 775.485356092453 - wss - 0.4688593009458655\n",
      "Plot 182 - time elapsed - 4.990285396575928 - total time elapsed - 780.4756414890289 - wss - 0.45908940667298825\n",
      "Plot 183 - time elapsed - 4.811275243759155 - total time elapsed - 785.2869167327881 - wss - 0.4559693729330799\n",
      "Plot 184 - time elapsed - 4.911281108856201 - total time elapsed - 790.1981978416443 - wss - 0.5025421955505508\n",
      "Plot 185 - time elapsed - 4.772272825241089 - total time elapsed - 794.9704706668854 - wss - 0.4559693729330799\n",
      "Plot 186 - time elapsed - 4.784273624420166 - total time elapsed - 799.7547442913055 - wss - 0.5909098335872766\n",
      "Plot 187 - time elapsed - 4.73227071762085 - total time elapsed - 804.4870150089264 - wss - 0.5734929373968134\n",
      "Plot 188 - time elapsed - 4.889279365539551 - total time elapsed - 809.3762943744659 - wss - 0.4196662216088007\n",
      "Plot 189 - time elapsed - 4.809275150299072 - total time elapsed - 814.185569524765 - wss - 0.4973390135661219\n",
      "Plot 190 - time elapsed - 4.820275783538818 - total time elapsed - 819.0058453083038 - wss - 0.24769660931535964\n",
      "Plot 191 - time elapsed - 4.9702842235565186 - total time elapsed - 823.9761295318604 - wss - 0.26148226533881097\n",
      "Plot 192 - time elapsed - 4.7252702713012695 - total time elapsed - 828.7013998031616 - wss - 0.3818194902977321\n",
      "Plot 193 - time elapsed - 4.852277517318726 - total time elapsed - 833.5536773204803 - wss - 0.434720071144801\n",
      "Plot 194 - time elapsed - 4.824275970458984 - total time elapsed - 838.3779532909393 - wss - 0.45908940667298825\n",
      "Plot 195 - time elapsed - 4.846277236938477 - total time elapsed - 843.2242305278778 - wss - 0.5916109785524502\n",
      "Plot 196 - time elapsed - 4.830276250839233 - total time elapsed - 848.054506778717 - wss - 0.5825790523650481\n",
      "Plot 197 - time elapsed - 4.8442771434783936 - total time elapsed - 852.8987839221954 - wss - 0.5992510697903844\n",
      "Plot 198 - time elapsed - 4.69226861000061 - total time elapsed - 857.591052532196 - wss - 0.10131814322115482\n",
      "Plot 199 - time elapsed - 4.901280403137207 - total time elapsed - 862.4923329353333 - wss - 0.5001845501970635\n",
      "Plot 200 - time elapsed - 4.891279697418213 - total time elapsed - 867.3836126327515 - wss - 0.34510717815012093\n",
      "0.10131814322115482\n",
      "Plot 201 - time elapsed - 5.120292901992798 - total time elapsed - 872.5039055347443 - wss - 0.4485609677964356\n",
      "Plot 202 - time elapsed - 5.0912909507751465 - total time elapsed - 877.5951964855194 - wss - 0.3970754473164833\n",
      "Plot 203 - time elapsed - 4.93828272819519 - total time elapsed - 882.5334792137146 - wss - 0.47631951014033824\n",
      "Plot 204 - time elapsed - 4.9772844314575195 - total time elapsed - 887.5107636451721 - wss - 0.488865449551367\n",
      "Plot 205 - time elapsed - 5.017287015914917 - total time elapsed - 892.528050661087 - wss - 0.49734441859668593\n",
      "Plot 206 - time elapsed - 5.000285863876343 - total time elapsed - 897.5283365249634 - wss - 0.4719573246285153\n",
      "Plot 207 - time elapsed - 4.878279209136963 - total time elapsed - 902.4066157341003 - wss - 0.46017368701447975\n",
      "Plot 208 - time elapsed - 5.016287088394165 - total time elapsed - 907.4229028224945 - wss - 0.4559693729330799\n",
      "Plot 209 - time elapsed - 4.99828577041626 - total time elapsed - 912.4211885929108 - wss - 0.5025421955505508\n",
      "Plot 210 - time elapsed - 4.933282136917114 - total time elapsed - 917.3544707298279 - wss - 0.4559693729330799\n",
      "Plot 211 - time elapsed - 5.06028938293457 - total time elapsed - 922.4147601127625 - wss - 0.6148185517248855\n",
      "Plot 212 - time elapsed - 4.870278358459473 - total time elapsed - 927.2850384712219 - wss - 0.577064703720664\n",
      "Plot 213 - time elapsed - 5.069289922714233 - total time elapsed - 932.3543283939362 - wss - 0.4456589206073387\n",
      "Plot 214 - time elapsed - 5.031287908554077 - total time elapsed - 937.3856163024902 - wss - 0.4888547168011521\n",
      "Plot 215 - time elapsed - 4.92428183555603 - total time elapsed - 942.3098981380463 - wss - 0.24769660931535964\n",
      "Plot 216 - time elapsed - 5.024287223815918 - total time elapsed - 947.3341853618622 - wss - 0.2666152594111196\n",
      "Plot 217 - time elapsed - 4.91628098487854 - total time elapsed - 952.2504663467407 - wss - 0.3818194902977321\n",
      "Plot 218 - time elapsed - 4.896280288696289 - total time elapsed - 957.146746635437 - wss - 0.4687575855907707\n",
      "Plot 219 - time elapsed - 4.893279790878296 - total time elapsed - 962.0400264263153 - wss - 0.46017368701447975\n"
     ]
    },
    {
     "name": "stdout",
     "output_type": "stream",
     "text": [
      "Plot 220 - time elapsed - 5.042288303375244 - total time elapsed - 967.0823147296906 - wss - 0.6096198520140224\n",
      "Plot 221 - time elapsed - 5.3243043422698975 - total time elapsed - 972.4066190719604 - wss - 0.5427989304738913\n",
      "Plot 222 - time elapsed - 4.935282230377197 - total time elapsed - 977.3419013023376 - wss - 0.6017587039815687\n",
      "Plot 223 - time elapsed - 4.784273624420166 - total time elapsed - 982.1261749267578 - wss - 0.10299749791576095\n",
      "Plot 224 - time elapsed - 5.046288728713989 - total time elapsed - 987.1724636554718 - wss - 0.5001845501970635\n",
      "Plot 225 - time elapsed - 5.161295413970947 - total time elapsed - 992.3337590694427 - wss - 0.34510717815012093\n",
      "0.10299749791576095\n",
      "Total time elapsed - 992.3337590694427\n"
     ]
    },
    {
     "data": {
      "text/plain": [
       "<seaborn.axisgrid.FacetGrid at 0xd9d6ba8>"
      ]
     },
     "execution_count": 68,
     "metadata": {},
     "output_type": "execute_result"
    },
    {
     "data": {
      "image/png": "[encoded data removed]",
      "text/plain": [
       "<Figure size 402.875x360 with 1 Axes>"
      ]
     },
     "metadata": {
      "needs_background": "light"
     },
     "output_type": "display_data"
    }
   ],
   "source": [
    "hs_dir_tp_dir_tp_months_sst_months_plot, wss4=do_kmeans(normalised_wavedata_dir_tp_months_sst_months, 'Hs', 'Dir_Tp TRUE')\n",
    "sns.lmplot('Hs', 'Dir_Tp TRUE', data=hs_dir_tp_dir_tp_months_sst_months_plot, fit_reg=False, hue='closest')"
   ]
  },
  {
   "cell_type": "code",
   "execution_count": 69,
   "metadata": {},
   "outputs": [
    {
     "name": "stdout",
     "output_type": "stream",
     "text": [
      "Plot 1 - time elapsed - 3.963226556777954 - total time elapsed - 3.963226556777954 - wss - 0.44604477623435257\n",
      "Plot 2 - time elapsed - 3.8822219371795654 - total time elapsed - 7.8454484939575195 - wss - 0.4447467001522657\n",
      "Plot 3 - time elapsed - 3.8762216567993164 - total time elapsed - 11.721670150756836 - wss - 0.15087460150260798\n",
      "Plot 4 - time elapsed - 3.8852221965789795 - total time elapsed - 15.606892347335815 - wss - 0.4730335878027303\n",
      "Plot 5 - time elapsed - 3.8652212619781494 - total time elapsed - 19.472113609313965 - wss - 0.4421603631991058\n",
      "Plot 6 - time elapsed - 3.839219570159912 - total time elapsed - 23.311333179473877 - wss - 0.4251977423883193\n",
      "Plot 7 - time elapsed - 4.052232027053833 - total time elapsed - 27.36356520652771 - wss - 0.45519970454976194\n",
      "Plot 8 - time elapsed - 3.8472201824188232 - total time elapsed - 31.210785388946533 - wss - 0.15564046042779703\n",
      "Plot 9 - time elapsed - 3.8662209510803223 - total time elapsed - 35.077006340026855 - wss - 0.45216141102261553\n",
      "Plot 10 - time elapsed - 3.9052236080169678 - total time elapsed - 38.98222994804382 - wss - 0.15564046042779703\n",
      "Plot 11 - time elapsed - 3.8822219371795654 - total time elapsed - 42.86445188522339 - wss - 0.15589603991753595\n",
      "Plot 12 - time elapsed - 3.832219362258911 - total time elapsed - 46.6966712474823 - wss - 0.4538265624814366\n",
      "Plot 13 - time elapsed - 3.821218490600586 - total time elapsed - 50.517889738082886 - wss - 0.15087460150260798\n",
      "Plot 14 - time elapsed - 3.7902166843414307 - total time elapsed - 54.308106422424316 - wss - 0.15795444279499818\n",
      "Plot 15 - time elapsed - 3.845219850540161 - total time elapsed - 58.15332627296448 - wss - 0.4558994894073607\n",
      "Plot 16 - time elapsed - 3.814218044281006 - total time elapsed - 61.96754431724548 - wss - 0.15559553599125847\n",
      "Plot 17 - time elapsed - 3.8612208366394043 - total time elapsed - 65.82876515388489 - wss - 0.15706718209101628\n",
      "Plot 18 - time elapsed - 3.8662209510803223 - total time elapsed - 69.69498610496521 - wss - 0.13577303855417605\n",
      "Plot 19 - time elapsed - 3.9012234210968018 - total time elapsed - 73.59620952606201 - wss - 0.45519970454976194\n",
      "Plot 20 - time elapsed - 3.8962225914001465 - total time elapsed - 77.49243211746216 - wss - 0.12818948417632653\n",
      "Plot 21 - time elapsed - 3.7592148780822754 - total time elapsed - 81.25164699554443 - wss - 0.15729559486668288\n",
      "Plot 22 - time elapsed - 3.8692216873168945 - total time elapsed - 85.12086868286133 - wss - 0.1326330405210297\n",
      "Plot 23 - time elapsed - 3.802217483520508 - total time elapsed - 88.92308616638184 - wss - 0.1280959385434382\n",
      "Plot 24 - time elapsed - 3.8772218227386475 - total time elapsed - 92.80030798912048 - wss - 0.45519970454976194\n",
      "Plot 25 - time elapsed - 3.7922170162200928 - total time elapsed - 96.59252500534058 - wss - 0.155667761694182\n",
      "0.1280959385434382\n",
      "Plot 26 - time elapsed - 4.17223858833313 - total time elapsed - 100.7647635936737 - wss - 0.44604477623435257\n",
      "Plot 27 - time elapsed - 3.9042232036590576 - total time elapsed - 104.66898679733276 - wss - 0.29058849780883456\n",
      "Plot 28 - time elapsed - 3.921224355697632 - total time elapsed - 108.5902111530304 - wss - 0.13507454267302463\n",
      "Plot 29 - time elapsed - 4.05623197555542 - total time elapsed - 112.64644312858582 - wss - 0.44604477623435257\n",
      "Plot 30 - time elapsed - 3.9112236499786377 - total time elapsed - 116.55766677856445 - wss - 0.4421603631991058\n",
      "Plot 31 - time elapsed - 4.0062291622161865 - total time elapsed - 120.56389594078064 - wss - 0.22080356636653678\n",
      "Plot 32 - time elapsed - 3.9992289543151855 - total time elapsed - 124.56312489509583 - wss - 0.21266707923444048\n",
      "Plot 33 - time elapsed - 3.8912224769592285 - total time elapsed - 128.45434737205505 - wss - 0.4424910515244219\n",
      "Plot 34 - time elapsed - 3.964226722717285 - total time elapsed - 132.41857409477234 - wss - 0.4486108749245597\n",
      "Plot 35 - time elapsed - 3.9812276363372803 - total time elapsed - 136.39980173110962 - wss - 0.4424910515244219\n",
      "Plot 36 - time elapsed - 4.029230356216431 - total time elapsed - 140.42903208732605 - wss - 0.14624922210411234\n",
      "Plot 37 - time elapsed - 3.911223888397217 - total time elapsed - 144.34025597572327 - wss - 0.42504067848401594\n",
      "Plot 38 - time elapsed - 4.036230564117432 - total time elapsed - 148.3764865398407 - wss - 0.24971532290360385\n",
      "Plot 39 - time elapsed - 3.958226203918457 - total time elapsed - 152.33471274375916 - wss - 0.4509608843179491\n",
      "Plot 40 - time elapsed - 3.8772218227386475 - total time elapsed - 156.2119345664978 - wss - 0.36690448844924206\n",
      "Plot 41 - time elapsed - 3.8942224979400635 - total time elapsed - 160.10615706443787 - wss - 0.14005313181702186\n",
      "Plot 42 - time elapsed - 3.9822280406951904 - total time elapsed - 164.08838510513306 - wss - 0.4355962228771771\n",
      "Plot 43 - time elapsed - 3.976227283477783 - total time elapsed - 168.06461238861084 - wss - 0.33936807963646354\n",
      "Plot 44 - time elapsed - 3.8942229747772217 - total time elapsed - 171.95883536338806 - wss - 0.21266707923444048\n",
      "Plot 45 - time elapsed - 3.96722674369812 - total time elapsed - 175.92606210708618 - wss - 0.3034474267141121\n",
      "Plot 46 - time elapsed - 3.8902223110198975 - total time elapsed - 179.81628441810608 - wss - 0.4291090707201007\n",
      "Plot 47 - time elapsed - 3.9182240962982178 - total time elapsed - 183.7345085144043 - wss - 0.31671855180577035\n",
      "Plot 48 - time elapsed - 4.0252299308776855 - total time elapsed - 187.75973844528198 - wss - 0.24457548359276393\n",
      "Plot 49 - time elapsed - 4.061232566833496 - total time elapsed - 191.82097101211548 - wss - 0.35791229264454616\n",
      "Plot 50 - time elapsed - 3.972226858139038 - total time elapsed - 195.79319787025452 - wss - 0.4425155296611789\n",
      "0.13507454267302463\n",
      "Plot 51 - time elapsed - 4.2442426681518555 - total time elapsed - 200.03744053840637 - wss - 0.28895958936314425\n",
      "Plot 52 - time elapsed - 4.20024037361145 - total time elapsed - 204.23768091201782 - wss - 0.40391676274732435\n",
      "Plot 53 - time elapsed - 4.052231788635254 - total time elapsed - 208.28991270065308 - wss - 0.20536067686168222\n",
      "Plot 54 - time elapsed - 4.201240301132202 - total time elapsed - 212.49115300178528 - wss - 0.2849783278687789\n",
      "Plot 55 - time elapsed - 4.196239948272705 - total time elapsed - 216.68739295005798 - wss - 0.383493705665575\n",
      "Plot 56 - time elapsed - 4.307246208190918 - total time elapsed - 220.9946391582489 - wss - 0.23066506274063123\n",
      "Plot 57 - time elapsed - 4.114235162734985 - total time elapsed - 225.1088743209839 - wss - 0.22232254359736753\n",
      "Plot 58 - time elapsed - 4.217241525650024 - total time elapsed - 229.3261158466339 - wss - 0.25317636212146405\n",
      "Plot 59 - time elapsed - 4.1242356300354 - total time elapsed - 233.4503514766693 - wss - 0.4363284681842813\n",
      "Plot 60 - time elapsed - 4.208240747451782 - total time elapsed - 237.6585922241211 - wss - 0.25317636212146405\n",
      "Plot 61 - time elapsed - 4.107234716415405 - total time elapsed - 241.7658269405365 - wss - 0.21913799665357098\n",
      "Plot 62 - time elapsed - 4.178239107131958 - total time elapsed - 245.94406604766846 - wss - 0.3198948236354856\n",
      "Plot 63 - time elapsed - 4.154237747192383 - total time elapsed - 250.09830379486084 - wss - 0.44070998091702673\n",
      "Plot 64 - time elapsed - 4.154237270355225 - total time elapsed - 254.25254106521606 - wss - 0.4509608843179491\n",
      "Plot 65 - time elapsed - 4.188239812850952 - total time elapsed - 258.440780878067 - wss - 0.23959257023132385\n",
      "Plot 66 - time elapsed - 4.121235609054565 - total time elapsed - 262.5620164871216 - wss - 0.23418833582673199\n",
      "Plot 67 - time elapsed - 4.147237300872803 - total time elapsed - 266.7092537879944 - wss - 0.4324237609210008\n",
      "Plot 68 - time elapsed - 4.217241525650024 - total time elapsed - 270.9264953136444 - wss - 0.3755457753047298\n",
      "Plot 69 - time elapsed - 4.1362364292144775 - total time elapsed - 275.0627317428589 - wss - 0.22232254359736753\n",
      "Plot 70 - time elapsed - 4.2452428340911865 - total time elapsed - 279.3079745769501 - wss - 0.2800839267456404\n",
      "Plot 71 - time elapsed - 4.048231601715088 - total time elapsed - 283.35620617866516 - wss - 0.3287824681205893\n",
      "Plot 72 - time elapsed - 4.279244661331177 - total time elapsed - 287.63545083999634 - wss - 0.3673265888302198\n",
      "Plot 73 - time elapsed - 4.462255477905273 - total time elapsed - 292.0977063179016 - wss - 0.24717649830331015\n"
     ]
    },
    {
     "name": "stdout",
     "output_type": "stream",
     "text": [
      "Plot 74 - time elapsed - 4.22724175453186 - total time elapsed - 296.3249480724335 - wss - 0.3174612525461246\n",
      "Plot 75 - time elapsed - 4.09023380279541 - total time elapsed - 300.4151818752289 - wss - 0.2543444002568481\n",
      "0.20536067686168222\n",
      "Plot 76 - time elapsed - 4.3552491664886475 - total time elapsed - 304.77043104171753 - wss - 0.29123305469508315\n",
      "Plot 77 - time elapsed - 4.406251907348633 - total time elapsed - 309.17668294906616 - wss - 0.40391676274732435\n",
      "Plot 78 - time elapsed - 4.218241214752197 - total time elapsed - 313.39492416381836 - wss - 0.22413990258374356\n",
      "Plot 79 - time elapsed - 4.356249094009399 - total time elapsed - 317.75117325782776 - wss - 0.2952654209351061\n",
      "Plot 80 - time elapsed - 4.3552491664886475 - total time elapsed - 322.1064224243164 - wss - 0.24306207292403204\n",
      "Plot 81 - time elapsed - 4.206240892410278 - total time elapsed - 326.3126633167267 - wss - 0.24421247229817547\n",
      "Plot 82 - time elapsed - 4.3772501945495605 - total time elapsed - 330.68991351127625 - wss - 0.21400818252857012\n",
      "Plot 83 - time elapsed - 4.265244007110596 - total time elapsed - 334.95515751838684 - wss - 0.25851841794148345\n",
      "Plot 84 - time elapsed - 4.415252685546875 - total time elapsed - 339.3704102039337 - wss - 0.41525252115243894\n",
      "Plot 85 - time elapsed - 4.561260938644409 - total time elapsed - 343.9316711425781 - wss - 0.25851841794148345\n",
      "Plot 86 - time elapsed - 4.219241619110107 - total time elapsed - 348.15091276168823 - wss - 0.29080409598348095\n",
      "Plot 87 - time elapsed - 4.324247360229492 - total time elapsed - 352.4751601219177 - wss - 0.3198948236354856\n",
      "Plot 88 - time elapsed - 4.280244827270508 - total time elapsed - 356.75540494918823 - wss - 0.2444124791482418\n",
      "Plot 89 - time elapsed - 4.379250764846802 - total time elapsed - 361.13465571403503 - wss - 0.4509608843179491\n",
      "Plot 90 - time elapsed - 4.3712499141693115 - total time elapsed - 365.50590562820435 - wss - 0.3278042769496073\n",
      "Plot 91 - time elapsed - 4.3652496337890625 - total time elapsed - 369.8711552619934 - wss - 0.25970508395030134\n",
      "Plot 92 - time elapsed - 4.338248252868652 - total time elapsed - 374.20940351486206 - wss - 0.43605992846766317\n",
      "Plot 93 - time elapsed - 4.419252634048462 - total time elapsed - 378.6286561489105 - wss - 0.3077041693507553\n",
      "Plot 94 - time elapsed - 4.451254844665527 - total time elapsed - 383.07991099357605 - wss - 0.21400818252857012\n",
      "Plot 95 - time elapsed - 4.366250038146973 - total time elapsed - 387.446161031723 - wss - 0.3032357218326053\n",
      "Plot 96 - time elapsed - 4.507257461547852 - total time elapsed - 391.9534184932709 - wss - 0.32778785078873174\n",
      "Plot 97 - time elapsed - 4.323246955871582 - total time elapsed - 396.27666544914246 - wss - 0.29165547223395405\n",
      "Plot 98 - time elapsed - 4.32924747467041 - total time elapsed - 400.60591292381287 - wss - 0.2535346960340437\n",
      "Plot 99 - time elapsed - 4.53425931930542 - total time elapsed - 405.1401722431183 - wss - 0.2991743291566368\n",
      "Plot 100 - time elapsed - 4.316246747970581 - total time elapsed - 409.45641899108887 - wss - 0.29801012579015584\n",
      "0.21400818252857012\n",
      "Plot 101 - time elapsed - 4.504257440567017 - total time elapsed - 413.9606764316559 - wss - 0.29892359270893915\n",
      "Plot 102 - time elapsed - 4.585262060165405 - total time elapsed - 418.5459384918213 - wss - 0.23523448296165195\n",
      "Plot 103 - time elapsed - 4.421252727508545 - total time elapsed - 422.96719121932983 - wss - 0.22658220483967942\n",
      "Plot 104 - time elapsed - 4.560261011123657 - total time elapsed - 427.5274522304535 - wss - 0.3014665872531575\n",
      "Plot 105 - time elapsed - 4.57526159286499 - total time elapsed - 432.1027138233185 - wss - 0.3718957486815758\n",
      "Plot 106 - time elapsed - 4.508257865905762 - total time elapsed - 436.61097168922424 - wss - 0.29944263567056584\n",
      "Plot 107 - time elapsed - 4.588262557983398 - total time elapsed - 441.19923424720764 - wss - 0.218989652393338\n",
      "Plot 108 - time elapsed - 4.50725793838501 - total time elapsed - 445.70649218559265 - wss - 0.3368124109296484\n",
      "Plot 109 - time elapsed - 4.542259931564331 - total time elapsed - 450.248752117157 - wss - 0.3111099688931515\n",
      "Plot 110 - time elapsed - 4.4782562255859375 - total time elapsed - 454.7270083427429 - wss - 0.3368124109296484\n",
      "Plot 111 - time elapsed - 4.635265111923218 - total time elapsed - 459.36227345466614 - wss - 0.346096008993016\n",
      "Plot 112 - time elapsed - 4.669267177581787 - total time elapsed - 464.0315406322479 - wss - 0.3838535317674407\n",
      "Plot 113 - time elapsed - 4.564260959625244 - total time elapsed - 468.59580159187317 - wss - 0.3240858745776519\n",
      "Plot 114 - time elapsed - 4.556260585784912 - total time elapsed - 473.1520621776581 - wss - 0.3676097216456622\n",
      "Plot 115 - time elapsed - 4.538259267807007 - total time elapsed - 477.6903214454651 - wss - 0.3181553928668344\n",
      "Plot 116 - time elapsed - 4.484256744384766 - total time elapsed - 482.17457818984985 - wss - 0.3409263014680057\n",
      "Plot 117 - time elapsed - 4.402251958847046 - total time elapsed - 486.5768301486969 - wss - 0.24013661510346057\n",
      "Plot 118 - time elapsed - 4.516258239746094 - total time elapsed - 491.093088388443 - wss - 0.313407991477567\n",
      "Plot 119 - time elapsed - 4.496257066726685 - total time elapsed - 495.5893454551697 - wss - 0.218989652393338\n",
      "Plot 120 - time elapsed - 4.506257772445679 - total time elapsed - 500.09560322761536 - wss - 0.3032357218326053\n",
      "Plot 121 - time elapsed - 4.515258073806763 - total time elapsed - 504.6108613014221 - wss - 0.25196962430573133\n",
      "Plot 122 - time elapsed - 4.438253879547119 - total time elapsed - 509.04911518096924 - wss - 0.29846267619590344\n",
      "Plot 123 - time elapsed - 4.3532490730285645 - total time elapsed - 513.4023642539978 - wss - 0.25504840235032594\n",
      "Plot 124 - time elapsed - 4.539259672164917 - total time elapsed - 517.9416239261627 - wss - 0.3193782113424179\n",
      "Plot 125 - time elapsed - 4.551260232925415 - total time elapsed - 522.4928841590881 - wss - 0.33821747313192213\n",
      "0.218989652393338\n",
      "Plot 126 - time elapsed - 4.653265953063965 - total time elapsed - 527.1461501121521 - wss - 0.3002623174095658\n",
      "Plot 127 - time elapsed - 4.7342705726623535 - total time elapsed - 531.8804206848145 - wss - 0.24111371550349953\n",
      "Plot 128 - time elapsed - 5.104292154312134 - total time elapsed - 536.9847128391266 - wss - 0.3845732085575069\n",
      "Plot 129 - time elapsed - 4.700268745422363 - total time elapsed - 541.684981584549 - wss - 0.3014665872531575\n",
      "Plot 130 - time elapsed - 4.692268371582031 - total time elapsed - 546.377249956131 - wss - 0.3170985586294492\n",
      "Plot 131 - time elapsed - 4.576261758804321 - total time elapsed - 550.9535117149353 - wss - 0.30561852981725673\n",
      "Plot 132 - time elapsed - 4.606263637542725 - total time elapsed - 555.559775352478 - wss - 0.22148186385410817\n",
      "Plot 133 - time elapsed - 4.610263824462891 - total time elapsed - 560.1700391769409 - wss - 0.33891357855523857\n",
      "Plot 134 - time elapsed - 4.673267364501953 - total time elapsed - 564.8433065414429 - wss - 0.3111099688931515\n",
      "Plot 135 - time elapsed - 4.621264457702637 - total time elapsed - 569.4645709991455 - wss - 0.33891357855523857\n",
      "Plot 136 - time elapsed - 4.561260938644409 - total time elapsed - 574.0258319377899 - wss - 0.3502153864430529\n",
      "Plot 137 - time elapsed - 4.564260721206665 - total time elapsed - 578.5900926589966 - wss - 0.38734820557286825\n",
      "Plot 138 - time elapsed - 4.805274963378906 - total time elapsed - 583.3953676223755 - wss - 0.30345163481189563\n",
      "Plot 139 - time elapsed - 4.665266990661621 - total time elapsed - 588.0606346130371 - wss - 0.3722291367239916\n",
      "Plot 140 - time elapsed - 4.60926365852356 - total time elapsed - 592.6698982715607 - wss - 0.3261261336297224\n",
      "Plot 141 - time elapsed - 4.65726637840271 - total time elapsed - 597.3271646499634 - wss - 0.4256028958800485\n",
      "Plot 142 - time elapsed - 4.591262578964233 - total time elapsed - 601.9184272289276 - wss - 0.3125507367710837\n",
      "Plot 143 - time elapsed - 4.638265371322632 - total time elapsed - 606.5566926002502 - wss - 0.3397779100303373\n",
      "Plot 144 - time elapsed - 4.574261665344238 - total time elapsed - 611.1309542655945 - wss - 0.22148186385410817\n",
      "Plot 145 - time elapsed - 5.184296369552612 - total time elapsed - 616.3152506351471 - wss - 0.3032357218326053\n",
      "Plot 146 - time elapsed - 4.652266263961792 - total time elapsed - 620.9675168991089 - wss - 0.26287703775723514\n"
     ]
    },
    {
     "name": "stdout",
     "output_type": "stream",
     "text": [
      "Plot 147 - time elapsed - 4.694268465042114 - total time elapsed - 625.661785364151 - wss - 0.3316188459501418\n",
      "Plot 148 - time elapsed - 4.675267457962036 - total time elapsed - 630.337052822113 - wss - 0.3177630307215046\n",
      "Plot 149 - time elapsed - 4.654266119003296 - total time elapsed - 634.9913189411163 - wss - 0.3263224108389455\n",
      "Plot 150 - time elapsed - 4.775273084640503 - total time elapsed - 639.7665920257568 - wss - 0.32513832090926753\n",
      "0.22148186385410817\n",
      "Plot 151 - time elapsed - 4.813275337219238 - total time elapsed - 644.5798673629761 - wss - 0.27149031968081133\n",
      "Plot 152 - time elapsed - 4.820275545120239 - total time elapsed - 649.4001429080963 - wss - 0.24111371550349953\n",
      "Plot 153 - time elapsed - 4.602263450622559 - total time elapsed - 654.0024063587189 - wss - 0.3845732085575069\n",
      "Plot 154 - time elapsed - 4.719269752502441 - total time elapsed - 658.7216761112213 - wss - 0.30778251202052165\n",
      "Plot 155 - time elapsed - 4.735270738601685 - total time elapsed - 663.456946849823 - wss - 0.3170985586294492\n",
      "Plot 156 - time elapsed - 4.959283828735352 - total time elapsed - 668.4162306785583 - wss - 0.31762158657044437\n",
      "Plot 157 - time elapsed - 4.816275358200073 - total time elapsed - 673.2325060367584 - wss - 0.2766798129302104\n",
      "Plot 158 - time elapsed - 4.805275201797485 - total time elapsed - 678.0377812385559 - wss - 0.31286162868000833\n",
      "Plot 159 - time elapsed - 4.700268745422363 - total time elapsed - 682.7380499839783 - wss - 0.2922819759506018\n",
      "Plot 160 - time elapsed - 4.734270811080933 - total time elapsed - 687.4723207950592 - wss - 0.31286162868000833\n",
      "Plot 161 - time elapsed - 4.704268932342529 - total time elapsed - 692.1765897274017 - wss - 0.35706320865548996\n",
      "Plot 162 - time elapsed - 4.751271724700928 - total time elapsed - 696.9278614521027 - wss - 0.3926685528293707\n",
      "Plot 163 - time elapsed - 5.052289009094238 - total time elapsed - 701.9801504611969 - wss - 0.3247122205804572\n",
      "Plot 164 - time elapsed - 4.667267084121704 - total time elapsed - 706.6474175453186 - wss - 0.3742517394548082\n",
      "Plot 165 - time elapsed - 4.687268257141113 - total time elapsed - 711.3346858024597 - wss - 0.3007503212218282\n",
      "Plot 166 - time elapsed - 4.710269451141357 - total time elapsed - 716.0449552536011 - wss - 0.43162686654489457\n",
      "Plot 167 - time elapsed - 4.624264478683472 - total time elapsed - 720.6692197322845 - wss - 0.4271419809606905\n",
      "Plot 168 - time elapsed - 4.746271371841431 - total time elapsed - 725.415491104126 - wss - 0.34880716210492413\n",
      "Plot 169 - time elapsed - 4.738270998001099 - total time elapsed - 730.1537621021271 - wss - 0.2766798129302104\n",
      "Plot 170 - time elapsed - 4.9582836627960205 - total time elapsed - 735.1120457649231 - wss - 0.3032357218326053\n",
      "Plot 171 - time elapsed - 4.870278596878052 - total time elapsed - 739.9823243618011 - wss - 0.2644815529659434\n",
      "Plot 172 - time elapsed - 4.8362767696380615 - total time elapsed - 744.8186011314392 - wss - 0.3756287242237069\n",
      "Plot 173 - time elapsed - 4.7232701778411865 - total time elapsed - 749.5418713092804 - wss - 0.23682256663295637\n",
      "Plot 174 - time elapsed - 4.885279417037964 - total time elapsed - 754.4271507263184 - wss - 0.33179911204780954\n",
      "Plot 175 - time elapsed - 4.875278949737549 - total time elapsed - 759.3024296760559 - wss - 0.32513832090926753\n",
      "0.23682256663295637\n",
      "Plot 176 - time elapsed - 4.972284555435181 - total time elapsed - 764.2747142314911 - wss - 0.30298494345035276\n",
      "Plot 177 - time elapsed - 4.926281690597534 - total time elapsed - 769.2009959220886 - wss - 0.26186714951735685\n",
      "Plot 178 - time elapsed - 4.784273624420166 - total time elapsed - 773.9852695465088 - wss - 0.3886556278761043\n",
      "Plot 179 - time elapsed - 4.877279043197632 - total time elapsed - 778.8625485897064 - wss - 0.22326204563685548\n",
      "Plot 180 - time elapsed - 5.035288095474243 - total time elapsed - 783.8978366851807 - wss - 0.3178654871207538\n",
      "Plot 181 - time elapsed - 5.000285863876343 - total time elapsed - 788.898122549057 - wss - 0.36472793148334115\n",
      "Plot 182 - time elapsed - 4.899280071258545 - total time elapsed - 793.7974026203156 - wss - 0.2758117796274525\n",
      "Plot 183 - time elapsed - 4.816275119781494 - total time elapsed - 798.613677740097 - wss - 0.3142292093969127\n",
      "Plot 184 - time elapsed - 4.902280330657959 - total time elapsed - 803.515958070755 - wss - 0.2922819759506018\n",
      "Plot 185 - time elapsed - 4.972284555435181 - total time elapsed - 808.4882426261902 - wss - 0.3142292093969127\n",
      "Plot 186 - time elapsed - 5.041288137435913 - total time elapsed - 813.5295307636261 - wss - 0.3620056289208952\n",
      "Plot 187 - time elapsed - 4.863278388977051 - total time elapsed - 818.3928091526031 - wss - 0.39902989526290367\n",
      "Plot 188 - time elapsed - 5.101291656494141 - total time elapsed - 823.4941008090973 - wss - 0.3315214495257991\n",
      "Plot 189 - time elapsed - 4.784273386001587 - total time elapsed - 828.2783741950989 - wss - 0.3765336540271013\n",
      "Plot 190 - time elapsed - 4.867278575897217 - total time elapsed - 833.1456527709961 - wss - 0.3038679297437955\n",
      "Plot 191 - time elapsed - 4.940282583236694 - total time elapsed - 838.0859353542328 - wss - 0.47465027530816717\n",
      "Plot 192 - time elapsed - 4.936282396316528 - total time elapsed - 843.0222177505493 - wss - 0.4396368885288819\n",
      "Plot 193 - time elapsed - 4.998286008834839 - total time elapsed - 848.0205037593842 - wss - 0.34488609140976967\n",
      "Plot 194 - time elapsed - 4.885279417037964 - total time elapsed - 852.9057831764221 - wss - 0.2758117796274525\n",
      "Plot 195 - time elapsed - 4.9462831020355225 - total time elapsed - 857.8520662784576 - wss - 0.3099039014417612\n",
      "Plot 196 - time elapsed - 4.851277589797974 - total time elapsed - 862.7033438682556 - wss - 0.25246306956438314\n",
      "Plot 197 - time elapsed - 4.809274911880493 - total time elapsed - 867.5126187801361 - wss - 0.38676645336449\n",
      "Plot 198 - time elapsed - 4.9702842235565186 - total time elapsed - 872.4829030036926 - wss - 0.23682256663295637\n",
      "Plot 199 - time elapsed - 4.976284742355347 - total time elapsed - 877.459187746048 - wss - 0.3489654620839309\n",
      "Plot 200 - time elapsed - 5.02628755569458 - total time elapsed - 882.4854753017426 - wss - 0.32750408199101133\n",
      "0.22326204563685548\n",
      "Plot 201 - time elapsed - 5.111292362213135 - total time elapsed - 887.5967676639557 - wss - 0.268934824178812\n",
      "Plot 202 - time elapsed - 5.021287202835083 - total time elapsed - 892.6180548667908 - wss - 0.3132192510316325\n",
      "Plot 203 - time elapsed - 4.919281482696533 - total time elapsed - 897.5373363494873 - wss - 0.3886556278761043\n",
      "Plot 204 - time elapsed - 5.04628849029541 - total time elapsed - 902.5836248397827 - wss - 0.22326204563685548\n",
      "Plot 205 - time elapsed - 5.151294708251953 - total time elapsed - 907.7349195480347 - wss - 0.32148367671439676\n",
      "Plot 206 - time elapsed - 4.962283611297607 - total time elapsed - 912.6972031593323 - wss - 0.3694703533205711\n",
      "Plot 207 - time elapsed - 5.016286849975586 - total time elapsed - 917.7134900093079 - wss - 0.276728956621182\n",
      "Plot 208 - time elapsed - 5.093291282653809 - total time elapsed - 922.8067812919617 - wss - 0.3142292093969127\n",
      "Plot 209 - time elapsed - 5.089291334152222 - total time elapsed - 927.8960726261139 - wss - 0.2922819759506018\n",
      "Plot 210 - time elapsed - 5.115292310714722 - total time elapsed - 933.0113649368286 - wss - 0.3142292093969127\n",
      "Plot 211 - time elapsed - 5.052289009094238 - total time elapsed - 938.0636539459229 - wss - 0.34608534798222335\n",
      "Plot 212 - time elapsed - 5.542317152023315 - total time elapsed - 943.6059710979462 - wss - 0.40582316908392585\n",
      "Plot 213 - time elapsed - 5.214298248291016 - total time elapsed - 948.8202693462372 - wss - 0.3402415643345578\n",
      "Plot 214 - time elapsed - 5.173295736312866 - total time elapsed - 953.99356508255 - wss - 0.25499236016132987\n",
      "Plot 215 - time elapsed - 5.159295082092285 - total time elapsed - 959.1528601646423 - wss - 0.3038679297437955\n",
      "Plot 216 - time elapsed - 4.904280424118042 - total time elapsed - 964.0571405887604 - wss - 0.48023445922395985\n",
      "Plot 217 - time elapsed - 5.028287887573242 - total time elapsed - 969.0854284763336 - wss - 0.43347886736929764\n",
      "Plot 218 - time elapsed - 4.97828483581543 - total time elapsed - 974.063713312149 - wss - 0.35135896368815217\n",
      "Plot 219 - time elapsed - 4.939282417297363 - total time elapsed - 979.0029957294464 - wss - 0.276728956621182\n"
     ]
    },
    {
     "name": "stdout",
     "output_type": "stream",
     "text": [
      "Plot 220 - time elapsed - 5.041288137435913 - total time elapsed - 984.0442838668823 - wss - 0.3059842568461883\n",
      "Plot 221 - time elapsed - 4.981284856796265 - total time elapsed - 989.0255687236786 - wss - 0.2562261422454692\n",
      "Plot 222 - time elapsed - 4.980284690856934 - total time elapsed - 994.0058534145355 - wss - 0.39036473523915804\n",
      "Plot 223 - time elapsed - 4.875278949737549 - total time elapsed - 998.8811323642731 - wss - 0.2412016967498165\n",
      "Plot 224 - time elapsed - 5.2002973556518555 - total time elapsed - 1004.0814297199249 - wss - 0.3489654620839309\n",
      "Plot 225 - time elapsed - 5.227299213409424 - total time elapsed - 1009.3087289333344 - wss - 0.32750408199101133\n",
      "0.22326204563685548\n",
      "Total time elapsed - 1009.3087289333344\n"
     ]
    },
    {
     "data": {
      "text/plain": [
       "<seaborn.axisgrid.FacetGrid at 0xd62dba8>"
      ]
     },
     "execution_count": 69,
     "metadata": {},
     "output_type": "execute_result"
    },
    {
     "data": {
      "image/png": "[encoded data removed]",
      "text/plain": [
       "<Figure size 402.875x360 with 1 Axes>"
      ]
     },
     "metadata": {
      "needs_background": "light"
     },
     "output_type": "display_data"
    }
   ],
   "source": [
    "hs_sst_dir_tp_months_sst_months_plot, wss5=do_kmeans(normalised_wavedata_dir_tp_months_sst_months, 'Hs', 'SST')\n",
    "sns.lmplot('Hs', 'SST', data=hs_sst_dir_tp_months_sst_months_plot, fit_reg=False, hue='closest')"
   ]
  }
 ],
 "metadata": {
  "kernelspec": {
   "display_name": "Python 3",
   "language": "python",
   "name": "python3"
  },
  "language_info": {
   "codemirror_mode": {
    "name": "ipython",
    "version": 3
   },
   "file_extension": ".py",
   "mimetype": "text/x-python",
   "name": "python",
   "nbconvert_exporter": "python",
   "pygments_lexer": "ipython3",
   "version": "3.6.8"
  }
 },
 "nbformat": 4,
 "nbformat_minor": 2
}
